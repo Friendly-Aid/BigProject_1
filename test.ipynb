{
 "cells": [
  {
   "cell_type": "code",
   "id": "initial_id",
   "metadata": {
    "collapsed": true,
    "ExecuteTime": {
     "end_time": "2025-06-26T23:22:56.781359Z",
     "start_time": "2025-06-26T23:22:51.173175Z"
    }
   },
   "source": [
    "import pandas as pd\n",
    "import os\n",
    "import plotly.graph_objects as go\n",
    "\n",
    "path=os.getcwd()+\"\\\\data\\\\fire_archive_M-C61_626683.csv.xz\"\n",
    "data=pd.read_csv(path)\n",
    "data"
   ],
   "outputs": [
    {
     "data": {
      "text/plain": [
       "         latitude  longitude  brightness  scan  track    acq_date  acq_time  \\\n",
       "0         38.5422   -78.3047       304.8   2.8    1.6  2000-11-01       250   \n",
       "1         38.5451   -78.3107       309.9   2.8    1.6  2000-11-01       250   \n",
       "2         38.5563   -78.3084       309.4   2.8    1.6  2000-11-01       250   \n",
       "3         38.5586   -78.3170       302.3   2.8    1.6  2000-11-01       250   \n",
       "4         31.3393   -89.9124       304.9   1.0    1.0  2000-11-01       427   \n",
       "...           ...        ...         ...   ...    ...         ...       ...   \n",
       "2960417   41.6966   -99.1437       319.8   1.1    1.0  2025-01-31      2028   \n",
       "2960418   42.4419   -94.3783       300.6   1.2    1.1  2025-01-31      2028   \n",
       "2960419   41.4014   -97.9485       319.9   1.0    1.0  2025-01-31      2028   \n",
       "2960420   41.4032   -97.9369       322.9   1.0    1.0  2025-01-31      2028   \n",
       "2960421   42.7180  -120.4872       303.0   1.1    1.0  2025-01-31      2207   \n",
       "\n",
       "        satellite instrument  confidence  version  bright_t31   frp daynight  \\\n",
       "0           Terra      MODIS          23     6.03       280.9  40.3        N   \n",
       "1           Terra      MODIS          79     6.03       280.7  58.8        N   \n",
       "2           Terra      MODIS          70     6.03       280.4  54.5        N   \n",
       "3           Terra      MODIS          45     6.03       279.8  36.0        N   \n",
       "4           Terra      MODIS          62     6.03       287.5   8.5        N   \n",
       "...           ...        ...         ...      ...         ...   ...      ...   \n",
       "2960417      Aqua      MODIS          80    61.03       284.7  21.2        D   \n",
       "2960418      Aqua      MODIS          40    61.03       284.3   6.3        D   \n",
       "2960419      Aqua      MODIS          80    61.03       284.9  19.0        D   \n",
       "2960420      Aqua      MODIS          82    61.03       285.0  22.1        D   \n",
       "2960421      Aqua      MODIS          51    61.03       281.1   7.8        D   \n",
       "\n",
       "         type  \n",
       "0           0  \n",
       "1           0  \n",
       "2           0  \n",
       "3           0  \n",
       "4           0  \n",
       "...       ...  \n",
       "2960417     0  \n",
       "2960418     0  \n",
       "2960419     0  \n",
       "2960420     0  \n",
       "2960421     0  \n",
       "\n",
       "[2960422 rows x 15 columns]"
      ],
      "text/html": [
       "<div>\n",
       "<style scoped>\n",
       "    .dataframe tbody tr th:only-of-type {\n",
       "        vertical-align: middle;\n",
       "    }\n",
       "\n",
       "    .dataframe tbody tr th {\n",
       "        vertical-align: top;\n",
       "    }\n",
       "\n",
       "    .dataframe thead th {\n",
       "        text-align: right;\n",
       "    }\n",
       "</style>\n",
       "<table border=\"1\" class=\"dataframe\">\n",
       "  <thead>\n",
       "    <tr style=\"text-align: right;\">\n",
       "      <th></th>\n",
       "      <th>latitude</th>\n",
       "      <th>longitude</th>\n",
       "      <th>brightness</th>\n",
       "      <th>scan</th>\n",
       "      <th>track</th>\n",
       "      <th>acq_date</th>\n",
       "      <th>acq_time</th>\n",
       "      <th>satellite</th>\n",
       "      <th>instrument</th>\n",
       "      <th>confidence</th>\n",
       "      <th>version</th>\n",
       "      <th>bright_t31</th>\n",
       "      <th>frp</th>\n",
       "      <th>daynight</th>\n",
       "      <th>type</th>\n",
       "    </tr>\n",
       "  </thead>\n",
       "  <tbody>\n",
       "    <tr>\n",
       "      <th>0</th>\n",
       "      <td>38.5422</td>\n",
       "      <td>-78.3047</td>\n",
       "      <td>304.8</td>\n",
       "      <td>2.8</td>\n",
       "      <td>1.6</td>\n",
       "      <td>2000-11-01</td>\n",
       "      <td>250</td>\n",
       "      <td>Terra</td>\n",
       "      <td>MODIS</td>\n",
       "      <td>23</td>\n",
       "      <td>6.03</td>\n",
       "      <td>280.9</td>\n",
       "      <td>40.3</td>\n",
       "      <td>N</td>\n",
       "      <td>0</td>\n",
       "    </tr>\n",
       "    <tr>\n",
       "      <th>1</th>\n",
       "      <td>38.5451</td>\n",
       "      <td>-78.3107</td>\n",
       "      <td>309.9</td>\n",
       "      <td>2.8</td>\n",
       "      <td>1.6</td>\n",
       "      <td>2000-11-01</td>\n",
       "      <td>250</td>\n",
       "      <td>Terra</td>\n",
       "      <td>MODIS</td>\n",
       "      <td>79</td>\n",
       "      <td>6.03</td>\n",
       "      <td>280.7</td>\n",
       "      <td>58.8</td>\n",
       "      <td>N</td>\n",
       "      <td>0</td>\n",
       "    </tr>\n",
       "    <tr>\n",
       "      <th>2</th>\n",
       "      <td>38.5563</td>\n",
       "      <td>-78.3084</td>\n",
       "      <td>309.4</td>\n",
       "      <td>2.8</td>\n",
       "      <td>1.6</td>\n",
       "      <td>2000-11-01</td>\n",
       "      <td>250</td>\n",
       "      <td>Terra</td>\n",
       "      <td>MODIS</td>\n",
       "      <td>70</td>\n",
       "      <td>6.03</td>\n",
       "      <td>280.4</td>\n",
       "      <td>54.5</td>\n",
       "      <td>N</td>\n",
       "      <td>0</td>\n",
       "    </tr>\n",
       "    <tr>\n",
       "      <th>3</th>\n",
       "      <td>38.5586</td>\n",
       "      <td>-78.3170</td>\n",
       "      <td>302.3</td>\n",
       "      <td>2.8</td>\n",
       "      <td>1.6</td>\n",
       "      <td>2000-11-01</td>\n",
       "      <td>250</td>\n",
       "      <td>Terra</td>\n",
       "      <td>MODIS</td>\n",
       "      <td>45</td>\n",
       "      <td>6.03</td>\n",
       "      <td>279.8</td>\n",
       "      <td>36.0</td>\n",
       "      <td>N</td>\n",
       "      <td>0</td>\n",
       "    </tr>\n",
       "    <tr>\n",
       "      <th>4</th>\n",
       "      <td>31.3393</td>\n",
       "      <td>-89.9124</td>\n",
       "      <td>304.9</td>\n",
       "      <td>1.0</td>\n",
       "      <td>1.0</td>\n",
       "      <td>2000-11-01</td>\n",
       "      <td>427</td>\n",
       "      <td>Terra</td>\n",
       "      <td>MODIS</td>\n",
       "      <td>62</td>\n",
       "      <td>6.03</td>\n",
       "      <td>287.5</td>\n",
       "      <td>8.5</td>\n",
       "      <td>N</td>\n",
       "      <td>0</td>\n",
       "    </tr>\n",
       "    <tr>\n",
       "      <th>...</th>\n",
       "      <td>...</td>\n",
       "      <td>...</td>\n",
       "      <td>...</td>\n",
       "      <td>...</td>\n",
       "      <td>...</td>\n",
       "      <td>...</td>\n",
       "      <td>...</td>\n",
       "      <td>...</td>\n",
       "      <td>...</td>\n",
       "      <td>...</td>\n",
       "      <td>...</td>\n",
       "      <td>...</td>\n",
       "      <td>...</td>\n",
       "      <td>...</td>\n",
       "      <td>...</td>\n",
       "    </tr>\n",
       "    <tr>\n",
       "      <th>2960417</th>\n",
       "      <td>41.6966</td>\n",
       "      <td>-99.1437</td>\n",
       "      <td>319.8</td>\n",
       "      <td>1.1</td>\n",
       "      <td>1.0</td>\n",
       "      <td>2025-01-31</td>\n",
       "      <td>2028</td>\n",
       "      <td>Aqua</td>\n",
       "      <td>MODIS</td>\n",
       "      <td>80</td>\n",
       "      <td>61.03</td>\n",
       "      <td>284.7</td>\n",
       "      <td>21.2</td>\n",
       "      <td>D</td>\n",
       "      <td>0</td>\n",
       "    </tr>\n",
       "    <tr>\n",
       "      <th>2960418</th>\n",
       "      <td>42.4419</td>\n",
       "      <td>-94.3783</td>\n",
       "      <td>300.6</td>\n",
       "      <td>1.2</td>\n",
       "      <td>1.1</td>\n",
       "      <td>2025-01-31</td>\n",
       "      <td>2028</td>\n",
       "      <td>Aqua</td>\n",
       "      <td>MODIS</td>\n",
       "      <td>40</td>\n",
       "      <td>61.03</td>\n",
       "      <td>284.3</td>\n",
       "      <td>6.3</td>\n",
       "      <td>D</td>\n",
       "      <td>0</td>\n",
       "    </tr>\n",
       "    <tr>\n",
       "      <th>2960419</th>\n",
       "      <td>41.4014</td>\n",
       "      <td>-97.9485</td>\n",
       "      <td>319.9</td>\n",
       "      <td>1.0</td>\n",
       "      <td>1.0</td>\n",
       "      <td>2025-01-31</td>\n",
       "      <td>2028</td>\n",
       "      <td>Aqua</td>\n",
       "      <td>MODIS</td>\n",
       "      <td>80</td>\n",
       "      <td>61.03</td>\n",
       "      <td>284.9</td>\n",
       "      <td>19.0</td>\n",
       "      <td>D</td>\n",
       "      <td>0</td>\n",
       "    </tr>\n",
       "    <tr>\n",
       "      <th>2960420</th>\n",
       "      <td>41.4032</td>\n",
       "      <td>-97.9369</td>\n",
       "      <td>322.9</td>\n",
       "      <td>1.0</td>\n",
       "      <td>1.0</td>\n",
       "      <td>2025-01-31</td>\n",
       "      <td>2028</td>\n",
       "      <td>Aqua</td>\n",
       "      <td>MODIS</td>\n",
       "      <td>82</td>\n",
       "      <td>61.03</td>\n",
       "      <td>285.0</td>\n",
       "      <td>22.1</td>\n",
       "      <td>D</td>\n",
       "      <td>0</td>\n",
       "    </tr>\n",
       "    <tr>\n",
       "      <th>2960421</th>\n",
       "      <td>42.7180</td>\n",
       "      <td>-120.4872</td>\n",
       "      <td>303.0</td>\n",
       "      <td>1.1</td>\n",
       "      <td>1.0</td>\n",
       "      <td>2025-01-31</td>\n",
       "      <td>2207</td>\n",
       "      <td>Aqua</td>\n",
       "      <td>MODIS</td>\n",
       "      <td>51</td>\n",
       "      <td>61.03</td>\n",
       "      <td>281.1</td>\n",
       "      <td>7.8</td>\n",
       "      <td>D</td>\n",
       "      <td>0</td>\n",
       "    </tr>\n",
       "  </tbody>\n",
       "</table>\n",
       "<p>2960422 rows × 15 columns</p>\n",
       "</div>"
      ]
     },
     "execution_count": 2,
     "metadata": {},
     "output_type": "execute_result"
    }
   ],
   "execution_count": 2
  },
  {
   "metadata": {
    "ExecuteTime": {
     "end_time": "2025-06-26T23:23:09.172673Z",
     "start_time": "2025-06-26T23:22:59.312790Z"
    }
   },
   "cell_type": "code",
   "source": [
    "from datetime import timedelta\n",
    "data['acq_date']=pd.to_datetime(data['acq_date'])\n",
    "data['acq_datetime'] = data['acq_date'] + pd.Series([timedelta(minutes=i%100,hours=i//100) for i in data['acq_time']])\n",
    "data.drop('acq_time',axis=1,inplace=True)\n",
    "data.drop('acq_date',axis=1,inplace=True)\n",
    "data.drop('instrument',axis=1,inplace=True)\n",
    "data"
   ],
   "id": "4bd4378db4fe0803",
   "outputs": [
    {
     "data": {
      "text/plain": [
       "         latitude  longitude  brightness  scan  track satellite  confidence  \\\n",
       "0         38.5422   -78.3047       304.8   2.8    1.6     Terra          23   \n",
       "1         38.5451   -78.3107       309.9   2.8    1.6     Terra          79   \n",
       "2         38.5563   -78.3084       309.4   2.8    1.6     Terra          70   \n",
       "3         38.5586   -78.3170       302.3   2.8    1.6     Terra          45   \n",
       "4         31.3393   -89.9124       304.9   1.0    1.0     Terra          62   \n",
       "...           ...        ...         ...   ...    ...       ...         ...   \n",
       "2960417   41.6966   -99.1437       319.8   1.1    1.0      Aqua          80   \n",
       "2960418   42.4419   -94.3783       300.6   1.2    1.1      Aqua          40   \n",
       "2960419   41.4014   -97.9485       319.9   1.0    1.0      Aqua          80   \n",
       "2960420   41.4032   -97.9369       322.9   1.0    1.0      Aqua          82   \n",
       "2960421   42.7180  -120.4872       303.0   1.1    1.0      Aqua          51   \n",
       "\n",
       "         version  bright_t31   frp daynight  type        acq_datetime  \n",
       "0           6.03       280.9  40.3        N     0 2000-11-01 02:50:00  \n",
       "1           6.03       280.7  58.8        N     0 2000-11-01 02:50:00  \n",
       "2           6.03       280.4  54.5        N     0 2000-11-01 02:50:00  \n",
       "3           6.03       279.8  36.0        N     0 2000-11-01 02:50:00  \n",
       "4           6.03       287.5   8.5        N     0 2000-11-01 04:27:00  \n",
       "...          ...         ...   ...      ...   ...                 ...  \n",
       "2960417    61.03       284.7  21.2        D     0 2025-01-31 20:28:00  \n",
       "2960418    61.03       284.3   6.3        D     0 2025-01-31 20:28:00  \n",
       "2960419    61.03       284.9  19.0        D     0 2025-01-31 20:28:00  \n",
       "2960420    61.03       285.0  22.1        D     0 2025-01-31 20:28:00  \n",
       "2960421    61.03       281.1   7.8        D     0 2025-01-31 22:07:00  \n",
       "\n",
       "[2960422 rows x 13 columns]"
      ],
      "text/html": [
       "<div>\n",
       "<style scoped>\n",
       "    .dataframe tbody tr th:only-of-type {\n",
       "        vertical-align: middle;\n",
       "    }\n",
       "\n",
       "    .dataframe tbody tr th {\n",
       "        vertical-align: top;\n",
       "    }\n",
       "\n",
       "    .dataframe thead th {\n",
       "        text-align: right;\n",
       "    }\n",
       "</style>\n",
       "<table border=\"1\" class=\"dataframe\">\n",
       "  <thead>\n",
       "    <tr style=\"text-align: right;\">\n",
       "      <th></th>\n",
       "      <th>latitude</th>\n",
       "      <th>longitude</th>\n",
       "      <th>brightness</th>\n",
       "      <th>scan</th>\n",
       "      <th>track</th>\n",
       "      <th>satellite</th>\n",
       "      <th>confidence</th>\n",
       "      <th>version</th>\n",
       "      <th>bright_t31</th>\n",
       "      <th>frp</th>\n",
       "      <th>daynight</th>\n",
       "      <th>type</th>\n",
       "      <th>acq_datetime</th>\n",
       "    </tr>\n",
       "  </thead>\n",
       "  <tbody>\n",
       "    <tr>\n",
       "      <th>0</th>\n",
       "      <td>38.5422</td>\n",
       "      <td>-78.3047</td>\n",
       "      <td>304.8</td>\n",
       "      <td>2.8</td>\n",
       "      <td>1.6</td>\n",
       "      <td>Terra</td>\n",
       "      <td>23</td>\n",
       "      <td>6.03</td>\n",
       "      <td>280.9</td>\n",
       "      <td>40.3</td>\n",
       "      <td>N</td>\n",
       "      <td>0</td>\n",
       "      <td>2000-11-01 02:50:00</td>\n",
       "    </tr>\n",
       "    <tr>\n",
       "      <th>1</th>\n",
       "      <td>38.5451</td>\n",
       "      <td>-78.3107</td>\n",
       "      <td>309.9</td>\n",
       "      <td>2.8</td>\n",
       "      <td>1.6</td>\n",
       "      <td>Terra</td>\n",
       "      <td>79</td>\n",
       "      <td>6.03</td>\n",
       "      <td>280.7</td>\n",
       "      <td>58.8</td>\n",
       "      <td>N</td>\n",
       "      <td>0</td>\n",
       "      <td>2000-11-01 02:50:00</td>\n",
       "    </tr>\n",
       "    <tr>\n",
       "      <th>2</th>\n",
       "      <td>38.5563</td>\n",
       "      <td>-78.3084</td>\n",
       "      <td>309.4</td>\n",
       "      <td>2.8</td>\n",
       "      <td>1.6</td>\n",
       "      <td>Terra</td>\n",
       "      <td>70</td>\n",
       "      <td>6.03</td>\n",
       "      <td>280.4</td>\n",
       "      <td>54.5</td>\n",
       "      <td>N</td>\n",
       "      <td>0</td>\n",
       "      <td>2000-11-01 02:50:00</td>\n",
       "    </tr>\n",
       "    <tr>\n",
       "      <th>3</th>\n",
       "      <td>38.5586</td>\n",
       "      <td>-78.3170</td>\n",
       "      <td>302.3</td>\n",
       "      <td>2.8</td>\n",
       "      <td>1.6</td>\n",
       "      <td>Terra</td>\n",
       "      <td>45</td>\n",
       "      <td>6.03</td>\n",
       "      <td>279.8</td>\n",
       "      <td>36.0</td>\n",
       "      <td>N</td>\n",
       "      <td>0</td>\n",
       "      <td>2000-11-01 02:50:00</td>\n",
       "    </tr>\n",
       "    <tr>\n",
       "      <th>4</th>\n",
       "      <td>31.3393</td>\n",
       "      <td>-89.9124</td>\n",
       "      <td>304.9</td>\n",
       "      <td>1.0</td>\n",
       "      <td>1.0</td>\n",
       "      <td>Terra</td>\n",
       "      <td>62</td>\n",
       "      <td>6.03</td>\n",
       "      <td>287.5</td>\n",
       "      <td>8.5</td>\n",
       "      <td>N</td>\n",
       "      <td>0</td>\n",
       "      <td>2000-11-01 04:27:00</td>\n",
       "    </tr>\n",
       "    <tr>\n",
       "      <th>...</th>\n",
       "      <td>...</td>\n",
       "      <td>...</td>\n",
       "      <td>...</td>\n",
       "      <td>...</td>\n",
       "      <td>...</td>\n",
       "      <td>...</td>\n",
       "      <td>...</td>\n",
       "      <td>...</td>\n",
       "      <td>...</td>\n",
       "      <td>...</td>\n",
       "      <td>...</td>\n",
       "      <td>...</td>\n",
       "      <td>...</td>\n",
       "    </tr>\n",
       "    <tr>\n",
       "      <th>2960417</th>\n",
       "      <td>41.6966</td>\n",
       "      <td>-99.1437</td>\n",
       "      <td>319.8</td>\n",
       "      <td>1.1</td>\n",
       "      <td>1.0</td>\n",
       "      <td>Aqua</td>\n",
       "      <td>80</td>\n",
       "      <td>61.03</td>\n",
       "      <td>284.7</td>\n",
       "      <td>21.2</td>\n",
       "      <td>D</td>\n",
       "      <td>0</td>\n",
       "      <td>2025-01-31 20:28:00</td>\n",
       "    </tr>\n",
       "    <tr>\n",
       "      <th>2960418</th>\n",
       "      <td>42.4419</td>\n",
       "      <td>-94.3783</td>\n",
       "      <td>300.6</td>\n",
       "      <td>1.2</td>\n",
       "      <td>1.1</td>\n",
       "      <td>Aqua</td>\n",
       "      <td>40</td>\n",
       "      <td>61.03</td>\n",
       "      <td>284.3</td>\n",
       "      <td>6.3</td>\n",
       "      <td>D</td>\n",
       "      <td>0</td>\n",
       "      <td>2025-01-31 20:28:00</td>\n",
       "    </tr>\n",
       "    <tr>\n",
       "      <th>2960419</th>\n",
       "      <td>41.4014</td>\n",
       "      <td>-97.9485</td>\n",
       "      <td>319.9</td>\n",
       "      <td>1.0</td>\n",
       "      <td>1.0</td>\n",
       "      <td>Aqua</td>\n",
       "      <td>80</td>\n",
       "      <td>61.03</td>\n",
       "      <td>284.9</td>\n",
       "      <td>19.0</td>\n",
       "      <td>D</td>\n",
       "      <td>0</td>\n",
       "      <td>2025-01-31 20:28:00</td>\n",
       "    </tr>\n",
       "    <tr>\n",
       "      <th>2960420</th>\n",
       "      <td>41.4032</td>\n",
       "      <td>-97.9369</td>\n",
       "      <td>322.9</td>\n",
       "      <td>1.0</td>\n",
       "      <td>1.0</td>\n",
       "      <td>Aqua</td>\n",
       "      <td>82</td>\n",
       "      <td>61.03</td>\n",
       "      <td>285.0</td>\n",
       "      <td>22.1</td>\n",
       "      <td>D</td>\n",
       "      <td>0</td>\n",
       "      <td>2025-01-31 20:28:00</td>\n",
       "    </tr>\n",
       "    <tr>\n",
       "      <th>2960421</th>\n",
       "      <td>42.7180</td>\n",
       "      <td>-120.4872</td>\n",
       "      <td>303.0</td>\n",
       "      <td>1.1</td>\n",
       "      <td>1.0</td>\n",
       "      <td>Aqua</td>\n",
       "      <td>51</td>\n",
       "      <td>61.03</td>\n",
       "      <td>281.1</td>\n",
       "      <td>7.8</td>\n",
       "      <td>D</td>\n",
       "      <td>0</td>\n",
       "      <td>2025-01-31 22:07:00</td>\n",
       "    </tr>\n",
       "  </tbody>\n",
       "</table>\n",
       "<p>2960422 rows × 13 columns</p>\n",
       "</div>"
      ]
     },
     "execution_count": 3,
     "metadata": {},
     "output_type": "execute_result"
    }
   ],
   "execution_count": 3
  },
  {
   "metadata": {
    "ExecuteTime": {
     "end_time": "2025-06-26T23:23:12.734826Z",
     "start_time": "2025-06-26T23:23:12.424714Z"
    }
   },
   "cell_type": "code",
   "source": [
    "import calendar\n",
    "fig=go.Figure()\n",
    "month_count=data[data['confidence'] >= 80]['acq_datetime'].dt.month.value_counts().sort_index()\n",
    "fig.add_trace(go.Scatter(y=month_count.values,x=[calendar.month_abbr[m] for m in month_count.index]))\n",
    "fig.show()\n",
    "month_count.sort_values(ascending=False,inplace=True)\n",
    "fig=go.Figure()\n",
    "fig.add_trace(go.Bar(y=month_count.values,x=[calendar.month_abbr[m] for m in month_count.index]))"
   ],
   "id": "c693344824f55736",
   "outputs": [
    {
     "data": {
      "application/vnd.plotly.v1+json": {
       "data": [
        {
         "x": [
          "Jan",
          "Feb",
          "Mar",
          "Apr",
          "May",
          "Jun",
          "Jul",
          "Aug",
          "Sep",
          "Oct",
          "Nov",
          "Dec"
         ],
         "y": {
          "dtype": "i4",
          "bdata": "HGEAALd4AABs8gAAfRoBAG6zAAA8qAEAqJMCAOxYAwChJAIAlDoBABGiAACZVAAA"
         },
         "type": "scatter"
        }
       ],
       "layout": {
        "template": {
         "data": {
          "histogram2dcontour": [
           {
            "type": "histogram2dcontour",
            "colorbar": {
             "outlinewidth": 0,
             "ticks": ""
            },
            "colorscale": [
             [
              0.0,
              "#0d0887"
             ],
             [
              0.1111111111111111,
              "#46039f"
             ],
             [
              0.2222222222222222,
              "#7201a8"
             ],
             [
              0.3333333333333333,
              "#9c179e"
             ],
             [
              0.4444444444444444,
              "#bd3786"
             ],
             [
              0.5555555555555556,
              "#d8576b"
             ],
             [
              0.6666666666666666,
              "#ed7953"
             ],
             [
              0.7777777777777778,
              "#fb9f3a"
             ],
             [
              0.8888888888888888,
              "#fdca26"
             ],
             [
              1.0,
              "#f0f921"
             ]
            ]
           }
          ],
          "choropleth": [
           {
            "type": "choropleth",
            "colorbar": {
             "outlinewidth": 0,
             "ticks": ""
            }
           }
          ],
          "histogram2d": [
           {
            "type": "histogram2d",
            "colorbar": {
             "outlinewidth": 0,
             "ticks": ""
            },
            "colorscale": [
             [
              0.0,
              "#0d0887"
             ],
             [
              0.1111111111111111,
              "#46039f"
             ],
             [
              0.2222222222222222,
              "#7201a8"
             ],
             [
              0.3333333333333333,
              "#9c179e"
             ],
             [
              0.4444444444444444,
              "#bd3786"
             ],
             [
              0.5555555555555556,
              "#d8576b"
             ],
             [
              0.6666666666666666,
              "#ed7953"
             ],
             [
              0.7777777777777778,
              "#fb9f3a"
             ],
             [
              0.8888888888888888,
              "#fdca26"
             ],
             [
              1.0,
              "#f0f921"
             ]
            ]
           }
          ],
          "heatmap": [
           {
            "type": "heatmap",
            "colorbar": {
             "outlinewidth": 0,
             "ticks": ""
            },
            "colorscale": [
             [
              0.0,
              "#0d0887"
             ],
             [
              0.1111111111111111,
              "#46039f"
             ],
             [
              0.2222222222222222,
              "#7201a8"
             ],
             [
              0.3333333333333333,
              "#9c179e"
             ],
             [
              0.4444444444444444,
              "#bd3786"
             ],
             [
              0.5555555555555556,
              "#d8576b"
             ],
             [
              0.6666666666666666,
              "#ed7953"
             ],
             [
              0.7777777777777778,
              "#fb9f3a"
             ],
             [
              0.8888888888888888,
              "#fdca26"
             ],
             [
              1.0,
              "#f0f921"
             ]
            ]
           }
          ],
          "contourcarpet": [
           {
            "type": "contourcarpet",
            "colorbar": {
             "outlinewidth": 0,
             "ticks": ""
            }
           }
          ],
          "contour": [
           {
            "type": "contour",
            "colorbar": {
             "outlinewidth": 0,
             "ticks": ""
            },
            "colorscale": [
             [
              0.0,
              "#0d0887"
             ],
             [
              0.1111111111111111,
              "#46039f"
             ],
             [
              0.2222222222222222,
              "#7201a8"
             ],
             [
              0.3333333333333333,
              "#9c179e"
             ],
             [
              0.4444444444444444,
              "#bd3786"
             ],
             [
              0.5555555555555556,
              "#d8576b"
             ],
             [
              0.6666666666666666,
              "#ed7953"
             ],
             [
              0.7777777777777778,
              "#fb9f3a"
             ],
             [
              0.8888888888888888,
              "#fdca26"
             ],
             [
              1.0,
              "#f0f921"
             ]
            ]
           }
          ],
          "surface": [
           {
            "type": "surface",
            "colorbar": {
             "outlinewidth": 0,
             "ticks": ""
            },
            "colorscale": [
             [
              0.0,
              "#0d0887"
             ],
             [
              0.1111111111111111,
              "#46039f"
             ],
             [
              0.2222222222222222,
              "#7201a8"
             ],
             [
              0.3333333333333333,
              "#9c179e"
             ],
             [
              0.4444444444444444,
              "#bd3786"
             ],
             [
              0.5555555555555556,
              "#d8576b"
             ],
             [
              0.6666666666666666,
              "#ed7953"
             ],
             [
              0.7777777777777778,
              "#fb9f3a"
             ],
             [
              0.8888888888888888,
              "#fdca26"
             ],
             [
              1.0,
              "#f0f921"
             ]
            ]
           }
          ],
          "mesh3d": [
           {
            "type": "mesh3d",
            "colorbar": {
             "outlinewidth": 0,
             "ticks": ""
            }
           }
          ],
          "scatter": [
           {
            "marker": {
             "line": {
              "color": "#283442"
             }
            },
            "type": "scatter"
           }
          ],
          "parcoords": [
           {
            "type": "parcoords",
            "line": {
             "colorbar": {
              "outlinewidth": 0,
              "ticks": ""
             }
            }
           }
          ],
          "scatterpolargl": [
           {
            "type": "scatterpolargl",
            "marker": {
             "colorbar": {
              "outlinewidth": 0,
              "ticks": ""
             }
            }
           }
          ],
          "bar": [
           {
            "error_x": {
             "color": "#f2f5fa"
            },
            "error_y": {
             "color": "#f2f5fa"
            },
            "marker": {
             "line": {
              "color": "rgb(17,17,17)",
              "width": 0.5
             },
             "pattern": {
              "fillmode": "overlay",
              "size": 10,
              "solidity": 0.2
             }
            },
            "type": "bar"
           }
          ],
          "scattergeo": [
           {
            "type": "scattergeo",
            "marker": {
             "colorbar": {
              "outlinewidth": 0,
              "ticks": ""
             }
            }
           }
          ],
          "scatterpolar": [
           {
            "type": "scatterpolar",
            "marker": {
             "colorbar": {
              "outlinewidth": 0,
              "ticks": ""
             }
            }
           }
          ],
          "histogram": [
           {
            "marker": {
             "pattern": {
              "fillmode": "overlay",
              "size": 10,
              "solidity": 0.2
             }
            },
            "type": "histogram"
           }
          ],
          "scattergl": [
           {
            "marker": {
             "line": {
              "color": "#283442"
             }
            },
            "type": "scattergl"
           }
          ],
          "scatter3d": [
           {
            "type": "scatter3d",
            "line": {
             "colorbar": {
              "outlinewidth": 0,
              "ticks": ""
             }
            },
            "marker": {
             "colorbar": {
              "outlinewidth": 0,
              "ticks": ""
             }
            }
           }
          ],
          "scattermap": [
           {
            "type": "scattermap",
            "marker": {
             "colorbar": {
              "outlinewidth": 0,
              "ticks": ""
             }
            }
           }
          ],
          "scattermapbox": [
           {
            "type": "scattermapbox",
            "marker": {
             "colorbar": {
              "outlinewidth": 0,
              "ticks": ""
             }
            }
           }
          ],
          "scatterternary": [
           {
            "type": "scatterternary",
            "marker": {
             "colorbar": {
              "outlinewidth": 0,
              "ticks": ""
             }
            }
           }
          ],
          "scattercarpet": [
           {
            "type": "scattercarpet",
            "marker": {
             "colorbar": {
              "outlinewidth": 0,
              "ticks": ""
             }
            }
           }
          ],
          "carpet": [
           {
            "aaxis": {
             "endlinecolor": "#A2B1C6",
             "gridcolor": "#506784",
             "linecolor": "#506784",
             "minorgridcolor": "#506784",
             "startlinecolor": "#A2B1C6"
            },
            "baxis": {
             "endlinecolor": "#A2B1C6",
             "gridcolor": "#506784",
             "linecolor": "#506784",
             "minorgridcolor": "#506784",
             "startlinecolor": "#A2B1C6"
            },
            "type": "carpet"
           }
          ],
          "table": [
           {
            "cells": {
             "fill": {
              "color": "#506784"
             },
             "line": {
              "color": "rgb(17,17,17)"
             }
            },
            "header": {
             "fill": {
              "color": "#2a3f5f"
             },
             "line": {
              "color": "rgb(17,17,17)"
             }
            },
            "type": "table"
           }
          ],
          "barpolar": [
           {
            "marker": {
             "line": {
              "color": "rgb(17,17,17)",
              "width": 0.5
             },
             "pattern": {
              "fillmode": "overlay",
              "size": 10,
              "solidity": 0.2
             }
            },
            "type": "barpolar"
           }
          ],
          "pie": [
           {
            "automargin": true,
            "type": "pie"
           }
          ]
         },
         "layout": {
          "autotypenumbers": "strict",
          "colorway": [
           "#636efa",
           "#EF553B",
           "#00cc96",
           "#ab63fa",
           "#FFA15A",
           "#19d3f3",
           "#FF6692",
           "#B6E880",
           "#FF97FF",
           "#FECB52"
          ],
          "font": {
           "color": "#f2f5fa"
          },
          "hovermode": "closest",
          "hoverlabel": {
           "align": "left"
          },
          "paper_bgcolor": "rgb(17,17,17)",
          "plot_bgcolor": "rgb(17,17,17)",
          "polar": {
           "bgcolor": "rgb(17,17,17)",
           "angularaxis": {
            "gridcolor": "#506784",
            "linecolor": "#506784",
            "ticks": ""
           },
           "radialaxis": {
            "gridcolor": "#506784",
            "linecolor": "#506784",
            "ticks": ""
           }
          },
          "ternary": {
           "bgcolor": "rgb(17,17,17)",
           "aaxis": {
            "gridcolor": "#506784",
            "linecolor": "#506784",
            "ticks": ""
           },
           "baxis": {
            "gridcolor": "#506784",
            "linecolor": "#506784",
            "ticks": ""
           },
           "caxis": {
            "gridcolor": "#506784",
            "linecolor": "#506784",
            "ticks": ""
           }
          },
          "coloraxis": {
           "colorbar": {
            "outlinewidth": 0,
            "ticks": ""
           }
          },
          "colorscale": {
           "sequential": [
            [
             0.0,
             "#0d0887"
            ],
            [
             0.1111111111111111,
             "#46039f"
            ],
            [
             0.2222222222222222,
             "#7201a8"
            ],
            [
             0.3333333333333333,
             "#9c179e"
            ],
            [
             0.4444444444444444,
             "#bd3786"
            ],
            [
             0.5555555555555556,
             "#d8576b"
            ],
            [
             0.6666666666666666,
             "#ed7953"
            ],
            [
             0.7777777777777778,
             "#fb9f3a"
            ],
            [
             0.8888888888888888,
             "#fdca26"
            ],
            [
             1.0,
             "#f0f921"
            ]
           ],
           "sequentialminus": [
            [
             0.0,
             "#0d0887"
            ],
            [
             0.1111111111111111,
             "#46039f"
            ],
            [
             0.2222222222222222,
             "#7201a8"
            ],
            [
             0.3333333333333333,
             "#9c179e"
            ],
            [
             0.4444444444444444,
             "#bd3786"
            ],
            [
             0.5555555555555556,
             "#d8576b"
            ],
            [
             0.6666666666666666,
             "#ed7953"
            ],
            [
             0.7777777777777778,
             "#fb9f3a"
            ],
            [
             0.8888888888888888,
             "#fdca26"
            ],
            [
             1.0,
             "#f0f921"
            ]
           ],
           "diverging": [
            [
             0,
             "#8e0152"
            ],
            [
             0.1,
             "#c51b7d"
            ],
            [
             0.2,
             "#de77ae"
            ],
            [
             0.3,
             "#f1b6da"
            ],
            [
             0.4,
             "#fde0ef"
            ],
            [
             0.5,
             "#f7f7f7"
            ],
            [
             0.6,
             "#e6f5d0"
            ],
            [
             0.7,
             "#b8e186"
            ],
            [
             0.8,
             "#7fbc41"
            ],
            [
             0.9,
             "#4d9221"
            ],
            [
             1,
             "#276419"
            ]
           ]
          },
          "xaxis": {
           "gridcolor": "#283442",
           "linecolor": "#506784",
           "ticks": "",
           "title": {
            "standoff": 15
           },
           "zerolinecolor": "#283442",
           "automargin": true,
           "zerolinewidth": 2
          },
          "yaxis": {
           "gridcolor": "#283442",
           "linecolor": "#506784",
           "ticks": "",
           "title": {
            "standoff": 15
           },
           "zerolinecolor": "#283442",
           "automargin": true,
           "zerolinewidth": 2
          },
          "scene": {
           "xaxis": {
            "backgroundcolor": "rgb(17,17,17)",
            "gridcolor": "#506784",
            "linecolor": "#506784",
            "showbackground": true,
            "ticks": "",
            "zerolinecolor": "#C8D4E3",
            "gridwidth": 2
           },
           "yaxis": {
            "backgroundcolor": "rgb(17,17,17)",
            "gridcolor": "#506784",
            "linecolor": "#506784",
            "showbackground": true,
            "ticks": "",
            "zerolinecolor": "#C8D4E3",
            "gridwidth": 2
           },
           "zaxis": {
            "backgroundcolor": "rgb(17,17,17)",
            "gridcolor": "#506784",
            "linecolor": "#506784",
            "showbackground": true,
            "ticks": "",
            "zerolinecolor": "#C8D4E3",
            "gridwidth": 2
           }
          },
          "shapedefaults": {
           "line": {
            "color": "#f2f5fa"
           }
          },
          "annotationdefaults": {
           "arrowcolor": "#f2f5fa",
           "arrowhead": 0,
           "arrowwidth": 1
          },
          "geo": {
           "bgcolor": "rgb(17,17,17)",
           "landcolor": "rgb(17,17,17)",
           "subunitcolor": "#506784",
           "showland": true,
           "showlakes": true,
           "lakecolor": "rgb(17,17,17)"
          },
          "title": {
           "x": 0.05
          },
          "updatemenudefaults": {
           "bgcolor": "#506784",
           "borderwidth": 0
          },
          "sliderdefaults": {
           "bgcolor": "#C8D4E3",
           "borderwidth": 1,
           "bordercolor": "rgb(17,17,17)",
           "tickwidth": 0
          },
          "mapbox": {
           "style": "dark"
          }
         }
        }
       },
       "config": {
        "plotlyServerURL": "https://plot.ly"
       }
      }
     },
     "metadata": {},
     "output_type": "display_data"
    },
    {
     "data": {
      "application/vnd.plotly.v1+json": {
       "data": [
        {
         "x": [
          "Aug",
          "Jul",
          "Sep",
          "Jun",
          "Oct",
          "Apr",
          "Mar",
          "May",
          "Nov",
          "Feb",
          "Jan",
          "Dec"
         ],
         "y": {
          "dtype": "i4",
          "bdata": "7FgDAKiTAgChJAIAPKgBAJQ6AQB9GgEAbPIAAG6zAAARogAAt3gAABxhAACZVAAA"
         },
         "type": "bar"
        }
       ],
       "layout": {
        "template": {
         "data": {
          "histogram2dcontour": [
           {
            "type": "histogram2dcontour",
            "colorbar": {
             "outlinewidth": 0,
             "ticks": ""
            },
            "colorscale": [
             [
              0.0,
              "#0d0887"
             ],
             [
              0.1111111111111111,
              "#46039f"
             ],
             [
              0.2222222222222222,
              "#7201a8"
             ],
             [
              0.3333333333333333,
              "#9c179e"
             ],
             [
              0.4444444444444444,
              "#bd3786"
             ],
             [
              0.5555555555555556,
              "#d8576b"
             ],
             [
              0.6666666666666666,
              "#ed7953"
             ],
             [
              0.7777777777777778,
              "#fb9f3a"
             ],
             [
              0.8888888888888888,
              "#fdca26"
             ],
             [
              1.0,
              "#f0f921"
             ]
            ]
           }
          ],
          "choropleth": [
           {
            "type": "choropleth",
            "colorbar": {
             "outlinewidth": 0,
             "ticks": ""
            }
           }
          ],
          "histogram2d": [
           {
            "type": "histogram2d",
            "colorbar": {
             "outlinewidth": 0,
             "ticks": ""
            },
            "colorscale": [
             [
              0.0,
              "#0d0887"
             ],
             [
              0.1111111111111111,
              "#46039f"
             ],
             [
              0.2222222222222222,
              "#7201a8"
             ],
             [
              0.3333333333333333,
              "#9c179e"
             ],
             [
              0.4444444444444444,
              "#bd3786"
             ],
             [
              0.5555555555555556,
              "#d8576b"
             ],
             [
              0.6666666666666666,
              "#ed7953"
             ],
             [
              0.7777777777777778,
              "#fb9f3a"
             ],
             [
              0.8888888888888888,
              "#fdca26"
             ],
             [
              1.0,
              "#f0f921"
             ]
            ]
           }
          ],
          "heatmap": [
           {
            "type": "heatmap",
            "colorbar": {
             "outlinewidth": 0,
             "ticks": ""
            },
            "colorscale": [
             [
              0.0,
              "#0d0887"
             ],
             [
              0.1111111111111111,
              "#46039f"
             ],
             [
              0.2222222222222222,
              "#7201a8"
             ],
             [
              0.3333333333333333,
              "#9c179e"
             ],
             [
              0.4444444444444444,
              "#bd3786"
             ],
             [
              0.5555555555555556,
              "#d8576b"
             ],
             [
              0.6666666666666666,
              "#ed7953"
             ],
             [
              0.7777777777777778,
              "#fb9f3a"
             ],
             [
              0.8888888888888888,
              "#fdca26"
             ],
             [
              1.0,
              "#f0f921"
             ]
            ]
           }
          ],
          "contourcarpet": [
           {
            "type": "contourcarpet",
            "colorbar": {
             "outlinewidth": 0,
             "ticks": ""
            }
           }
          ],
          "contour": [
           {
            "type": "contour",
            "colorbar": {
             "outlinewidth": 0,
             "ticks": ""
            },
            "colorscale": [
             [
              0.0,
              "#0d0887"
             ],
             [
              0.1111111111111111,
              "#46039f"
             ],
             [
              0.2222222222222222,
              "#7201a8"
             ],
             [
              0.3333333333333333,
              "#9c179e"
             ],
             [
              0.4444444444444444,
              "#bd3786"
             ],
             [
              0.5555555555555556,
              "#d8576b"
             ],
             [
              0.6666666666666666,
              "#ed7953"
             ],
             [
              0.7777777777777778,
              "#fb9f3a"
             ],
             [
              0.8888888888888888,
              "#fdca26"
             ],
             [
              1.0,
              "#f0f921"
             ]
            ]
           }
          ],
          "surface": [
           {
            "type": "surface",
            "colorbar": {
             "outlinewidth": 0,
             "ticks": ""
            },
            "colorscale": [
             [
              0.0,
              "#0d0887"
             ],
             [
              0.1111111111111111,
              "#46039f"
             ],
             [
              0.2222222222222222,
              "#7201a8"
             ],
             [
              0.3333333333333333,
              "#9c179e"
             ],
             [
              0.4444444444444444,
              "#bd3786"
             ],
             [
              0.5555555555555556,
              "#d8576b"
             ],
             [
              0.6666666666666666,
              "#ed7953"
             ],
             [
              0.7777777777777778,
              "#fb9f3a"
             ],
             [
              0.8888888888888888,
              "#fdca26"
             ],
             [
              1.0,
              "#f0f921"
             ]
            ]
           }
          ],
          "mesh3d": [
           {
            "type": "mesh3d",
            "colorbar": {
             "outlinewidth": 0,
             "ticks": ""
            }
           }
          ],
          "scatter": [
           {
            "marker": {
             "line": {
              "color": "#283442"
             }
            },
            "type": "scatter"
           }
          ],
          "parcoords": [
           {
            "type": "parcoords",
            "line": {
             "colorbar": {
              "outlinewidth": 0,
              "ticks": ""
             }
            }
           }
          ],
          "scatterpolargl": [
           {
            "type": "scatterpolargl",
            "marker": {
             "colorbar": {
              "outlinewidth": 0,
              "ticks": ""
             }
            }
           }
          ],
          "bar": [
           {
            "error_x": {
             "color": "#f2f5fa"
            },
            "error_y": {
             "color": "#f2f5fa"
            },
            "marker": {
             "line": {
              "color": "rgb(17,17,17)",
              "width": 0.5
             },
             "pattern": {
              "fillmode": "overlay",
              "size": 10,
              "solidity": 0.2
             }
            },
            "type": "bar"
           }
          ],
          "scattergeo": [
           {
            "type": "scattergeo",
            "marker": {
             "colorbar": {
              "outlinewidth": 0,
              "ticks": ""
             }
            }
           }
          ],
          "scatterpolar": [
           {
            "type": "scatterpolar",
            "marker": {
             "colorbar": {
              "outlinewidth": 0,
              "ticks": ""
             }
            }
           }
          ],
          "histogram": [
           {
            "marker": {
             "pattern": {
              "fillmode": "overlay",
              "size": 10,
              "solidity": 0.2
             }
            },
            "type": "histogram"
           }
          ],
          "scattergl": [
           {
            "marker": {
             "line": {
              "color": "#283442"
             }
            },
            "type": "scattergl"
           }
          ],
          "scatter3d": [
           {
            "type": "scatter3d",
            "line": {
             "colorbar": {
              "outlinewidth": 0,
              "ticks": ""
             }
            },
            "marker": {
             "colorbar": {
              "outlinewidth": 0,
              "ticks": ""
             }
            }
           }
          ],
          "scattermap": [
           {
            "type": "scattermap",
            "marker": {
             "colorbar": {
              "outlinewidth": 0,
              "ticks": ""
             }
            }
           }
          ],
          "scattermapbox": [
           {
            "type": "scattermapbox",
            "marker": {
             "colorbar": {
              "outlinewidth": 0,
              "ticks": ""
             }
            }
           }
          ],
          "scatterternary": [
           {
            "type": "scatterternary",
            "marker": {
             "colorbar": {
              "outlinewidth": 0,
              "ticks": ""
             }
            }
           }
          ],
          "scattercarpet": [
           {
            "type": "scattercarpet",
            "marker": {
             "colorbar": {
              "outlinewidth": 0,
              "ticks": ""
             }
            }
           }
          ],
          "carpet": [
           {
            "aaxis": {
             "endlinecolor": "#A2B1C6",
             "gridcolor": "#506784",
             "linecolor": "#506784",
             "minorgridcolor": "#506784",
             "startlinecolor": "#A2B1C6"
            },
            "baxis": {
             "endlinecolor": "#A2B1C6",
             "gridcolor": "#506784",
             "linecolor": "#506784",
             "minorgridcolor": "#506784",
             "startlinecolor": "#A2B1C6"
            },
            "type": "carpet"
           }
          ],
          "table": [
           {
            "cells": {
             "fill": {
              "color": "#506784"
             },
             "line": {
              "color": "rgb(17,17,17)"
             }
            },
            "header": {
             "fill": {
              "color": "#2a3f5f"
             },
             "line": {
              "color": "rgb(17,17,17)"
             }
            },
            "type": "table"
           }
          ],
          "barpolar": [
           {
            "marker": {
             "line": {
              "color": "rgb(17,17,17)",
              "width": 0.5
             },
             "pattern": {
              "fillmode": "overlay",
              "size": 10,
              "solidity": 0.2
             }
            },
            "type": "barpolar"
           }
          ],
          "pie": [
           {
            "automargin": true,
            "type": "pie"
           }
          ]
         },
         "layout": {
          "autotypenumbers": "strict",
          "colorway": [
           "#636efa",
           "#EF553B",
           "#00cc96",
           "#ab63fa",
           "#FFA15A",
           "#19d3f3",
           "#FF6692",
           "#B6E880",
           "#FF97FF",
           "#FECB52"
          ],
          "font": {
           "color": "#f2f5fa"
          },
          "hovermode": "closest",
          "hoverlabel": {
           "align": "left"
          },
          "paper_bgcolor": "rgb(17,17,17)",
          "plot_bgcolor": "rgb(17,17,17)",
          "polar": {
           "bgcolor": "rgb(17,17,17)",
           "angularaxis": {
            "gridcolor": "#506784",
            "linecolor": "#506784",
            "ticks": ""
           },
           "radialaxis": {
            "gridcolor": "#506784",
            "linecolor": "#506784",
            "ticks": ""
           }
          },
          "ternary": {
           "bgcolor": "rgb(17,17,17)",
           "aaxis": {
            "gridcolor": "#506784",
            "linecolor": "#506784",
            "ticks": ""
           },
           "baxis": {
            "gridcolor": "#506784",
            "linecolor": "#506784",
            "ticks": ""
           },
           "caxis": {
            "gridcolor": "#506784",
            "linecolor": "#506784",
            "ticks": ""
           }
          },
          "coloraxis": {
           "colorbar": {
            "outlinewidth": 0,
            "ticks": ""
           }
          },
          "colorscale": {
           "sequential": [
            [
             0.0,
             "#0d0887"
            ],
            [
             0.1111111111111111,
             "#46039f"
            ],
            [
             0.2222222222222222,
             "#7201a8"
            ],
            [
             0.3333333333333333,
             "#9c179e"
            ],
            [
             0.4444444444444444,
             "#bd3786"
            ],
            [
             0.5555555555555556,
             "#d8576b"
            ],
            [
             0.6666666666666666,
             "#ed7953"
            ],
            [
             0.7777777777777778,
             "#fb9f3a"
            ],
            [
             0.8888888888888888,
             "#fdca26"
            ],
            [
             1.0,
             "#f0f921"
            ]
           ],
           "sequentialminus": [
            [
             0.0,
             "#0d0887"
            ],
            [
             0.1111111111111111,
             "#46039f"
            ],
            [
             0.2222222222222222,
             "#7201a8"
            ],
            [
             0.3333333333333333,
             "#9c179e"
            ],
            [
             0.4444444444444444,
             "#bd3786"
            ],
            [
             0.5555555555555556,
             "#d8576b"
            ],
            [
             0.6666666666666666,
             "#ed7953"
            ],
            [
             0.7777777777777778,
             "#fb9f3a"
            ],
            [
             0.8888888888888888,
             "#fdca26"
            ],
            [
             1.0,
             "#f0f921"
            ]
           ],
           "diverging": [
            [
             0,
             "#8e0152"
            ],
            [
             0.1,
             "#c51b7d"
            ],
            [
             0.2,
             "#de77ae"
            ],
            [
             0.3,
             "#f1b6da"
            ],
            [
             0.4,
             "#fde0ef"
            ],
            [
             0.5,
             "#f7f7f7"
            ],
            [
             0.6,
             "#e6f5d0"
            ],
            [
             0.7,
             "#b8e186"
            ],
            [
             0.8,
             "#7fbc41"
            ],
            [
             0.9,
             "#4d9221"
            ],
            [
             1,
             "#276419"
            ]
           ]
          },
          "xaxis": {
           "gridcolor": "#283442",
           "linecolor": "#506784",
           "ticks": "",
           "title": {
            "standoff": 15
           },
           "zerolinecolor": "#283442",
           "automargin": true,
           "zerolinewidth": 2
          },
          "yaxis": {
           "gridcolor": "#283442",
           "linecolor": "#506784",
           "ticks": "",
           "title": {
            "standoff": 15
           },
           "zerolinecolor": "#283442",
           "automargin": true,
           "zerolinewidth": 2
          },
          "scene": {
           "xaxis": {
            "backgroundcolor": "rgb(17,17,17)",
            "gridcolor": "#506784",
            "linecolor": "#506784",
            "showbackground": true,
            "ticks": "",
            "zerolinecolor": "#C8D4E3",
            "gridwidth": 2
           },
           "yaxis": {
            "backgroundcolor": "rgb(17,17,17)",
            "gridcolor": "#506784",
            "linecolor": "#506784",
            "showbackground": true,
            "ticks": "",
            "zerolinecolor": "#C8D4E3",
            "gridwidth": 2
           },
           "zaxis": {
            "backgroundcolor": "rgb(17,17,17)",
            "gridcolor": "#506784",
            "linecolor": "#506784",
            "showbackground": true,
            "ticks": "",
            "zerolinecolor": "#C8D4E3",
            "gridwidth": 2
           }
          },
          "shapedefaults": {
           "line": {
            "color": "#f2f5fa"
           }
          },
          "annotationdefaults": {
           "arrowcolor": "#f2f5fa",
           "arrowhead": 0,
           "arrowwidth": 1
          },
          "geo": {
           "bgcolor": "rgb(17,17,17)",
           "landcolor": "rgb(17,17,17)",
           "subunitcolor": "#506784",
           "showland": true,
           "showlakes": true,
           "lakecolor": "rgb(17,17,17)"
          },
          "title": {
           "x": 0.05
          },
          "updatemenudefaults": {
           "bgcolor": "#506784",
           "borderwidth": 0
          },
          "sliderdefaults": {
           "bgcolor": "#C8D4E3",
           "borderwidth": 1,
           "bordercolor": "rgb(17,17,17)",
           "tickwidth": 0
          },
          "mapbox": {
           "style": "dark"
          }
         }
        }
       },
       "config": {
        "plotlyServerURL": "https://plot.ly"
       }
      }
     },
     "metadata": {},
     "output_type": "display_data"
    }
   ],
   "execution_count": 4
  },
  {
   "metadata": {
    "ExecuteTime": {
     "end_time": "2025-06-26T23:23:15.822529Z",
     "start_time": "2025-06-26T23:23:15.810993Z"
    }
   },
   "cell_type": "code",
   "source": "data.head()",
   "id": "b2e7fc61e5b81753",
   "outputs": [
    {
     "data": {
      "text/plain": [
       "   latitude  longitude  brightness  scan  track satellite  confidence  \\\n",
       "0   38.5422   -78.3047       304.8   2.8    1.6     Terra          23   \n",
       "1   38.5451   -78.3107       309.9   2.8    1.6     Terra          79   \n",
       "2   38.5563   -78.3084       309.4   2.8    1.6     Terra          70   \n",
       "3   38.5586   -78.3170       302.3   2.8    1.6     Terra          45   \n",
       "4   31.3393   -89.9124       304.9   1.0    1.0     Terra          62   \n",
       "\n",
       "   version  bright_t31   frp daynight  type        acq_datetime  \n",
       "0     6.03       280.9  40.3        N     0 2000-11-01 02:50:00  \n",
       "1     6.03       280.7  58.8        N     0 2000-11-01 02:50:00  \n",
       "2     6.03       280.4  54.5        N     0 2000-11-01 02:50:00  \n",
       "3     6.03       279.8  36.0        N     0 2000-11-01 02:50:00  \n",
       "4     6.03       287.5   8.5        N     0 2000-11-01 04:27:00  "
      ],
      "text/html": [
       "<div>\n",
       "<style scoped>\n",
       "    .dataframe tbody tr th:only-of-type {\n",
       "        vertical-align: middle;\n",
       "    }\n",
       "\n",
       "    .dataframe tbody tr th {\n",
       "        vertical-align: top;\n",
       "    }\n",
       "\n",
       "    .dataframe thead th {\n",
       "        text-align: right;\n",
       "    }\n",
       "</style>\n",
       "<table border=\"1\" class=\"dataframe\">\n",
       "  <thead>\n",
       "    <tr style=\"text-align: right;\">\n",
       "      <th></th>\n",
       "      <th>latitude</th>\n",
       "      <th>longitude</th>\n",
       "      <th>brightness</th>\n",
       "      <th>scan</th>\n",
       "      <th>track</th>\n",
       "      <th>satellite</th>\n",
       "      <th>confidence</th>\n",
       "      <th>version</th>\n",
       "      <th>bright_t31</th>\n",
       "      <th>frp</th>\n",
       "      <th>daynight</th>\n",
       "      <th>type</th>\n",
       "      <th>acq_datetime</th>\n",
       "    </tr>\n",
       "  </thead>\n",
       "  <tbody>\n",
       "    <tr>\n",
       "      <th>0</th>\n",
       "      <td>38.5422</td>\n",
       "      <td>-78.3047</td>\n",
       "      <td>304.8</td>\n",
       "      <td>2.8</td>\n",
       "      <td>1.6</td>\n",
       "      <td>Terra</td>\n",
       "      <td>23</td>\n",
       "      <td>6.03</td>\n",
       "      <td>280.9</td>\n",
       "      <td>40.3</td>\n",
       "      <td>N</td>\n",
       "      <td>0</td>\n",
       "      <td>2000-11-01 02:50:00</td>\n",
       "    </tr>\n",
       "    <tr>\n",
       "      <th>1</th>\n",
       "      <td>38.5451</td>\n",
       "      <td>-78.3107</td>\n",
       "      <td>309.9</td>\n",
       "      <td>2.8</td>\n",
       "      <td>1.6</td>\n",
       "      <td>Terra</td>\n",
       "      <td>79</td>\n",
       "      <td>6.03</td>\n",
       "      <td>280.7</td>\n",
       "      <td>58.8</td>\n",
       "      <td>N</td>\n",
       "      <td>0</td>\n",
       "      <td>2000-11-01 02:50:00</td>\n",
       "    </tr>\n",
       "    <tr>\n",
       "      <th>2</th>\n",
       "      <td>38.5563</td>\n",
       "      <td>-78.3084</td>\n",
       "      <td>309.4</td>\n",
       "      <td>2.8</td>\n",
       "      <td>1.6</td>\n",
       "      <td>Terra</td>\n",
       "      <td>70</td>\n",
       "      <td>6.03</td>\n",
       "      <td>280.4</td>\n",
       "      <td>54.5</td>\n",
       "      <td>N</td>\n",
       "      <td>0</td>\n",
       "      <td>2000-11-01 02:50:00</td>\n",
       "    </tr>\n",
       "    <tr>\n",
       "      <th>3</th>\n",
       "      <td>38.5586</td>\n",
       "      <td>-78.3170</td>\n",
       "      <td>302.3</td>\n",
       "      <td>2.8</td>\n",
       "      <td>1.6</td>\n",
       "      <td>Terra</td>\n",
       "      <td>45</td>\n",
       "      <td>6.03</td>\n",
       "      <td>279.8</td>\n",
       "      <td>36.0</td>\n",
       "      <td>N</td>\n",
       "      <td>0</td>\n",
       "      <td>2000-11-01 02:50:00</td>\n",
       "    </tr>\n",
       "    <tr>\n",
       "      <th>4</th>\n",
       "      <td>31.3393</td>\n",
       "      <td>-89.9124</td>\n",
       "      <td>304.9</td>\n",
       "      <td>1.0</td>\n",
       "      <td>1.0</td>\n",
       "      <td>Terra</td>\n",
       "      <td>62</td>\n",
       "      <td>6.03</td>\n",
       "      <td>287.5</td>\n",
       "      <td>8.5</td>\n",
       "      <td>N</td>\n",
       "      <td>0</td>\n",
       "      <td>2000-11-01 04:27:00</td>\n",
       "    </tr>\n",
       "  </tbody>\n",
       "</table>\n",
       "</div>"
      ]
     },
     "execution_count": 5,
     "metadata": {},
     "output_type": "execute_result"
    }
   ],
   "execution_count": 5
  },
  {
   "metadata": {
    "ExecuteTime": {
     "end_time": "2025-06-26T23:27:30.008405Z",
     "start_time": "2025-06-26T23:27:29.903964Z"
    }
   },
   "cell_type": "code",
   "source": [
    "fig=go.Figure()\n",
    "daynight=data['daynight'].value_counts()\n",
    "fig.add_trace(go.Bar(x=daynight.index,y=daynight.values))"
   ],
   "id": "5c163a2ec80d5d14",
   "outputs": [
    {
     "data": {
      "application/vnd.plotly.v1+json": {
       "data": [
        {
         "x": [
          "D",
          "N"
         ],
         "y": {
          "dtype": "i4",
          "bdata": "Kt8jAPxMCQA="
         },
         "type": "bar"
        }
       ],
       "layout": {
        "template": {
         "data": {
          "histogram2dcontour": [
           {
            "type": "histogram2dcontour",
            "colorbar": {
             "outlinewidth": 0,
             "ticks": ""
            },
            "colorscale": [
             [
              0.0,
              "#0d0887"
             ],
             [
              0.1111111111111111,
              "#46039f"
             ],
             [
              0.2222222222222222,
              "#7201a8"
             ],
             [
              0.3333333333333333,
              "#9c179e"
             ],
             [
              0.4444444444444444,
              "#bd3786"
             ],
             [
              0.5555555555555556,
              "#d8576b"
             ],
             [
              0.6666666666666666,
              "#ed7953"
             ],
             [
              0.7777777777777778,
              "#fb9f3a"
             ],
             [
              0.8888888888888888,
              "#fdca26"
             ],
             [
              1.0,
              "#f0f921"
             ]
            ]
           }
          ],
          "choropleth": [
           {
            "type": "choropleth",
            "colorbar": {
             "outlinewidth": 0,
             "ticks": ""
            }
           }
          ],
          "histogram2d": [
           {
            "type": "histogram2d",
            "colorbar": {
             "outlinewidth": 0,
             "ticks": ""
            },
            "colorscale": [
             [
              0.0,
              "#0d0887"
             ],
             [
              0.1111111111111111,
              "#46039f"
             ],
             [
              0.2222222222222222,
              "#7201a8"
             ],
             [
              0.3333333333333333,
              "#9c179e"
             ],
             [
              0.4444444444444444,
              "#bd3786"
             ],
             [
              0.5555555555555556,
              "#d8576b"
             ],
             [
              0.6666666666666666,
              "#ed7953"
             ],
             [
              0.7777777777777778,
              "#fb9f3a"
             ],
             [
              0.8888888888888888,
              "#fdca26"
             ],
             [
              1.0,
              "#f0f921"
             ]
            ]
           }
          ],
          "heatmap": [
           {
            "type": "heatmap",
            "colorbar": {
             "outlinewidth": 0,
             "ticks": ""
            },
            "colorscale": [
             [
              0.0,
              "#0d0887"
             ],
             [
              0.1111111111111111,
              "#46039f"
             ],
             [
              0.2222222222222222,
              "#7201a8"
             ],
             [
              0.3333333333333333,
              "#9c179e"
             ],
             [
              0.4444444444444444,
              "#bd3786"
             ],
             [
              0.5555555555555556,
              "#d8576b"
             ],
             [
              0.6666666666666666,
              "#ed7953"
             ],
             [
              0.7777777777777778,
              "#fb9f3a"
             ],
             [
              0.8888888888888888,
              "#fdca26"
             ],
             [
              1.0,
              "#f0f921"
             ]
            ]
           }
          ],
          "contourcarpet": [
           {
            "type": "contourcarpet",
            "colorbar": {
             "outlinewidth": 0,
             "ticks": ""
            }
           }
          ],
          "contour": [
           {
            "type": "contour",
            "colorbar": {
             "outlinewidth": 0,
             "ticks": ""
            },
            "colorscale": [
             [
              0.0,
              "#0d0887"
             ],
             [
              0.1111111111111111,
              "#46039f"
             ],
             [
              0.2222222222222222,
              "#7201a8"
             ],
             [
              0.3333333333333333,
              "#9c179e"
             ],
             [
              0.4444444444444444,
              "#bd3786"
             ],
             [
              0.5555555555555556,
              "#d8576b"
             ],
             [
              0.6666666666666666,
              "#ed7953"
             ],
             [
              0.7777777777777778,
              "#fb9f3a"
             ],
             [
              0.8888888888888888,
              "#fdca26"
             ],
             [
              1.0,
              "#f0f921"
             ]
            ]
           }
          ],
          "surface": [
           {
            "type": "surface",
            "colorbar": {
             "outlinewidth": 0,
             "ticks": ""
            },
            "colorscale": [
             [
              0.0,
              "#0d0887"
             ],
             [
              0.1111111111111111,
              "#46039f"
             ],
             [
              0.2222222222222222,
              "#7201a8"
             ],
             [
              0.3333333333333333,
              "#9c179e"
             ],
             [
              0.4444444444444444,
              "#bd3786"
             ],
             [
              0.5555555555555556,
              "#d8576b"
             ],
             [
              0.6666666666666666,
              "#ed7953"
             ],
             [
              0.7777777777777778,
              "#fb9f3a"
             ],
             [
              0.8888888888888888,
              "#fdca26"
             ],
             [
              1.0,
              "#f0f921"
             ]
            ]
           }
          ],
          "mesh3d": [
           {
            "type": "mesh3d",
            "colorbar": {
             "outlinewidth": 0,
             "ticks": ""
            }
           }
          ],
          "scatter": [
           {
            "marker": {
             "line": {
              "color": "#283442"
             }
            },
            "type": "scatter"
           }
          ],
          "parcoords": [
           {
            "type": "parcoords",
            "line": {
             "colorbar": {
              "outlinewidth": 0,
              "ticks": ""
             }
            }
           }
          ],
          "scatterpolargl": [
           {
            "type": "scatterpolargl",
            "marker": {
             "colorbar": {
              "outlinewidth": 0,
              "ticks": ""
             }
            }
           }
          ],
          "bar": [
           {
            "error_x": {
             "color": "#f2f5fa"
            },
            "error_y": {
             "color": "#f2f5fa"
            },
            "marker": {
             "line": {
              "color": "rgb(17,17,17)",
              "width": 0.5
             },
             "pattern": {
              "fillmode": "overlay",
              "size": 10,
              "solidity": 0.2
             }
            },
            "type": "bar"
           }
          ],
          "scattergeo": [
           {
            "type": "scattergeo",
            "marker": {
             "colorbar": {
              "outlinewidth": 0,
              "ticks": ""
             }
            }
           }
          ],
          "scatterpolar": [
           {
            "type": "scatterpolar",
            "marker": {
             "colorbar": {
              "outlinewidth": 0,
              "ticks": ""
             }
            }
           }
          ],
          "histogram": [
           {
            "marker": {
             "pattern": {
              "fillmode": "overlay",
              "size": 10,
              "solidity": 0.2
             }
            },
            "type": "histogram"
           }
          ],
          "scattergl": [
           {
            "marker": {
             "line": {
              "color": "#283442"
             }
            },
            "type": "scattergl"
           }
          ],
          "scatter3d": [
           {
            "type": "scatter3d",
            "line": {
             "colorbar": {
              "outlinewidth": 0,
              "ticks": ""
             }
            },
            "marker": {
             "colorbar": {
              "outlinewidth": 0,
              "ticks": ""
             }
            }
           }
          ],
          "scattermap": [
           {
            "type": "scattermap",
            "marker": {
             "colorbar": {
              "outlinewidth": 0,
              "ticks": ""
             }
            }
           }
          ],
          "scattermapbox": [
           {
            "type": "scattermapbox",
            "marker": {
             "colorbar": {
              "outlinewidth": 0,
              "ticks": ""
             }
            }
           }
          ],
          "scatterternary": [
           {
            "type": "scatterternary",
            "marker": {
             "colorbar": {
              "outlinewidth": 0,
              "ticks": ""
             }
            }
           }
          ],
          "scattercarpet": [
           {
            "type": "scattercarpet",
            "marker": {
             "colorbar": {
              "outlinewidth": 0,
              "ticks": ""
             }
            }
           }
          ],
          "carpet": [
           {
            "aaxis": {
             "endlinecolor": "#A2B1C6",
             "gridcolor": "#506784",
             "linecolor": "#506784",
             "minorgridcolor": "#506784",
             "startlinecolor": "#A2B1C6"
            },
            "baxis": {
             "endlinecolor": "#A2B1C6",
             "gridcolor": "#506784",
             "linecolor": "#506784",
             "minorgridcolor": "#506784",
             "startlinecolor": "#A2B1C6"
            },
            "type": "carpet"
           }
          ],
          "table": [
           {
            "cells": {
             "fill": {
              "color": "#506784"
             },
             "line": {
              "color": "rgb(17,17,17)"
             }
            },
            "header": {
             "fill": {
              "color": "#2a3f5f"
             },
             "line": {
              "color": "rgb(17,17,17)"
             }
            },
            "type": "table"
           }
          ],
          "barpolar": [
           {
            "marker": {
             "line": {
              "color": "rgb(17,17,17)",
              "width": 0.5
             },
             "pattern": {
              "fillmode": "overlay",
              "size": 10,
              "solidity": 0.2
             }
            },
            "type": "barpolar"
           }
          ],
          "pie": [
           {
            "automargin": true,
            "type": "pie"
           }
          ]
         },
         "layout": {
          "autotypenumbers": "strict",
          "colorway": [
           "#636efa",
           "#EF553B",
           "#00cc96",
           "#ab63fa",
           "#FFA15A",
           "#19d3f3",
           "#FF6692",
           "#B6E880",
           "#FF97FF",
           "#FECB52"
          ],
          "font": {
           "color": "#f2f5fa"
          },
          "hovermode": "closest",
          "hoverlabel": {
           "align": "left"
          },
          "paper_bgcolor": "rgb(17,17,17)",
          "plot_bgcolor": "rgb(17,17,17)",
          "polar": {
           "bgcolor": "rgb(17,17,17)",
           "angularaxis": {
            "gridcolor": "#506784",
            "linecolor": "#506784",
            "ticks": ""
           },
           "radialaxis": {
            "gridcolor": "#506784",
            "linecolor": "#506784",
            "ticks": ""
           }
          },
          "ternary": {
           "bgcolor": "rgb(17,17,17)",
           "aaxis": {
            "gridcolor": "#506784",
            "linecolor": "#506784",
            "ticks": ""
           },
           "baxis": {
            "gridcolor": "#506784",
            "linecolor": "#506784",
            "ticks": ""
           },
           "caxis": {
            "gridcolor": "#506784",
            "linecolor": "#506784",
            "ticks": ""
           }
          },
          "coloraxis": {
           "colorbar": {
            "outlinewidth": 0,
            "ticks": ""
           }
          },
          "colorscale": {
           "sequential": [
            [
             0.0,
             "#0d0887"
            ],
            [
             0.1111111111111111,
             "#46039f"
            ],
            [
             0.2222222222222222,
             "#7201a8"
            ],
            [
             0.3333333333333333,
             "#9c179e"
            ],
            [
             0.4444444444444444,
             "#bd3786"
            ],
            [
             0.5555555555555556,
             "#d8576b"
            ],
            [
             0.6666666666666666,
             "#ed7953"
            ],
            [
             0.7777777777777778,
             "#fb9f3a"
            ],
            [
             0.8888888888888888,
             "#fdca26"
            ],
            [
             1.0,
             "#f0f921"
            ]
           ],
           "sequentialminus": [
            [
             0.0,
             "#0d0887"
            ],
            [
             0.1111111111111111,
             "#46039f"
            ],
            [
             0.2222222222222222,
             "#7201a8"
            ],
            [
             0.3333333333333333,
             "#9c179e"
            ],
            [
             0.4444444444444444,
             "#bd3786"
            ],
            [
             0.5555555555555556,
             "#d8576b"
            ],
            [
             0.6666666666666666,
             "#ed7953"
            ],
            [
             0.7777777777777778,
             "#fb9f3a"
            ],
            [
             0.8888888888888888,
             "#fdca26"
            ],
            [
             1.0,
             "#f0f921"
            ]
           ],
           "diverging": [
            [
             0,
             "#8e0152"
            ],
            [
             0.1,
             "#c51b7d"
            ],
            [
             0.2,
             "#de77ae"
            ],
            [
             0.3,
             "#f1b6da"
            ],
            [
             0.4,
             "#fde0ef"
            ],
            [
             0.5,
             "#f7f7f7"
            ],
            [
             0.6,
             "#e6f5d0"
            ],
            [
             0.7,
             "#b8e186"
            ],
            [
             0.8,
             "#7fbc41"
            ],
            [
             0.9,
             "#4d9221"
            ],
            [
             1,
             "#276419"
            ]
           ]
          },
          "xaxis": {
           "gridcolor": "#283442",
           "linecolor": "#506784",
           "ticks": "",
           "title": {
            "standoff": 15
           },
           "zerolinecolor": "#283442",
           "automargin": true,
           "zerolinewidth": 2
          },
          "yaxis": {
           "gridcolor": "#283442",
           "linecolor": "#506784",
           "ticks": "",
           "title": {
            "standoff": 15
           },
           "zerolinecolor": "#283442",
           "automargin": true,
           "zerolinewidth": 2
          },
          "scene": {
           "xaxis": {
            "backgroundcolor": "rgb(17,17,17)",
            "gridcolor": "#506784",
            "linecolor": "#506784",
            "showbackground": true,
            "ticks": "",
            "zerolinecolor": "#C8D4E3",
            "gridwidth": 2
           },
           "yaxis": {
            "backgroundcolor": "rgb(17,17,17)",
            "gridcolor": "#506784",
            "linecolor": "#506784",
            "showbackground": true,
            "ticks": "",
            "zerolinecolor": "#C8D4E3",
            "gridwidth": 2
           },
           "zaxis": {
            "backgroundcolor": "rgb(17,17,17)",
            "gridcolor": "#506784",
            "linecolor": "#506784",
            "showbackground": true,
            "ticks": "",
            "zerolinecolor": "#C8D4E3",
            "gridwidth": 2
           }
          },
          "shapedefaults": {
           "line": {
            "color": "#f2f5fa"
           }
          },
          "annotationdefaults": {
           "arrowcolor": "#f2f5fa",
           "arrowhead": 0,
           "arrowwidth": 1
          },
          "geo": {
           "bgcolor": "rgb(17,17,17)",
           "landcolor": "rgb(17,17,17)",
           "subunitcolor": "#506784",
           "showland": true,
           "showlakes": true,
           "lakecolor": "rgb(17,17,17)"
          },
          "title": {
           "x": 0.05
          },
          "updatemenudefaults": {
           "bgcolor": "#506784",
           "borderwidth": 0
          },
          "sliderdefaults": {
           "bgcolor": "#C8D4E3",
           "borderwidth": 1,
           "bordercolor": "rgb(17,17,17)",
           "tickwidth": 0
          },
          "mapbox": {
           "style": "dark"
          }
         }
        }
       },
       "config": {
        "plotlyServerURL": "https://plot.ly"
       }
      }
     },
     "metadata": {},
     "output_type": "display_data"
    }
   ],
   "execution_count": 15
  },
  {
   "metadata": {
    "ExecuteTime": {
     "end_time": "2025-06-26T23:27:39.971166Z",
     "start_time": "2025-06-26T23:27:34.668486Z"
    }
   },
   "cell_type": "code",
   "source": [
    "from sklearn.model_selection import train_test_split\n",
    "from sklearn.preprocessing import PolynomialFeatures\n",
    "from sklearn.linear_model import LinearRegression\n",
    "from sklearn.pipeline import make_pipeline\n",
    "from sklearn.metrics import mean_squared_error, r2_score\n",
    "\n",
    "X=data.drop(['scan','track','satellite','confidence','version','type'],axis=1)\n",
    "X['daynight']=X['daynight'].map({\"N\":0,\"D\":1})\n",
    "X['acq_datetime'] = X['acq_datetime'].apply(lambda x: x.toordinal())\n",
    "\n",
    "y=data['confidence']\n",
    "\n",
    "X_train,X_test,y_train,y_test=train_test_split(X,y,test_size=0.8)\n",
    "regressor=LinearRegression()\n",
    "regressor.fit(X_train,y_train)\n",
    "y_pred=regressor.predict(X_test)\n",
    "r2=r2_score(y_test,y_pred)\n",
    "mse=mean_squared_error(y_test,y_pred)\n",
    "print(r2)\n",
    "print((mse**0.5)/100)"
   ],
   "id": "297e695b2d33402b",
   "outputs": [
    {
     "name": "stdout",
     "output_type": "stream",
     "text": [
      "0.4253215372818592\n",
      "0.17476660689660822\n"
     ]
    }
   ],
   "execution_count": 16
  },
  {
   "metadata": {
    "ExecuteTime": {
     "end_time": "2025-06-26T23:27:48.216550Z",
     "start_time": "2025-06-26T23:27:41.554496Z"
    }
   },
   "cell_type": "code",
   "source": [
    "print(\"degree 2\")\n",
    "\n",
    "X=data.drop(['scan','track','satellite','confidence','version','type'],axis=1)\n",
    "X['daynight']=X['daynight'].map({\"N\":0,\"D\":1})\n",
    "X['acq_datetime'] = X['acq_datetime'].apply(lambda x: x.toordinal())\n",
    "\n",
    "y=data['confidence']\n",
    "\n",
    "poly = PolynomialFeatures(degree=2, include_bias=False)\n",
    "X_poly = poly.fit_transform(X)\n",
    "\n",
    "regressor=LinearRegression()\n",
    "\n",
    "regressor.fit(X_poly,y)\n",
    "coefficients=regressor.coef_\n",
    "intercept=regressor.intercept_\n",
    "\n",
    "feature_names = poly.get_feature_names_out(X.columns)\n",
    "\n",
    "coef_df = pd.DataFrame({\n",
    "    'Feature': feature_names,\n",
    "    'Coefficient': coefficients\n",
    "})\n",
    "\n",
    "coef_df['Coefficient'] = coef_df['Coefficient'].round(4)\n",
    "r2=r2_score(y_test,y_pred)\n",
    "mse=mean_squared_error(y_test,y_pred)\n",
    "print(r2)\n",
    "print((mse**0.5)/100)\n",
    "print()\n",
    "print(\"Intercept:\", round(intercept, 4))\n",
    "print(coef_df.sort_values(by='Coefficient', key=abs, ascending=False))"
   ],
   "id": "2e8f1d41051df754",
   "outputs": [
    {
     "name": "stdout",
     "output_type": "stream",
     "text": [
      "degree 2\n",
      "0.4253215372818592\n",
      "0.17476660689660822\n",
      "\n",
      "Intercept: 9989.7906\n",
      "                    Feature  Coefficient\n",
      "12        latitude daynight       0.2238\n",
      "18       longitude daynight       0.1227\n",
      "23      brightness daynight      -0.1226\n",
      "27      bright_t31 daynight      -0.0882\n",
      "6              acq_datetime      -0.0273\n",
      "21    brightness bright_t31       0.0208\n",
      "25             bright_t31^2      -0.0168\n",
      "20             brightness^2      -0.0129\n",
      "30             frp daynight       0.0103\n",
      "10      latitude bright_t31       0.0031\n",
      "7                latitude^2      -0.0029\n",
      "8        latitude longitude      -0.0022\n",
      "15     longitude brightness      -0.0016\n",
      "14              longitude^2      -0.0013\n",
      "9       latitude brightness       0.0009\n",
      "4                       frp      -0.0006\n",
      "22           brightness frp       0.0004\n",
      "16     longitude bright_t31      -0.0002\n",
      "26           bright_t31 frp      -0.0002\n",
      "1                 longitude      -0.0001\n",
      "33    daynight acq_datetime       0.0001\n",
      "3                bright_t31      -0.0001\n",
      "2                brightness      -0.0001\n",
      "0                  latitude      -0.0001\n",
      "28  bright_t31 acq_datetime       0.0000\n",
      "31         frp acq_datetime      -0.0000\n",
      "32               daynight^2       0.0000\n",
      "29                    frp^2      -0.0000\n",
      "17            longitude frp       0.0000\n",
      "24  brightness acq_datetime       0.0000\n",
      "19   longitude acq_datetime       0.0000\n",
      "13    latitude acq_datetime      -0.0000\n",
      "11             latitude frp       0.0000\n",
      "5                  daynight       0.0000\n",
      "34           acq_datetime^2       0.0000\n"
     ]
    }
   ],
   "execution_count": 17
  },
  {
   "metadata": {
    "ExecuteTime": {
     "end_time": "2025-06-26T23:28:12.799020Z",
     "start_time": "2025-06-26T23:27:51.366797Z"
    }
   },
   "cell_type": "code",
   "source": [
    "X=data.drop(['scan','track','satellite','confidence','version','type'],axis=1)\n",
    "X['daynight']=X['daynight'].map({\"N\":0,\"D\":1})\n",
    "X['acq_datetime'] = X['acq_datetime'].apply(lambda x: x.toordinal())\n",
    "\n",
    "y=data['confidence']\n",
    "\n",
    "X_train,X_test,y_train,y_test=train_test_split(X,y,test_size=0.8)\n",
    "\n",
    "best_model=None\n",
    "best_r2=0\n",
    "best_mse=float('inf')\n",
    "\n",
    "for i in range(3,5):\n",
    "    print(f\"degree {i}\")\n",
    "    poly_regressor=make_pipeline(PolynomialFeatures(degree=i),LinearRegression())\n",
    "    poly_regressor.fit(X_train, y_train)\n",
    "    y_pred=poly_regressor.predict(X_test)\n",
    "    r2=r2_score(y_test,y_pred)\n",
    "    mse=mean_squared_error(y_test,y_pred)\n",
    "    print(r2)\n",
    "    print((mse**0.5)/100)\n",
    "    print()\n",
    "    if r2 > best_r2 or mse < best_mse:\n",
    "        best_model=poly_regressor\n",
    "        best_r2=r2\n",
    "        best_mse=mse\n",
    "    else:\n",
    "        break\n"
   ],
   "id": "daaeb5153b197853",
   "outputs": [
    {
     "name": "stdout",
     "output_type": "stream",
     "text": [
      "degree 3\n",
      "0.54089312776948\n",
      "0.15624770984814382\n",
      "\n",
      "degree 4\n",
      "0.5409003845805228\n",
      "0.15624647498905608\n",
      "\n"
     ]
    }
   ],
   "execution_count": 18
  },
  {
   "metadata": {
    "ExecuteTime": {
     "end_time": "2025-06-25T21:00:15.624873Z",
     "start_time": "2025-06-25T21:00:15.606067Z"
    }
   },
   "cell_type": "code",
   "source": "print(data.shape)",
   "id": "112b4a50ee158384",
   "outputs": [
    {
     "name": "stdout",
     "output_type": "stream",
     "text": [
      "(2960422, 13)\n"
     ]
    }
   ],
   "execution_count": 15
  },
  {
   "metadata": {
    "ExecuteTime": {
     "end_time": "2025-06-26T23:43:17.534416Z",
     "start_time": "2025-06-26T23:28:12.816697Z"
    }
   },
   "cell_type": "code",
   "source": [
    "from sklearn.ensemble import RandomForestRegressor\n",
    "\n",
    "X=data.drop(['scan','track','satellite','confidence','version','type'],axis=1)\n",
    "X['daynight']=X['daynight'].map({\"N\":0,\"D\":1})\n",
    "X['acq_datetime'] = X['acq_datetime'].apply(lambda x: x.toordinal())\n",
    "\n",
    "y=data['confidence']\n",
    "\n",
    "X_train,X_test,y_train,y_test=train_test_split(X,y,test_size=0.7)\n",
    "\n",
    "rf=RandomForestRegressor(n_estimators=80)\n",
    "rf.fit(X_train, y_train)\n",
    "\n",
    "y_pred = rf.predict(X_test)\n",
    "\n",
    "print(\"R^2 score:\", r2_score(y_test, y_pred))\n",
    "print(\"RMSE:\", (mean_squared_error(y_test, y_pred)**0.5)/100)"
   ],
   "id": "1aa589e5d3e3aa50",
   "outputs": [
    {
     "name": "stdout",
     "output_type": "stream",
     "text": [
      "R^2 score: 0.6392842823994165\n",
      "RMSE: 0.1384828601699582\n"
     ]
    }
   ],
   "execution_count": 19
  },
  {
   "metadata": {
    "ExecuteTime": {
     "end_time": "2025-06-26T23:43:27.756161Z",
     "start_time": "2025-06-26T23:43:25.461787Z"
    }
   },
   "cell_type": "code",
   "source": "{c:f for c,f in zip(X.columns,rf.feature_importances_)}",
   "id": "605106925da0aa87",
   "outputs": [
    {
     "data": {
      "text/plain": [
       "{'latitude': 0.08323980235117048,\n",
       " 'longitude': 0.09441265736932576,\n",
       " 'brightness': 0.5471008300444685,\n",
       " 'bright_t31': 0.07073729511298567,\n",
       " 'frp': 0.10040652408958256,\n",
       " 'daynight': 0.040543285349969295,\n",
       " 'acq_datetime': 0.06355960568249779}"
      ]
     },
     "execution_count": 20,
     "metadata": {},
     "output_type": "execute_result"
    }
   ],
   "execution_count": 20
  },
  {
   "metadata": {
    "ExecuteTime": {
     "end_time": "2025-06-26T23:43:29.705218Z",
     "start_time": "2025-06-26T23:43:29.662350Z"
    }
   },
   "cell_type": "code",
   "source": "data",
   "id": "8d86458be1109be5",
   "outputs": [
    {
     "data": {
      "text/plain": [
       "         latitude  longitude  brightness  scan  track satellite  confidence  \\\n",
       "0         38.5422   -78.3047       304.8   2.8    1.6     Terra          23   \n",
       "1         38.5451   -78.3107       309.9   2.8    1.6     Terra          79   \n",
       "2         38.5563   -78.3084       309.4   2.8    1.6     Terra          70   \n",
       "3         38.5586   -78.3170       302.3   2.8    1.6     Terra          45   \n",
       "4         31.3393   -89.9124       304.9   1.0    1.0     Terra          62   \n",
       "...           ...        ...         ...   ...    ...       ...         ...   \n",
       "2960417   41.6966   -99.1437       319.8   1.1    1.0      Aqua          80   \n",
       "2960418   42.4419   -94.3783       300.6   1.2    1.1      Aqua          40   \n",
       "2960419   41.4014   -97.9485       319.9   1.0    1.0      Aqua          80   \n",
       "2960420   41.4032   -97.9369       322.9   1.0    1.0      Aqua          82   \n",
       "2960421   42.7180  -120.4872       303.0   1.1    1.0      Aqua          51   \n",
       "\n",
       "         version  bright_t31   frp daynight  type        acq_datetime  \n",
       "0           6.03       280.9  40.3        N     0 2000-11-01 02:50:00  \n",
       "1           6.03       280.7  58.8        N     0 2000-11-01 02:50:00  \n",
       "2           6.03       280.4  54.5        N     0 2000-11-01 02:50:00  \n",
       "3           6.03       279.8  36.0        N     0 2000-11-01 02:50:00  \n",
       "4           6.03       287.5   8.5        N     0 2000-11-01 04:27:00  \n",
       "...          ...         ...   ...      ...   ...                 ...  \n",
       "2960417    61.03       284.7  21.2        D     0 2025-01-31 20:28:00  \n",
       "2960418    61.03       284.3   6.3        D     0 2025-01-31 20:28:00  \n",
       "2960419    61.03       284.9  19.0        D     0 2025-01-31 20:28:00  \n",
       "2960420    61.03       285.0  22.1        D     0 2025-01-31 20:28:00  \n",
       "2960421    61.03       281.1   7.8        D     0 2025-01-31 22:07:00  \n",
       "\n",
       "[2960422 rows x 13 columns]"
      ],
      "text/html": [
       "<div>\n",
       "<style scoped>\n",
       "    .dataframe tbody tr th:only-of-type {\n",
       "        vertical-align: middle;\n",
       "    }\n",
       "\n",
       "    .dataframe tbody tr th {\n",
       "        vertical-align: top;\n",
       "    }\n",
       "\n",
       "    .dataframe thead th {\n",
       "        text-align: right;\n",
       "    }\n",
       "</style>\n",
       "<table border=\"1\" class=\"dataframe\">\n",
       "  <thead>\n",
       "    <tr style=\"text-align: right;\">\n",
       "      <th></th>\n",
       "      <th>latitude</th>\n",
       "      <th>longitude</th>\n",
       "      <th>brightness</th>\n",
       "      <th>scan</th>\n",
       "      <th>track</th>\n",
       "      <th>satellite</th>\n",
       "      <th>confidence</th>\n",
       "      <th>version</th>\n",
       "      <th>bright_t31</th>\n",
       "      <th>frp</th>\n",
       "      <th>daynight</th>\n",
       "      <th>type</th>\n",
       "      <th>acq_datetime</th>\n",
       "    </tr>\n",
       "  </thead>\n",
       "  <tbody>\n",
       "    <tr>\n",
       "      <th>0</th>\n",
       "      <td>38.5422</td>\n",
       "      <td>-78.3047</td>\n",
       "      <td>304.8</td>\n",
       "      <td>2.8</td>\n",
       "      <td>1.6</td>\n",
       "      <td>Terra</td>\n",
       "      <td>23</td>\n",
       "      <td>6.03</td>\n",
       "      <td>280.9</td>\n",
       "      <td>40.3</td>\n",
       "      <td>N</td>\n",
       "      <td>0</td>\n",
       "      <td>2000-11-01 02:50:00</td>\n",
       "    </tr>\n",
       "    <tr>\n",
       "      <th>1</th>\n",
       "      <td>38.5451</td>\n",
       "      <td>-78.3107</td>\n",
       "      <td>309.9</td>\n",
       "      <td>2.8</td>\n",
       "      <td>1.6</td>\n",
       "      <td>Terra</td>\n",
       "      <td>79</td>\n",
       "      <td>6.03</td>\n",
       "      <td>280.7</td>\n",
       "      <td>58.8</td>\n",
       "      <td>N</td>\n",
       "      <td>0</td>\n",
       "      <td>2000-11-01 02:50:00</td>\n",
       "    </tr>\n",
       "    <tr>\n",
       "      <th>2</th>\n",
       "      <td>38.5563</td>\n",
       "      <td>-78.3084</td>\n",
       "      <td>309.4</td>\n",
       "      <td>2.8</td>\n",
       "      <td>1.6</td>\n",
       "      <td>Terra</td>\n",
       "      <td>70</td>\n",
       "      <td>6.03</td>\n",
       "      <td>280.4</td>\n",
       "      <td>54.5</td>\n",
       "      <td>N</td>\n",
       "      <td>0</td>\n",
       "      <td>2000-11-01 02:50:00</td>\n",
       "    </tr>\n",
       "    <tr>\n",
       "      <th>3</th>\n",
       "      <td>38.5586</td>\n",
       "      <td>-78.3170</td>\n",
       "      <td>302.3</td>\n",
       "      <td>2.8</td>\n",
       "      <td>1.6</td>\n",
       "      <td>Terra</td>\n",
       "      <td>45</td>\n",
       "      <td>6.03</td>\n",
       "      <td>279.8</td>\n",
       "      <td>36.0</td>\n",
       "      <td>N</td>\n",
       "      <td>0</td>\n",
       "      <td>2000-11-01 02:50:00</td>\n",
       "    </tr>\n",
       "    <tr>\n",
       "      <th>4</th>\n",
       "      <td>31.3393</td>\n",
       "      <td>-89.9124</td>\n",
       "      <td>304.9</td>\n",
       "      <td>1.0</td>\n",
       "      <td>1.0</td>\n",
       "      <td>Terra</td>\n",
       "      <td>62</td>\n",
       "      <td>6.03</td>\n",
       "      <td>287.5</td>\n",
       "      <td>8.5</td>\n",
       "      <td>N</td>\n",
       "      <td>0</td>\n",
       "      <td>2000-11-01 04:27:00</td>\n",
       "    </tr>\n",
       "    <tr>\n",
       "      <th>...</th>\n",
       "      <td>...</td>\n",
       "      <td>...</td>\n",
       "      <td>...</td>\n",
       "      <td>...</td>\n",
       "      <td>...</td>\n",
       "      <td>...</td>\n",
       "      <td>...</td>\n",
       "      <td>...</td>\n",
       "      <td>...</td>\n",
       "      <td>...</td>\n",
       "      <td>...</td>\n",
       "      <td>...</td>\n",
       "      <td>...</td>\n",
       "    </tr>\n",
       "    <tr>\n",
       "      <th>2960417</th>\n",
       "      <td>41.6966</td>\n",
       "      <td>-99.1437</td>\n",
       "      <td>319.8</td>\n",
       "      <td>1.1</td>\n",
       "      <td>1.0</td>\n",
       "      <td>Aqua</td>\n",
       "      <td>80</td>\n",
       "      <td>61.03</td>\n",
       "      <td>284.7</td>\n",
       "      <td>21.2</td>\n",
       "      <td>D</td>\n",
       "      <td>0</td>\n",
       "      <td>2025-01-31 20:28:00</td>\n",
       "    </tr>\n",
       "    <tr>\n",
       "      <th>2960418</th>\n",
       "      <td>42.4419</td>\n",
       "      <td>-94.3783</td>\n",
       "      <td>300.6</td>\n",
       "      <td>1.2</td>\n",
       "      <td>1.1</td>\n",
       "      <td>Aqua</td>\n",
       "      <td>40</td>\n",
       "      <td>61.03</td>\n",
       "      <td>284.3</td>\n",
       "      <td>6.3</td>\n",
       "      <td>D</td>\n",
       "      <td>0</td>\n",
       "      <td>2025-01-31 20:28:00</td>\n",
       "    </tr>\n",
       "    <tr>\n",
       "      <th>2960419</th>\n",
       "      <td>41.4014</td>\n",
       "      <td>-97.9485</td>\n",
       "      <td>319.9</td>\n",
       "      <td>1.0</td>\n",
       "      <td>1.0</td>\n",
       "      <td>Aqua</td>\n",
       "      <td>80</td>\n",
       "      <td>61.03</td>\n",
       "      <td>284.9</td>\n",
       "      <td>19.0</td>\n",
       "      <td>D</td>\n",
       "      <td>0</td>\n",
       "      <td>2025-01-31 20:28:00</td>\n",
       "    </tr>\n",
       "    <tr>\n",
       "      <th>2960420</th>\n",
       "      <td>41.4032</td>\n",
       "      <td>-97.9369</td>\n",
       "      <td>322.9</td>\n",
       "      <td>1.0</td>\n",
       "      <td>1.0</td>\n",
       "      <td>Aqua</td>\n",
       "      <td>82</td>\n",
       "      <td>61.03</td>\n",
       "      <td>285.0</td>\n",
       "      <td>22.1</td>\n",
       "      <td>D</td>\n",
       "      <td>0</td>\n",
       "      <td>2025-01-31 20:28:00</td>\n",
       "    </tr>\n",
       "    <tr>\n",
       "      <th>2960421</th>\n",
       "      <td>42.7180</td>\n",
       "      <td>-120.4872</td>\n",
       "      <td>303.0</td>\n",
       "      <td>1.1</td>\n",
       "      <td>1.0</td>\n",
       "      <td>Aqua</td>\n",
       "      <td>51</td>\n",
       "      <td>61.03</td>\n",
       "      <td>281.1</td>\n",
       "      <td>7.8</td>\n",
       "      <td>D</td>\n",
       "      <td>0</td>\n",
       "      <td>2025-01-31 22:07:00</td>\n",
       "    </tr>\n",
       "  </tbody>\n",
       "</table>\n",
       "<p>2960422 rows × 13 columns</p>\n",
       "</div>"
      ]
     },
     "execution_count": 21,
     "metadata": {},
     "output_type": "execute_result"
    }
   ],
   "execution_count": 21
  },
  {
   "metadata": {
    "ExecuteTime": {
     "end_time": "2025-06-26T23:43:33.159384Z",
     "start_time": "2025-06-26T23:43:33.039826Z"
    }
   },
   "cell_type": "code",
   "source": "data['satellite'].unique()",
   "id": "d0156549cb504d6a",
   "outputs": [
    {
     "data": {
      "text/plain": [
       "array(['Terra', 'Aqua'], dtype=object)"
      ]
     },
     "execution_count": 22,
     "metadata": {},
     "output_type": "execute_result"
    }
   ],
   "execution_count": 22
  },
  {
   "metadata": {
    "ExecuteTime": {
     "end_time": "2025-06-26T23:43:53.319826Z",
     "start_time": "2025-06-26T23:43:34.750178Z"
    }
   },
   "cell_type": "code",
   "source": [
    "from statsmodels.stats.outliers_influence import variance_inflation_factor\n",
    "from statsmodels.tools.tools import add_constant\n",
    "\n",
    "data_vif = add_constant(data[['latitude','longitude','brightness','scan','track','confidence','version','bright_t31','frp','daynight','acq_datetime','satellite']])\n",
    "data_vif['daynight']=data_vif['daynight'].map({'N':0,'D':1})\n",
    "data_vif['acq_datetime'] = data_vif['acq_datetime'].apply(lambda x: x.toordinal())\n",
    "data_vif['satellite']=data_vif['satellite'].map({\"Terra\":0,'Aqua':1})\n",
    "\n",
    "vif_data = pd.DataFrame()\n",
    "vif_data[\"Feature\"] = data_vif.columns\n",
    "vif_data[\"VIF\"] = [variance_inflation_factor(data_vif.values, i) for i in range(data_vif.shape[1])]\n",
    "\n",
    "print(vif_data)"
   ],
   "id": "6852c3787dd54a85",
   "outputs": [
    {
     "name": "stdout",
     "output_type": "stream",
     "text": [
      "         Feature            VIF\n",
      "0          const  114704.219699\n",
      "1       latitude       1.743922\n",
      "2      longitude       2.104653\n",
      "3     brightness       3.963634\n",
      "4           scan      30.145053\n",
      "5          track      30.044903\n",
      "6     confidence       1.746700\n",
      "7        version       1.263674\n",
      "8     bright_t31       1.799523\n",
      "9            frp       2.037467\n",
      "10      daynight       1.395078\n",
      "11  acq_datetime       1.272880\n",
      "12     satellite       1.041884\n"
     ]
    }
   ],
   "execution_count": 23
  },
  {
   "metadata": {
    "ExecuteTime": {
     "end_time": "2025-06-25T21:25:24.363216Z",
     "start_time": "2025-06-25T21:25:20.891678Z"
    }
   },
   "cell_type": "code",
   "source": [
    "from statsmodels.stats.outliers_influence import variance_inflation_factor\n",
    "from statsmodels.tools.tools import add_constant\n",
    "\n",
    "data_vif = add_constant(data[['latitude','longitude','brightness','confidence','bright_t31','frp']])\n",
    "\n",
    "vif_data = pd.DataFrame()\n",
    "vif_data[\"Feature\"] = data_vif.columns\n",
    "vif_data[\"VIF\"] = [variance_inflation_factor(data_vif.values, i) for i in range(data_vif.shape[1])]\n",
    "\n",
    "print(vif_data)"
   ],
   "id": "5c487bc394cc0034",
   "outputs": [
    {
     "name": "stdout",
     "output_type": "stream",
     "text": [
      "      Feature          VIF\n",
      "0       const  1128.215662\n",
      "1    latitude     1.690825\n",
      "2   longitude     1.793616\n",
      "3  brightness     3.788937\n",
      "4  confidence     1.701307\n",
      "5  bright_t31     1.657724\n",
      "6         frp     1.822206\n"
     ]
    }
   ],
   "execution_count": 21
  },
  {
   "metadata": {
    "ExecuteTime": {
     "end_time": "2025-06-25T21:42:56.276329Z",
     "start_time": "2025-06-25T21:42:47.720465Z"
    }
   },
   "cell_type": "code",
   "source": [
    "import statsmodels.api as sm\n",
    "\n",
    "temp_data = add_constant(data[['latitude','longitude','brightness','scan','track','confidence','version','bright_t31','frp','daynight','acq_datetime','satellite']])\n",
    "temp_data['daynight']=temp_data['daynight'].map({'N':0,'D':1})\n",
    "temp_data['acq_datetime'] = temp_data['acq_datetime'].apply(lambda x: x.toordinal())\n",
    "temp_data['satellite']=temp_data['satellite'].map({\"Terra\":0,'Aqua':1})\n",
    "\n",
    "X=temp_data.drop(['confidence'],axis=1)\n",
    "X=sm.add_constant(X)\n",
    "y=temp_data['confidence']\n",
    "model=sm.OLS(y,X).fit()\n",
    "\n",
    "model.summary()"
   ],
   "id": "e91830c824e36794",
   "outputs": [
    {
     "data": {
      "text/plain": [
       "<class 'statsmodels.iolib.summary.Summary'>\n",
       "\"\"\"\n",
       "                            OLS Regression Results                            \n",
       "==============================================================================\n",
       "Dep. Variable:             confidence   R-squared:                       0.427\n",
       "Model:                            OLS   Adj. R-squared:                  0.427\n",
       "Method:                 Least Squares   F-statistic:                 2.010e+05\n",
       "Date:                Wed, 25 Jun 2025   Prob (F-statistic):               0.00\n",
       "Time:                        15:42:56   Log-Likelihood:            -1.2665e+07\n",
       "No. Observations:             2960422   AIC:                         2.533e+07\n",
       "Df Residuals:                 2960410   BIC:                         2.533e+07\n",
       "Df Model:                          11                                         \n",
       "Covariance Type:            nonrobust                                         \n",
       "================================================================================\n",
       "                   coef    std err          t      P>|t|      [0.025      0.975]\n",
       "--------------------------------------------------------------------------------\n",
       "const          -67.5930      3.434    -19.683      0.000     -74.324     -60.862\n",
       "latitude        -0.1248      0.001    -98.702      0.000      -0.127      -0.122\n",
       "longitude        0.0370      0.001     54.791      0.000       0.036       0.038\n",
       "brightness       0.8243      0.001   1195.380      0.000       0.823       0.826\n",
       "scan             1.2077      0.068     17.741      0.000       1.074       1.341\n",
       "track            0.6497      0.223      2.914      0.004       0.213       1.087\n",
       "version          0.0098      0.001     12.446      0.000       0.008       0.011\n",
       "bright_t31      -0.2630      0.001   -187.800      0.000      -0.266      -0.260\n",
       "frp             -0.0272   6.55e-05   -415.308      0.000      -0.027      -0.027\n",
       "daynight        -7.7767      0.029   -265.660      0.000      -7.834      -7.719\n",
       "acq_datetime -5.539e-05   4.65e-06    -11.923      0.000   -6.45e-05   -4.63e-05\n",
       "satellite        0.0612      0.021      2.957      0.003       0.021       0.102\n",
       "==============================================================================\n",
       "Omnibus:                   820392.433   Durbin-Watson:                   1.646\n",
       "Prob(Omnibus):                  0.000   Jarque-Bera (JB):          2746316.625\n",
       "Skew:                          -1.398   Prob(JB):                         0.00\n",
       "Kurtosis:                       6.801   Cond. No.                     2.49e+08\n",
       "==============================================================================\n",
       "\n",
       "Notes:\n",
       "[1] Standard Errors assume that the covariance matrix of the errors is correctly specified.\n",
       "[2] The condition number is large, 2.49e+08. This might indicate that there are\n",
       "strong multicollinearity or other numerical problems.\n",
       "\"\"\""
      ],
      "text/html": [
       "<table class=\"simpletable\">\n",
       "<caption>OLS Regression Results</caption>\n",
       "<tr>\n",
       "  <th>Dep. Variable:</th>       <td>confidence</td>    <th>  R-squared:         </th>  <td>   0.427</td>  \n",
       "</tr>\n",
       "<tr>\n",
       "  <th>Model:</th>                   <td>OLS</td>       <th>  Adj. R-squared:    </th>  <td>   0.427</td>  \n",
       "</tr>\n",
       "<tr>\n",
       "  <th>Method:</th>             <td>Least Squares</td>  <th>  F-statistic:       </th>  <td>2.010e+05</td> \n",
       "</tr>\n",
       "<tr>\n",
       "  <th>Date:</th>             <td>Wed, 25 Jun 2025</td> <th>  Prob (F-statistic):</th>   <td>  0.00</td>   \n",
       "</tr>\n",
       "<tr>\n",
       "  <th>Time:</th>                 <td>15:42:56</td>     <th>  Log-Likelihood:    </th> <td>-1.2665e+07</td>\n",
       "</tr>\n",
       "<tr>\n",
       "  <th>No. Observations:</th>      <td>2960422</td>     <th>  AIC:               </th>  <td>2.533e+07</td> \n",
       "</tr>\n",
       "<tr>\n",
       "  <th>Df Residuals:</th>          <td>2960410</td>     <th>  BIC:               </th>  <td>2.533e+07</td> \n",
       "</tr>\n",
       "<tr>\n",
       "  <th>Df Model:</th>              <td>    11</td>      <th>                     </th>      <td> </td>     \n",
       "</tr>\n",
       "<tr>\n",
       "  <th>Covariance Type:</th>      <td>nonrobust</td>    <th>                     </th>      <td> </td>     \n",
       "</tr>\n",
       "</table>\n",
       "<table class=\"simpletable\">\n",
       "<tr>\n",
       "        <td></td>          <th>coef</th>     <th>std err</th>      <th>t</th>      <th>P>|t|</th>  <th>[0.025</th>    <th>0.975]</th>  \n",
       "</tr>\n",
       "<tr>\n",
       "  <th>const</th>        <td>  -67.5930</td> <td>    3.434</td> <td>  -19.683</td> <td> 0.000</td> <td>  -74.324</td> <td>  -60.862</td>\n",
       "</tr>\n",
       "<tr>\n",
       "  <th>latitude</th>     <td>   -0.1248</td> <td>    0.001</td> <td>  -98.702</td> <td> 0.000</td> <td>   -0.127</td> <td>   -0.122</td>\n",
       "</tr>\n",
       "<tr>\n",
       "  <th>longitude</th>    <td>    0.0370</td> <td>    0.001</td> <td>   54.791</td> <td> 0.000</td> <td>    0.036</td> <td>    0.038</td>\n",
       "</tr>\n",
       "<tr>\n",
       "  <th>brightness</th>   <td>    0.8243</td> <td>    0.001</td> <td> 1195.380</td> <td> 0.000</td> <td>    0.823</td> <td>    0.826</td>\n",
       "</tr>\n",
       "<tr>\n",
       "  <th>scan</th>         <td>    1.2077</td> <td>    0.068</td> <td>   17.741</td> <td> 0.000</td> <td>    1.074</td> <td>    1.341</td>\n",
       "</tr>\n",
       "<tr>\n",
       "  <th>track</th>        <td>    0.6497</td> <td>    0.223</td> <td>    2.914</td> <td> 0.004</td> <td>    0.213</td> <td>    1.087</td>\n",
       "</tr>\n",
       "<tr>\n",
       "  <th>version</th>      <td>    0.0098</td> <td>    0.001</td> <td>   12.446</td> <td> 0.000</td> <td>    0.008</td> <td>    0.011</td>\n",
       "</tr>\n",
       "<tr>\n",
       "  <th>bright_t31</th>   <td>   -0.2630</td> <td>    0.001</td> <td> -187.800</td> <td> 0.000</td> <td>   -0.266</td> <td>   -0.260</td>\n",
       "</tr>\n",
       "<tr>\n",
       "  <th>frp</th>          <td>   -0.0272</td> <td> 6.55e-05</td> <td> -415.308</td> <td> 0.000</td> <td>   -0.027</td> <td>   -0.027</td>\n",
       "</tr>\n",
       "<tr>\n",
       "  <th>daynight</th>     <td>   -7.7767</td> <td>    0.029</td> <td> -265.660</td> <td> 0.000</td> <td>   -7.834</td> <td>   -7.719</td>\n",
       "</tr>\n",
       "<tr>\n",
       "  <th>acq_datetime</th> <td>-5.539e-05</td> <td> 4.65e-06</td> <td>  -11.923</td> <td> 0.000</td> <td>-6.45e-05</td> <td>-4.63e-05</td>\n",
       "</tr>\n",
       "<tr>\n",
       "  <th>satellite</th>    <td>    0.0612</td> <td>    0.021</td> <td>    2.957</td> <td> 0.003</td> <td>    0.021</td> <td>    0.102</td>\n",
       "</tr>\n",
       "</table>\n",
       "<table class=\"simpletable\">\n",
       "<tr>\n",
       "  <th>Omnibus:</th>       <td>820392.433</td> <th>  Durbin-Watson:     </th>  <td>   1.646</td>  \n",
       "</tr>\n",
       "<tr>\n",
       "  <th>Prob(Omnibus):</th>   <td> 0.000</td>   <th>  Jarque-Bera (JB):  </th> <td>2746316.625</td>\n",
       "</tr>\n",
       "<tr>\n",
       "  <th>Skew:</th>            <td>-1.398</td>   <th>  Prob(JB):          </th>  <td>    0.00</td>  \n",
       "</tr>\n",
       "<tr>\n",
       "  <th>Kurtosis:</th>        <td> 6.801</td>   <th>  Cond. No.          </th>  <td>2.49e+08</td>  \n",
       "</tr>\n",
       "</table><br/><br/>Notes:<br/>[1] Standard Errors assume that the covariance matrix of the errors is correctly specified.<br/>[2] The condition number is large, 2.49e+08. This might indicate that there are<br/>strong multicollinearity or other numerical problems."
      ],
      "text/latex": "\\begin{center}\n\\begin{tabular}{lclc}\n\\toprule\n\\textbf{Dep. Variable:}    &    confidence    & \\textbf{  R-squared:         } &      0.427   \\\\\n\\textbf{Model:}            &       OLS        & \\textbf{  Adj. R-squared:    } &      0.427   \\\\\n\\textbf{Method:}           &  Least Squares   & \\textbf{  F-statistic:       } &  2.010e+05   \\\\\n\\textbf{Date:}             & Wed, 25 Jun 2025 & \\textbf{  Prob (F-statistic):} &      0.00    \\\\\n\\textbf{Time:}             &     15:42:56     & \\textbf{  Log-Likelihood:    } & -1.2665e+07  \\\\\n\\textbf{No. Observations:} &     2960422      & \\textbf{  AIC:               } &  2.533e+07   \\\\\n\\textbf{Df Residuals:}     &     2960410      & \\textbf{  BIC:               } &  2.533e+07   \\\\\n\\textbf{Df Model:}         &          11      & \\textbf{                     } &              \\\\\n\\textbf{Covariance Type:}  &    nonrobust     & \\textbf{                     } &              \\\\\n\\bottomrule\n\\end{tabular}\n\\begin{tabular}{lcccccc}\n                       & \\textbf{coef} & \\textbf{std err} & \\textbf{t} & \\textbf{P$> |$t$|$} & \\textbf{[0.025} & \\textbf{0.975]}  \\\\\n\\midrule\n\\textbf{const}         &     -67.5930  &        3.434     &   -19.683  &         0.000        &      -74.324    &      -60.862     \\\\\n\\textbf{latitude}      &      -0.1248  &        0.001     &   -98.702  &         0.000        &       -0.127    &       -0.122     \\\\\n\\textbf{longitude}     &       0.0370  &        0.001     &    54.791  &         0.000        &        0.036    &        0.038     \\\\\n\\textbf{brightness}    &       0.8243  &        0.001     &  1195.380  &         0.000        &        0.823    &        0.826     \\\\\n\\textbf{scan}          &       1.2077  &        0.068     &    17.741  &         0.000        &        1.074    &        1.341     \\\\\n\\textbf{track}         &       0.6497  &        0.223     &     2.914  &         0.004        &        0.213    &        1.087     \\\\\n\\textbf{version}       &       0.0098  &        0.001     &    12.446  &         0.000        &        0.008    &        0.011     \\\\\n\\textbf{bright\\_t31}   &      -0.2630  &        0.001     &  -187.800  &         0.000        &       -0.266    &       -0.260     \\\\\n\\textbf{frp}           &      -0.0272  &     6.55e-05     &  -415.308  &         0.000        &       -0.027    &       -0.027     \\\\\n\\textbf{daynight}      &      -7.7767  &        0.029     &  -265.660  &         0.000        &       -7.834    &       -7.719     \\\\\n\\textbf{acq\\_datetime} &   -5.539e-05  &     4.65e-06     &   -11.923  &         0.000        &    -6.45e-05    &    -4.63e-05     \\\\\n\\textbf{satellite}     &       0.0612  &        0.021     &     2.957  &         0.003        &        0.021    &        0.102     \\\\\n\\bottomrule\n\\end{tabular}\n\\begin{tabular}{lclc}\n\\textbf{Omnibus:}       & 820392.433 & \\textbf{  Durbin-Watson:     } &      1.646   \\\\\n\\textbf{Prob(Omnibus):} &    0.000   & \\textbf{  Jarque-Bera (JB):  } & 2746316.625  \\\\\n\\textbf{Skew:}          &   -1.398   & \\textbf{  Prob(JB):          } &       0.00   \\\\\n\\textbf{Kurtosis:}      &    6.801   & \\textbf{  Cond. No.          } &   2.49e+08   \\\\\n\\bottomrule\n\\end{tabular}\n%\\caption{OLS Regression Results}\n\\end{center}\n\nNotes: \\newline\n [1] Standard Errors assume that the covariance matrix of the errors is correctly specified. \\newline\n [2] The condition number is large, 2.49e+08. This might indicate that there are \\newline\n strong multicollinearity or other numerical problems."
     },
     "execution_count": 24,
     "metadata": {},
     "output_type": "execute_result"
    }
   ],
   "execution_count": 24
  },
  {
   "metadata": {
    "ExecuteTime": {
     "end_time": "2025-06-26T20:11:12.892617Z",
     "start_time": "2025-06-26T20:11:12.060723Z"
    }
   },
   "cell_type": "code",
   "source": [
    "temp_data = add_constant(data[['scan','track','confidence']])\n",
    "\n",
    "X=temp_data.drop(['confidence'],axis=1)\n",
    "X=sm.add_constant(X)\n",
    "y=temp_data['confidence']\n",
    "model=sm.OLS(y,X).fit()\n",
    "\n",
    "model.summary()"
   ],
   "id": "e3d4fab4395c80fa",
   "outputs": [
    {
     "data": {
      "text/plain": [
       "<class 'statsmodels.iolib.summary.Summary'>\n",
       "\"\"\"\n",
       "                            OLS Regression Results                            \n",
       "==============================================================================\n",
       "Dep. Variable:             confidence   R-squared:                       0.001\n",
       "Model:                            OLS   Adj. R-squared:                  0.001\n",
       "Method:                 Least Squares   F-statistic:                     1481.\n",
       "Date:                Thu, 26 Jun 2025   Prob (F-statistic):               0.00\n",
       "Time:                        14:11:12   Log-Likelihood:            -1.3489e+07\n",
       "No. Observations:             2960422   AIC:                         2.698e+07\n",
       "Df Residuals:                 2960419   BIC:                         2.698e+07\n",
       "Df Model:                           2                                         \n",
       "Covariance Type:            nonrobust                                         \n",
       "==============================================================================\n",
       "                 coef    std err          t      P>|t|      [0.025      0.975]\n",
       "------------------------------------------------------------------------------\n",
       "const         68.3616      0.217    315.675      0.000      67.937      68.786\n",
       "scan          -1.4364      0.090    -16.007      0.000      -1.612      -1.260\n",
       "track          1.8380      0.294      6.244      0.000       1.261       2.415\n",
       "==============================================================================\n",
       "Omnibus:                   131964.453   Durbin-Watson:                   1.491\n",
       "Prob(Omnibus):                  0.000   Jarque-Bera (JB):           150413.805\n",
       "Skew:                          -0.551   Prob(JB):                         0.00\n",
       "Kurtosis:                       2.939   Cond. No.                         66.3\n",
       "==============================================================================\n",
       "\n",
       "Notes:\n",
       "[1] Standard Errors assume that the covariance matrix of the errors is correctly specified.\n",
       "\"\"\""
      ],
      "text/html": [
       "<table class=\"simpletable\">\n",
       "<caption>OLS Regression Results</caption>\n",
       "<tr>\n",
       "  <th>Dep. Variable:</th>       <td>confidence</td>    <th>  R-squared:         </th>  <td>   0.001</td>  \n",
       "</tr>\n",
       "<tr>\n",
       "  <th>Model:</th>                   <td>OLS</td>       <th>  Adj. R-squared:    </th>  <td>   0.001</td>  \n",
       "</tr>\n",
       "<tr>\n",
       "  <th>Method:</th>             <td>Least Squares</td>  <th>  F-statistic:       </th>  <td>   1481.</td>  \n",
       "</tr>\n",
       "<tr>\n",
       "  <th>Date:</th>             <td>Thu, 26 Jun 2025</td> <th>  Prob (F-statistic):</th>   <td>  0.00</td>   \n",
       "</tr>\n",
       "<tr>\n",
       "  <th>Time:</th>                 <td>14:11:12</td>     <th>  Log-Likelihood:    </th> <td>-1.3489e+07</td>\n",
       "</tr>\n",
       "<tr>\n",
       "  <th>No. Observations:</th>      <td>2960422</td>     <th>  AIC:               </th>  <td>2.698e+07</td> \n",
       "</tr>\n",
       "<tr>\n",
       "  <th>Df Residuals:</th>          <td>2960419</td>     <th>  BIC:               </th>  <td>2.698e+07</td> \n",
       "</tr>\n",
       "<tr>\n",
       "  <th>Df Model:</th>              <td>     2</td>      <th>                     </th>      <td> </td>     \n",
       "</tr>\n",
       "<tr>\n",
       "  <th>Covariance Type:</th>      <td>nonrobust</td>    <th>                     </th>      <td> </td>     \n",
       "</tr>\n",
       "</table>\n",
       "<table class=\"simpletable\">\n",
       "<tr>\n",
       "    <td></td>       <th>coef</th>     <th>std err</th>      <th>t</th>      <th>P>|t|</th>  <th>[0.025</th>    <th>0.975]</th>  \n",
       "</tr>\n",
       "<tr>\n",
       "  <th>const</th> <td>   68.3616</td> <td>    0.217</td> <td>  315.675</td> <td> 0.000</td> <td>   67.937</td> <td>   68.786</td>\n",
       "</tr>\n",
       "<tr>\n",
       "  <th>scan</th>  <td>   -1.4364</td> <td>    0.090</td> <td>  -16.007</td> <td> 0.000</td> <td>   -1.612</td> <td>   -1.260</td>\n",
       "</tr>\n",
       "<tr>\n",
       "  <th>track</th> <td>    1.8380</td> <td>    0.294</td> <td>    6.244</td> <td> 0.000</td> <td>    1.261</td> <td>    2.415</td>\n",
       "</tr>\n",
       "</table>\n",
       "<table class=\"simpletable\">\n",
       "<tr>\n",
       "  <th>Omnibus:</th>       <td>131964.453</td> <th>  Durbin-Watson:     </th>  <td>   1.491</td> \n",
       "</tr>\n",
       "<tr>\n",
       "  <th>Prob(Omnibus):</th>   <td> 0.000</td>   <th>  Jarque-Bera (JB):  </th> <td>150413.805</td>\n",
       "</tr>\n",
       "<tr>\n",
       "  <th>Skew:</th>            <td>-0.551</td>   <th>  Prob(JB):          </th>  <td>    0.00</td> \n",
       "</tr>\n",
       "<tr>\n",
       "  <th>Kurtosis:</th>        <td> 2.939</td>   <th>  Cond. No.          </th>  <td>    66.3</td> \n",
       "</tr>\n",
       "</table><br/><br/>Notes:<br/>[1] Standard Errors assume that the covariance matrix of the errors is correctly specified."
      ],
      "text/latex": "\\begin{center}\n\\begin{tabular}{lclc}\n\\toprule\n\\textbf{Dep. Variable:}    &    confidence    & \\textbf{  R-squared:         } &      0.001   \\\\\n\\textbf{Model:}            &       OLS        & \\textbf{  Adj. R-squared:    } &      0.001   \\\\\n\\textbf{Method:}           &  Least Squares   & \\textbf{  F-statistic:       } &      1481.   \\\\\n\\textbf{Date:}             & Thu, 26 Jun 2025 & \\textbf{  Prob (F-statistic):} &      0.00    \\\\\n\\textbf{Time:}             &     14:11:12     & \\textbf{  Log-Likelihood:    } & -1.3489e+07  \\\\\n\\textbf{No. Observations:} &     2960422      & \\textbf{  AIC:               } &  2.698e+07   \\\\\n\\textbf{Df Residuals:}     &     2960419      & \\textbf{  BIC:               } &  2.698e+07   \\\\\n\\textbf{Df Model:}         &           2      & \\textbf{                     } &              \\\\\n\\textbf{Covariance Type:}  &    nonrobust     & \\textbf{                     } &              \\\\\n\\bottomrule\n\\end{tabular}\n\\begin{tabular}{lcccccc}\n               & \\textbf{coef} & \\textbf{std err} & \\textbf{t} & \\textbf{P$> |$t$|$} & \\textbf{[0.025} & \\textbf{0.975]}  \\\\\n\\midrule\n\\textbf{const} &      68.3616  &        0.217     &   315.675  &         0.000        &       67.937    &       68.786     \\\\\n\\textbf{scan}  &      -1.4364  &        0.090     &   -16.007  &         0.000        &       -1.612    &       -1.260     \\\\\n\\textbf{track} &       1.8380  &        0.294     &     6.244  &         0.000        &        1.261    &        2.415     \\\\\n\\bottomrule\n\\end{tabular}\n\\begin{tabular}{lclc}\n\\textbf{Omnibus:}       & 131964.453 & \\textbf{  Durbin-Watson:     } &     1.491   \\\\\n\\textbf{Prob(Omnibus):} &    0.000   & \\textbf{  Jarque-Bera (JB):  } & 150413.805  \\\\\n\\textbf{Skew:}          &   -0.551   & \\textbf{  Prob(JB):          } &      0.00   \\\\\n\\textbf{Kurtosis:}      &    2.939   & \\textbf{  Cond. No.          } &      66.3   \\\\\n\\bottomrule\n\\end{tabular}\n%\\caption{OLS Regression Results}\n\\end{center}\n\nNotes: \\newline\n [1] Standard Errors assume that the covariance matrix of the errors is correctly specified."
     },
     "execution_count": 27,
     "metadata": {},
     "output_type": "execute_result"
    }
   ],
   "execution_count": 27
  },
  {
   "metadata": {
    "ExecuteTime": {
     "end_time": "2025-06-26T21:13:48.834390Z",
     "start_time": "2025-06-26T21:01:32.773364Z"
    }
   },
   "cell_type": "code",
   "source": [
    "X=data.drop(['confidence'],axis=1)\n",
    "X['daynight']=X['daynight'].map({\"N\":0,\"D\":1})\n",
    "X['satellite']=X['satellite'].map({'Aqua':0,'Terra':1})\n",
    "X['acq_datetime'] = X['acq_datetime'].apply(lambda x: x.toordinal())\n",
    "X[\"something\"]=X['scan']*X['track']\n",
    "X.drop(['scan','track'],axis=1,inplace=True)\n",
    "\n",
    "y=data['confidence']\n",
    "\n",
    "X_train,X_test,y_train,y_test=train_test_split(X,y,test_size=0.7)\n",
    "\n",
    "rf=RandomForestRegressor(n_estimators=80)\n",
    "rf.fit(X_train, y_train)\n",
    "\n",
    "y_pred = rf.predict(X_test)\n",
    "\n",
    "print(\"R^2 score:\", r2_score(y_test, y_pred))\n",
    "print(\"RMSE:\", (mean_squared_error(y_test, y_pred)**0.5)/100)"
   ],
   "id": "6d61229c14c450f",
   "outputs": [
    {
     "name": "stdout",
     "output_type": "stream",
     "text": [
      "R^2 score: 0.676755425021836\n",
      "RMSE: 0.13115132078422376\n"
     ]
    }
   ],
   "execution_count": 29
  },
  {
   "metadata": {},
   "cell_type": "code",
   "outputs": [],
   "execution_count": null,
   "source": "{c:f for c,f in zip(X.columns,rf.feature_importances_)}",
   "id": "1cd1921b59316b99"
  }
 ],
 "metadata": {
  "kernelspec": {
   "display_name": "Python 3",
   "language": "python",
   "name": "python3"
  },
  "language_info": {
   "codemirror_mode": {
    "name": "ipython",
    "version": 2
   },
   "file_extension": ".py",
   "mimetype": "text/x-python",
   "name": "python",
   "nbconvert_exporter": "python",
   "pygments_lexer": "ipython2",
   "version": "2.7.6"
  }
 },
 "nbformat": 4,
 "nbformat_minor": 5
}

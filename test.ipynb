{
 "cells": [
  {
   "cell_type": "code",
   "id": "initial_id",
   "metadata": {
    "collapsed": true,
    "ExecuteTime": {
     "end_time": "2025-06-25T20:58:17.418930Z",
     "start_time": "2025-06-25T20:58:12.250872Z"
    }
   },
   "source": [
    "import pandas as pd\n",
    "import os\n",
    "import plotly.graph_objects as go\n",
    "\n",
    "path=os.getcwd()+\"\\\\data\\\\fire_archive_M-C61_626683.csv.xz\"\n",
    "data=pd.read_csv(path)\n",
    "data"
   ],
   "outputs": [
    {
     "data": {
      "text/plain": [
       "         latitude  longitude  brightness  scan  track    acq_date  acq_time  \\\n",
       "0         38.5422   -78.3047       304.8   2.8    1.6  2000-11-01       250   \n",
       "1         38.5451   -78.3107       309.9   2.8    1.6  2000-11-01       250   \n",
       "2         38.5563   -78.3084       309.4   2.8    1.6  2000-11-01       250   \n",
       "3         38.5586   -78.3170       302.3   2.8    1.6  2000-11-01       250   \n",
       "4         31.3393   -89.9124       304.9   1.0    1.0  2000-11-01       427   \n",
       "...           ...        ...         ...   ...    ...         ...       ...   \n",
       "2960417   41.6966   -99.1437       319.8   1.1    1.0  2025-01-31      2028   \n",
       "2960418   42.4419   -94.3783       300.6   1.2    1.1  2025-01-31      2028   \n",
       "2960419   41.4014   -97.9485       319.9   1.0    1.0  2025-01-31      2028   \n",
       "2960420   41.4032   -97.9369       322.9   1.0    1.0  2025-01-31      2028   \n",
       "2960421   42.7180  -120.4872       303.0   1.1    1.0  2025-01-31      2207   \n",
       "\n",
       "        satellite instrument  confidence  version  bright_t31   frp daynight  \\\n",
       "0           Terra      MODIS          23     6.03       280.9  40.3        N   \n",
       "1           Terra      MODIS          79     6.03       280.7  58.8        N   \n",
       "2           Terra      MODIS          70     6.03       280.4  54.5        N   \n",
       "3           Terra      MODIS          45     6.03       279.8  36.0        N   \n",
       "4           Terra      MODIS          62     6.03       287.5   8.5        N   \n",
       "...           ...        ...         ...      ...         ...   ...      ...   \n",
       "2960417      Aqua      MODIS          80    61.03       284.7  21.2        D   \n",
       "2960418      Aqua      MODIS          40    61.03       284.3   6.3        D   \n",
       "2960419      Aqua      MODIS          80    61.03       284.9  19.0        D   \n",
       "2960420      Aqua      MODIS          82    61.03       285.0  22.1        D   \n",
       "2960421      Aqua      MODIS          51    61.03       281.1   7.8        D   \n",
       "\n",
       "         type  \n",
       "0           0  \n",
       "1           0  \n",
       "2           0  \n",
       "3           0  \n",
       "4           0  \n",
       "...       ...  \n",
       "2960417     0  \n",
       "2960418     0  \n",
       "2960419     0  \n",
       "2960420     0  \n",
       "2960421     0  \n",
       "\n",
       "[2960422 rows x 15 columns]"
      ],
      "text/html": [
       "<div>\n",
       "<style scoped>\n",
       "    .dataframe tbody tr th:only-of-type {\n",
       "        vertical-align: middle;\n",
       "    }\n",
       "\n",
       "    .dataframe tbody tr th {\n",
       "        vertical-align: top;\n",
       "    }\n",
       "\n",
       "    .dataframe thead th {\n",
       "        text-align: right;\n",
       "    }\n",
       "</style>\n",
       "<table border=\"1\" class=\"dataframe\">\n",
       "  <thead>\n",
       "    <tr style=\"text-align: right;\">\n",
       "      <th></th>\n",
       "      <th>latitude</th>\n",
       "      <th>longitude</th>\n",
       "      <th>brightness</th>\n",
       "      <th>scan</th>\n",
       "      <th>track</th>\n",
       "      <th>acq_date</th>\n",
       "      <th>acq_time</th>\n",
       "      <th>satellite</th>\n",
       "      <th>instrument</th>\n",
       "      <th>confidence</th>\n",
       "      <th>version</th>\n",
       "      <th>bright_t31</th>\n",
       "      <th>frp</th>\n",
       "      <th>daynight</th>\n",
       "      <th>type</th>\n",
       "    </tr>\n",
       "  </thead>\n",
       "  <tbody>\n",
       "    <tr>\n",
       "      <th>0</th>\n",
       "      <td>38.5422</td>\n",
       "      <td>-78.3047</td>\n",
       "      <td>304.8</td>\n",
       "      <td>2.8</td>\n",
       "      <td>1.6</td>\n",
       "      <td>2000-11-01</td>\n",
       "      <td>250</td>\n",
       "      <td>Terra</td>\n",
       "      <td>MODIS</td>\n",
       "      <td>23</td>\n",
       "      <td>6.03</td>\n",
       "      <td>280.9</td>\n",
       "      <td>40.3</td>\n",
       "      <td>N</td>\n",
       "      <td>0</td>\n",
       "    </tr>\n",
       "    <tr>\n",
       "      <th>1</th>\n",
       "      <td>38.5451</td>\n",
       "      <td>-78.3107</td>\n",
       "      <td>309.9</td>\n",
       "      <td>2.8</td>\n",
       "      <td>1.6</td>\n",
       "      <td>2000-11-01</td>\n",
       "      <td>250</td>\n",
       "      <td>Terra</td>\n",
       "      <td>MODIS</td>\n",
       "      <td>79</td>\n",
       "      <td>6.03</td>\n",
       "      <td>280.7</td>\n",
       "      <td>58.8</td>\n",
       "      <td>N</td>\n",
       "      <td>0</td>\n",
       "    </tr>\n",
       "    <tr>\n",
       "      <th>2</th>\n",
       "      <td>38.5563</td>\n",
       "      <td>-78.3084</td>\n",
       "      <td>309.4</td>\n",
       "      <td>2.8</td>\n",
       "      <td>1.6</td>\n",
       "      <td>2000-11-01</td>\n",
       "      <td>250</td>\n",
       "      <td>Terra</td>\n",
       "      <td>MODIS</td>\n",
       "      <td>70</td>\n",
       "      <td>6.03</td>\n",
       "      <td>280.4</td>\n",
       "      <td>54.5</td>\n",
       "      <td>N</td>\n",
       "      <td>0</td>\n",
       "    </tr>\n",
       "    <tr>\n",
       "      <th>3</th>\n",
       "      <td>38.5586</td>\n",
       "      <td>-78.3170</td>\n",
       "      <td>302.3</td>\n",
       "      <td>2.8</td>\n",
       "      <td>1.6</td>\n",
       "      <td>2000-11-01</td>\n",
       "      <td>250</td>\n",
       "      <td>Terra</td>\n",
       "      <td>MODIS</td>\n",
       "      <td>45</td>\n",
       "      <td>6.03</td>\n",
       "      <td>279.8</td>\n",
       "      <td>36.0</td>\n",
       "      <td>N</td>\n",
       "      <td>0</td>\n",
       "    </tr>\n",
       "    <tr>\n",
       "      <th>4</th>\n",
       "      <td>31.3393</td>\n",
       "      <td>-89.9124</td>\n",
       "      <td>304.9</td>\n",
       "      <td>1.0</td>\n",
       "      <td>1.0</td>\n",
       "      <td>2000-11-01</td>\n",
       "      <td>427</td>\n",
       "      <td>Terra</td>\n",
       "      <td>MODIS</td>\n",
       "      <td>62</td>\n",
       "      <td>6.03</td>\n",
       "      <td>287.5</td>\n",
       "      <td>8.5</td>\n",
       "      <td>N</td>\n",
       "      <td>0</td>\n",
       "    </tr>\n",
       "    <tr>\n",
       "      <th>...</th>\n",
       "      <td>...</td>\n",
       "      <td>...</td>\n",
       "      <td>...</td>\n",
       "      <td>...</td>\n",
       "      <td>...</td>\n",
       "      <td>...</td>\n",
       "      <td>...</td>\n",
       "      <td>...</td>\n",
       "      <td>...</td>\n",
       "      <td>...</td>\n",
       "      <td>...</td>\n",
       "      <td>...</td>\n",
       "      <td>...</td>\n",
       "      <td>...</td>\n",
       "      <td>...</td>\n",
       "    </tr>\n",
       "    <tr>\n",
       "      <th>2960417</th>\n",
       "      <td>41.6966</td>\n",
       "      <td>-99.1437</td>\n",
       "      <td>319.8</td>\n",
       "      <td>1.1</td>\n",
       "      <td>1.0</td>\n",
       "      <td>2025-01-31</td>\n",
       "      <td>2028</td>\n",
       "      <td>Aqua</td>\n",
       "      <td>MODIS</td>\n",
       "      <td>80</td>\n",
       "      <td>61.03</td>\n",
       "      <td>284.7</td>\n",
       "      <td>21.2</td>\n",
       "      <td>D</td>\n",
       "      <td>0</td>\n",
       "    </tr>\n",
       "    <tr>\n",
       "      <th>2960418</th>\n",
       "      <td>42.4419</td>\n",
       "      <td>-94.3783</td>\n",
       "      <td>300.6</td>\n",
       "      <td>1.2</td>\n",
       "      <td>1.1</td>\n",
       "      <td>2025-01-31</td>\n",
       "      <td>2028</td>\n",
       "      <td>Aqua</td>\n",
       "      <td>MODIS</td>\n",
       "      <td>40</td>\n",
       "      <td>61.03</td>\n",
       "      <td>284.3</td>\n",
       "      <td>6.3</td>\n",
       "      <td>D</td>\n",
       "      <td>0</td>\n",
       "    </tr>\n",
       "    <tr>\n",
       "      <th>2960419</th>\n",
       "      <td>41.4014</td>\n",
       "      <td>-97.9485</td>\n",
       "      <td>319.9</td>\n",
       "      <td>1.0</td>\n",
       "      <td>1.0</td>\n",
       "      <td>2025-01-31</td>\n",
       "      <td>2028</td>\n",
       "      <td>Aqua</td>\n",
       "      <td>MODIS</td>\n",
       "      <td>80</td>\n",
       "      <td>61.03</td>\n",
       "      <td>284.9</td>\n",
       "      <td>19.0</td>\n",
       "      <td>D</td>\n",
       "      <td>0</td>\n",
       "    </tr>\n",
       "    <tr>\n",
       "      <th>2960420</th>\n",
       "      <td>41.4032</td>\n",
       "      <td>-97.9369</td>\n",
       "      <td>322.9</td>\n",
       "      <td>1.0</td>\n",
       "      <td>1.0</td>\n",
       "      <td>2025-01-31</td>\n",
       "      <td>2028</td>\n",
       "      <td>Aqua</td>\n",
       "      <td>MODIS</td>\n",
       "      <td>82</td>\n",
       "      <td>61.03</td>\n",
       "      <td>285.0</td>\n",
       "      <td>22.1</td>\n",
       "      <td>D</td>\n",
       "      <td>0</td>\n",
       "    </tr>\n",
       "    <tr>\n",
       "      <th>2960421</th>\n",
       "      <td>42.7180</td>\n",
       "      <td>-120.4872</td>\n",
       "      <td>303.0</td>\n",
       "      <td>1.1</td>\n",
       "      <td>1.0</td>\n",
       "      <td>2025-01-31</td>\n",
       "      <td>2207</td>\n",
       "      <td>Aqua</td>\n",
       "      <td>MODIS</td>\n",
       "      <td>51</td>\n",
       "      <td>61.03</td>\n",
       "      <td>281.1</td>\n",
       "      <td>7.8</td>\n",
       "      <td>D</td>\n",
       "      <td>0</td>\n",
       "    </tr>\n",
       "  </tbody>\n",
       "</table>\n",
       "<p>2960422 rows × 15 columns</p>\n",
       "</div>"
      ]
     },
     "execution_count": 4,
     "metadata": {},
     "output_type": "execute_result"
    }
   ],
   "execution_count": 4
  },
  {
   "metadata": {
    "ExecuteTime": {
     "end_time": "2025-06-25T20:58:28.047113Z",
     "start_time": "2025-06-25T20:58:17.458005Z"
    }
   },
   "cell_type": "code",
   "source": [
    "from datetime import timedelta\n",
    "data['acq_date']=pd.to_datetime(data['acq_date'])\n",
    "data['acq_datetime'] = data['acq_date'] + pd.Series([timedelta(minutes=i%100,hours=i//100) for i in data['acq_time']])\n",
    "data.drop('acq_time',axis=1,inplace=True)\n",
    "data.drop('acq_date',axis=1,inplace=True)\n",
    "data.drop('instrument',axis=1,inplace=True)\n",
    "data"
   ],
   "id": "4bd4378db4fe0803",
   "outputs": [
    {
     "data": {
      "text/plain": [
       "         latitude  longitude  brightness  scan  track satellite  confidence  \\\n",
       "0         38.5422   -78.3047       304.8   2.8    1.6     Terra          23   \n",
       "1         38.5451   -78.3107       309.9   2.8    1.6     Terra          79   \n",
       "2         38.5563   -78.3084       309.4   2.8    1.6     Terra          70   \n",
       "3         38.5586   -78.3170       302.3   2.8    1.6     Terra          45   \n",
       "4         31.3393   -89.9124       304.9   1.0    1.0     Terra          62   \n",
       "...           ...        ...         ...   ...    ...       ...         ...   \n",
       "2960417   41.6966   -99.1437       319.8   1.1    1.0      Aqua          80   \n",
       "2960418   42.4419   -94.3783       300.6   1.2    1.1      Aqua          40   \n",
       "2960419   41.4014   -97.9485       319.9   1.0    1.0      Aqua          80   \n",
       "2960420   41.4032   -97.9369       322.9   1.0    1.0      Aqua          82   \n",
       "2960421   42.7180  -120.4872       303.0   1.1    1.0      Aqua          51   \n",
       "\n",
       "         version  bright_t31   frp daynight  type        acq_datetime  \n",
       "0           6.03       280.9  40.3        N     0 2000-11-01 02:50:00  \n",
       "1           6.03       280.7  58.8        N     0 2000-11-01 02:50:00  \n",
       "2           6.03       280.4  54.5        N     0 2000-11-01 02:50:00  \n",
       "3           6.03       279.8  36.0        N     0 2000-11-01 02:50:00  \n",
       "4           6.03       287.5   8.5        N     0 2000-11-01 04:27:00  \n",
       "...          ...         ...   ...      ...   ...                 ...  \n",
       "2960417    61.03       284.7  21.2        D     0 2025-01-31 20:28:00  \n",
       "2960418    61.03       284.3   6.3        D     0 2025-01-31 20:28:00  \n",
       "2960419    61.03       284.9  19.0        D     0 2025-01-31 20:28:00  \n",
       "2960420    61.03       285.0  22.1        D     0 2025-01-31 20:28:00  \n",
       "2960421    61.03       281.1   7.8        D     0 2025-01-31 22:07:00  \n",
       "\n",
       "[2960422 rows x 13 columns]"
      ],
      "text/html": [
       "<div>\n",
       "<style scoped>\n",
       "    .dataframe tbody tr th:only-of-type {\n",
       "        vertical-align: middle;\n",
       "    }\n",
       "\n",
       "    .dataframe tbody tr th {\n",
       "        vertical-align: top;\n",
       "    }\n",
       "\n",
       "    .dataframe thead th {\n",
       "        text-align: right;\n",
       "    }\n",
       "</style>\n",
       "<table border=\"1\" class=\"dataframe\">\n",
       "  <thead>\n",
       "    <tr style=\"text-align: right;\">\n",
       "      <th></th>\n",
       "      <th>latitude</th>\n",
       "      <th>longitude</th>\n",
       "      <th>brightness</th>\n",
       "      <th>scan</th>\n",
       "      <th>track</th>\n",
       "      <th>satellite</th>\n",
       "      <th>confidence</th>\n",
       "      <th>version</th>\n",
       "      <th>bright_t31</th>\n",
       "      <th>frp</th>\n",
       "      <th>daynight</th>\n",
       "      <th>type</th>\n",
       "      <th>acq_datetime</th>\n",
       "    </tr>\n",
       "  </thead>\n",
       "  <tbody>\n",
       "    <tr>\n",
       "      <th>0</th>\n",
       "      <td>38.5422</td>\n",
       "      <td>-78.3047</td>\n",
       "      <td>304.8</td>\n",
       "      <td>2.8</td>\n",
       "      <td>1.6</td>\n",
       "      <td>Terra</td>\n",
       "      <td>23</td>\n",
       "      <td>6.03</td>\n",
       "      <td>280.9</td>\n",
       "      <td>40.3</td>\n",
       "      <td>N</td>\n",
       "      <td>0</td>\n",
       "      <td>2000-11-01 02:50:00</td>\n",
       "    </tr>\n",
       "    <tr>\n",
       "      <th>1</th>\n",
       "      <td>38.5451</td>\n",
       "      <td>-78.3107</td>\n",
       "      <td>309.9</td>\n",
       "      <td>2.8</td>\n",
       "      <td>1.6</td>\n",
       "      <td>Terra</td>\n",
       "      <td>79</td>\n",
       "      <td>6.03</td>\n",
       "      <td>280.7</td>\n",
       "      <td>58.8</td>\n",
       "      <td>N</td>\n",
       "      <td>0</td>\n",
       "      <td>2000-11-01 02:50:00</td>\n",
       "    </tr>\n",
       "    <tr>\n",
       "      <th>2</th>\n",
       "      <td>38.5563</td>\n",
       "      <td>-78.3084</td>\n",
       "      <td>309.4</td>\n",
       "      <td>2.8</td>\n",
       "      <td>1.6</td>\n",
       "      <td>Terra</td>\n",
       "      <td>70</td>\n",
       "      <td>6.03</td>\n",
       "      <td>280.4</td>\n",
       "      <td>54.5</td>\n",
       "      <td>N</td>\n",
       "      <td>0</td>\n",
       "      <td>2000-11-01 02:50:00</td>\n",
       "    </tr>\n",
       "    <tr>\n",
       "      <th>3</th>\n",
       "      <td>38.5586</td>\n",
       "      <td>-78.3170</td>\n",
       "      <td>302.3</td>\n",
       "      <td>2.8</td>\n",
       "      <td>1.6</td>\n",
       "      <td>Terra</td>\n",
       "      <td>45</td>\n",
       "      <td>6.03</td>\n",
       "      <td>279.8</td>\n",
       "      <td>36.0</td>\n",
       "      <td>N</td>\n",
       "      <td>0</td>\n",
       "      <td>2000-11-01 02:50:00</td>\n",
       "    </tr>\n",
       "    <tr>\n",
       "      <th>4</th>\n",
       "      <td>31.3393</td>\n",
       "      <td>-89.9124</td>\n",
       "      <td>304.9</td>\n",
       "      <td>1.0</td>\n",
       "      <td>1.0</td>\n",
       "      <td>Terra</td>\n",
       "      <td>62</td>\n",
       "      <td>6.03</td>\n",
       "      <td>287.5</td>\n",
       "      <td>8.5</td>\n",
       "      <td>N</td>\n",
       "      <td>0</td>\n",
       "      <td>2000-11-01 04:27:00</td>\n",
       "    </tr>\n",
       "    <tr>\n",
       "      <th>...</th>\n",
       "      <td>...</td>\n",
       "      <td>...</td>\n",
       "      <td>...</td>\n",
       "      <td>...</td>\n",
       "      <td>...</td>\n",
       "      <td>...</td>\n",
       "      <td>...</td>\n",
       "      <td>...</td>\n",
       "      <td>...</td>\n",
       "      <td>...</td>\n",
       "      <td>...</td>\n",
       "      <td>...</td>\n",
       "      <td>...</td>\n",
       "    </tr>\n",
       "    <tr>\n",
       "      <th>2960417</th>\n",
       "      <td>41.6966</td>\n",
       "      <td>-99.1437</td>\n",
       "      <td>319.8</td>\n",
       "      <td>1.1</td>\n",
       "      <td>1.0</td>\n",
       "      <td>Aqua</td>\n",
       "      <td>80</td>\n",
       "      <td>61.03</td>\n",
       "      <td>284.7</td>\n",
       "      <td>21.2</td>\n",
       "      <td>D</td>\n",
       "      <td>0</td>\n",
       "      <td>2025-01-31 20:28:00</td>\n",
       "    </tr>\n",
       "    <tr>\n",
       "      <th>2960418</th>\n",
       "      <td>42.4419</td>\n",
       "      <td>-94.3783</td>\n",
       "      <td>300.6</td>\n",
       "      <td>1.2</td>\n",
       "      <td>1.1</td>\n",
       "      <td>Aqua</td>\n",
       "      <td>40</td>\n",
       "      <td>61.03</td>\n",
       "      <td>284.3</td>\n",
       "      <td>6.3</td>\n",
       "      <td>D</td>\n",
       "      <td>0</td>\n",
       "      <td>2025-01-31 20:28:00</td>\n",
       "    </tr>\n",
       "    <tr>\n",
       "      <th>2960419</th>\n",
       "      <td>41.4014</td>\n",
       "      <td>-97.9485</td>\n",
       "      <td>319.9</td>\n",
       "      <td>1.0</td>\n",
       "      <td>1.0</td>\n",
       "      <td>Aqua</td>\n",
       "      <td>80</td>\n",
       "      <td>61.03</td>\n",
       "      <td>284.9</td>\n",
       "      <td>19.0</td>\n",
       "      <td>D</td>\n",
       "      <td>0</td>\n",
       "      <td>2025-01-31 20:28:00</td>\n",
       "    </tr>\n",
       "    <tr>\n",
       "      <th>2960420</th>\n",
       "      <td>41.4032</td>\n",
       "      <td>-97.9369</td>\n",
       "      <td>322.9</td>\n",
       "      <td>1.0</td>\n",
       "      <td>1.0</td>\n",
       "      <td>Aqua</td>\n",
       "      <td>82</td>\n",
       "      <td>61.03</td>\n",
       "      <td>285.0</td>\n",
       "      <td>22.1</td>\n",
       "      <td>D</td>\n",
       "      <td>0</td>\n",
       "      <td>2025-01-31 20:28:00</td>\n",
       "    </tr>\n",
       "    <tr>\n",
       "      <th>2960421</th>\n",
       "      <td>42.7180</td>\n",
       "      <td>-120.4872</td>\n",
       "      <td>303.0</td>\n",
       "      <td>1.1</td>\n",
       "      <td>1.0</td>\n",
       "      <td>Aqua</td>\n",
       "      <td>51</td>\n",
       "      <td>61.03</td>\n",
       "      <td>281.1</td>\n",
       "      <td>7.8</td>\n",
       "      <td>D</td>\n",
       "      <td>0</td>\n",
       "      <td>2025-01-31 22:07:00</td>\n",
       "    </tr>\n",
       "  </tbody>\n",
       "</table>\n",
       "<p>2960422 rows × 13 columns</p>\n",
       "</div>"
      ]
     },
     "execution_count": 5,
     "metadata": {},
     "output_type": "execute_result"
    }
   ],
   "execution_count": 5
  },
  {
   "metadata": {
    "ExecuteTime": {
     "end_time": "2025-06-25T20:58:28.478822Z",
     "start_time": "2025-06-25T20:58:28.073712Z"
    }
   },
   "cell_type": "code",
   "source": [
    "import calendar\n",
    "fig=go.Figure()\n",
    "month_count=data[data['confidence'] >= 95]['acq_datetime'].dt.month.value_counts().sort_index()\n",
    "fig.add_trace(go.Scatter(y=month_count.values,x=[calendar.month_abbr[m] for m in month_count.index]))\n",
    "fig.show()\n",
    "month_count.sort_values(ascending=False,inplace=True)\n",
    "fig=go.Figure()\n",
    "fig.add_trace(go.Bar(y=month_count.values,x=[calendar.month_abbr[m] for m in month_count.index]))"
   ],
   "id": "c693344824f55736",
   "outputs": [
    {
     "data": {
      "application/vnd.plotly.v1+json": {
       "data": [
        {
         "x": [
          "Jan",
          "Feb",
          "Mar",
          "Apr",
          "May",
          "Jun",
          "Jul",
          "Aug",
          "Sep",
          "Oct",
          "Nov",
          "Dec"
         ],
         "y": {
          "dtype": "i4",
          "bdata": "ViIAAI4kAAArQAAAElEAANxMAABy5AAA8HsBAAf0AQAmJQEAHHIAAFQsAADAHgAA"
         },
         "type": "scatter"
        }
       ],
       "layout": {
        "template": {
         "data": {
          "histogram2dcontour": [
           {
            "type": "histogram2dcontour",
            "colorbar": {
             "outlinewidth": 0,
             "ticks": ""
            },
            "colorscale": [
             [
              0.0,
              "#0d0887"
             ],
             [
              0.1111111111111111,
              "#46039f"
             ],
             [
              0.2222222222222222,
              "#7201a8"
             ],
             [
              0.3333333333333333,
              "#9c179e"
             ],
             [
              0.4444444444444444,
              "#bd3786"
             ],
             [
              0.5555555555555556,
              "#d8576b"
             ],
             [
              0.6666666666666666,
              "#ed7953"
             ],
             [
              0.7777777777777778,
              "#fb9f3a"
             ],
             [
              0.8888888888888888,
              "#fdca26"
             ],
             [
              1.0,
              "#f0f921"
             ]
            ]
           }
          ],
          "choropleth": [
           {
            "type": "choropleth",
            "colorbar": {
             "outlinewidth": 0,
             "ticks": ""
            }
           }
          ],
          "histogram2d": [
           {
            "type": "histogram2d",
            "colorbar": {
             "outlinewidth": 0,
             "ticks": ""
            },
            "colorscale": [
             [
              0.0,
              "#0d0887"
             ],
             [
              0.1111111111111111,
              "#46039f"
             ],
             [
              0.2222222222222222,
              "#7201a8"
             ],
             [
              0.3333333333333333,
              "#9c179e"
             ],
             [
              0.4444444444444444,
              "#bd3786"
             ],
             [
              0.5555555555555556,
              "#d8576b"
             ],
             [
              0.6666666666666666,
              "#ed7953"
             ],
             [
              0.7777777777777778,
              "#fb9f3a"
             ],
             [
              0.8888888888888888,
              "#fdca26"
             ],
             [
              1.0,
              "#f0f921"
             ]
            ]
           }
          ],
          "heatmap": [
           {
            "type": "heatmap",
            "colorbar": {
             "outlinewidth": 0,
             "ticks": ""
            },
            "colorscale": [
             [
              0.0,
              "#0d0887"
             ],
             [
              0.1111111111111111,
              "#46039f"
             ],
             [
              0.2222222222222222,
              "#7201a8"
             ],
             [
              0.3333333333333333,
              "#9c179e"
             ],
             [
              0.4444444444444444,
              "#bd3786"
             ],
             [
              0.5555555555555556,
              "#d8576b"
             ],
             [
              0.6666666666666666,
              "#ed7953"
             ],
             [
              0.7777777777777778,
              "#fb9f3a"
             ],
             [
              0.8888888888888888,
              "#fdca26"
             ],
             [
              1.0,
              "#f0f921"
             ]
            ]
           }
          ],
          "contourcarpet": [
           {
            "type": "contourcarpet",
            "colorbar": {
             "outlinewidth": 0,
             "ticks": ""
            }
           }
          ],
          "contour": [
           {
            "type": "contour",
            "colorbar": {
             "outlinewidth": 0,
             "ticks": ""
            },
            "colorscale": [
             [
              0.0,
              "#0d0887"
             ],
             [
              0.1111111111111111,
              "#46039f"
             ],
             [
              0.2222222222222222,
              "#7201a8"
             ],
             [
              0.3333333333333333,
              "#9c179e"
             ],
             [
              0.4444444444444444,
              "#bd3786"
             ],
             [
              0.5555555555555556,
              "#d8576b"
             ],
             [
              0.6666666666666666,
              "#ed7953"
             ],
             [
              0.7777777777777778,
              "#fb9f3a"
             ],
             [
              0.8888888888888888,
              "#fdca26"
             ],
             [
              1.0,
              "#f0f921"
             ]
            ]
           }
          ],
          "surface": [
           {
            "type": "surface",
            "colorbar": {
             "outlinewidth": 0,
             "ticks": ""
            },
            "colorscale": [
             [
              0.0,
              "#0d0887"
             ],
             [
              0.1111111111111111,
              "#46039f"
             ],
             [
              0.2222222222222222,
              "#7201a8"
             ],
             [
              0.3333333333333333,
              "#9c179e"
             ],
             [
              0.4444444444444444,
              "#bd3786"
             ],
             [
              0.5555555555555556,
              "#d8576b"
             ],
             [
              0.6666666666666666,
              "#ed7953"
             ],
             [
              0.7777777777777778,
              "#fb9f3a"
             ],
             [
              0.8888888888888888,
              "#fdca26"
             ],
             [
              1.0,
              "#f0f921"
             ]
            ]
           }
          ],
          "mesh3d": [
           {
            "type": "mesh3d",
            "colorbar": {
             "outlinewidth": 0,
             "ticks": ""
            }
           }
          ],
          "scatter": [
           {
            "marker": {
             "line": {
              "color": "#283442"
             }
            },
            "type": "scatter"
           }
          ],
          "parcoords": [
           {
            "type": "parcoords",
            "line": {
             "colorbar": {
              "outlinewidth": 0,
              "ticks": ""
             }
            }
           }
          ],
          "scatterpolargl": [
           {
            "type": "scatterpolargl",
            "marker": {
             "colorbar": {
              "outlinewidth": 0,
              "ticks": ""
             }
            }
           }
          ],
          "bar": [
           {
            "error_x": {
             "color": "#f2f5fa"
            },
            "error_y": {
             "color": "#f2f5fa"
            },
            "marker": {
             "line": {
              "color": "rgb(17,17,17)",
              "width": 0.5
             },
             "pattern": {
              "fillmode": "overlay",
              "size": 10,
              "solidity": 0.2
             }
            },
            "type": "bar"
           }
          ],
          "scattergeo": [
           {
            "type": "scattergeo",
            "marker": {
             "colorbar": {
              "outlinewidth": 0,
              "ticks": ""
             }
            }
           }
          ],
          "scatterpolar": [
           {
            "type": "scatterpolar",
            "marker": {
             "colorbar": {
              "outlinewidth": 0,
              "ticks": ""
             }
            }
           }
          ],
          "histogram": [
           {
            "marker": {
             "pattern": {
              "fillmode": "overlay",
              "size": 10,
              "solidity": 0.2
             }
            },
            "type": "histogram"
           }
          ],
          "scattergl": [
           {
            "marker": {
             "line": {
              "color": "#283442"
             }
            },
            "type": "scattergl"
           }
          ],
          "scatter3d": [
           {
            "type": "scatter3d",
            "line": {
             "colorbar": {
              "outlinewidth": 0,
              "ticks": ""
             }
            },
            "marker": {
             "colorbar": {
              "outlinewidth": 0,
              "ticks": ""
             }
            }
           }
          ],
          "scattermap": [
           {
            "type": "scattermap",
            "marker": {
             "colorbar": {
              "outlinewidth": 0,
              "ticks": ""
             }
            }
           }
          ],
          "scattermapbox": [
           {
            "type": "scattermapbox",
            "marker": {
             "colorbar": {
              "outlinewidth": 0,
              "ticks": ""
             }
            }
           }
          ],
          "scatterternary": [
           {
            "type": "scatterternary",
            "marker": {
             "colorbar": {
              "outlinewidth": 0,
              "ticks": ""
             }
            }
           }
          ],
          "scattercarpet": [
           {
            "type": "scattercarpet",
            "marker": {
             "colorbar": {
              "outlinewidth": 0,
              "ticks": ""
             }
            }
           }
          ],
          "carpet": [
           {
            "aaxis": {
             "endlinecolor": "#A2B1C6",
             "gridcolor": "#506784",
             "linecolor": "#506784",
             "minorgridcolor": "#506784",
             "startlinecolor": "#A2B1C6"
            },
            "baxis": {
             "endlinecolor": "#A2B1C6",
             "gridcolor": "#506784",
             "linecolor": "#506784",
             "minorgridcolor": "#506784",
             "startlinecolor": "#A2B1C6"
            },
            "type": "carpet"
           }
          ],
          "table": [
           {
            "cells": {
             "fill": {
              "color": "#506784"
             },
             "line": {
              "color": "rgb(17,17,17)"
             }
            },
            "header": {
             "fill": {
              "color": "#2a3f5f"
             },
             "line": {
              "color": "rgb(17,17,17)"
             }
            },
            "type": "table"
           }
          ],
          "barpolar": [
           {
            "marker": {
             "line": {
              "color": "rgb(17,17,17)",
              "width": 0.5
             },
             "pattern": {
              "fillmode": "overlay",
              "size": 10,
              "solidity": 0.2
             }
            },
            "type": "barpolar"
           }
          ],
          "pie": [
           {
            "automargin": true,
            "type": "pie"
           }
          ]
         },
         "layout": {
          "autotypenumbers": "strict",
          "colorway": [
           "#636efa",
           "#EF553B",
           "#00cc96",
           "#ab63fa",
           "#FFA15A",
           "#19d3f3",
           "#FF6692",
           "#B6E880",
           "#FF97FF",
           "#FECB52"
          ],
          "font": {
           "color": "#f2f5fa"
          },
          "hovermode": "closest",
          "hoverlabel": {
           "align": "left"
          },
          "paper_bgcolor": "rgb(17,17,17)",
          "plot_bgcolor": "rgb(17,17,17)",
          "polar": {
           "bgcolor": "rgb(17,17,17)",
           "angularaxis": {
            "gridcolor": "#506784",
            "linecolor": "#506784",
            "ticks": ""
           },
           "radialaxis": {
            "gridcolor": "#506784",
            "linecolor": "#506784",
            "ticks": ""
           }
          },
          "ternary": {
           "bgcolor": "rgb(17,17,17)",
           "aaxis": {
            "gridcolor": "#506784",
            "linecolor": "#506784",
            "ticks": ""
           },
           "baxis": {
            "gridcolor": "#506784",
            "linecolor": "#506784",
            "ticks": ""
           },
           "caxis": {
            "gridcolor": "#506784",
            "linecolor": "#506784",
            "ticks": ""
           }
          },
          "coloraxis": {
           "colorbar": {
            "outlinewidth": 0,
            "ticks": ""
           }
          },
          "colorscale": {
           "sequential": [
            [
             0.0,
             "#0d0887"
            ],
            [
             0.1111111111111111,
             "#46039f"
            ],
            [
             0.2222222222222222,
             "#7201a8"
            ],
            [
             0.3333333333333333,
             "#9c179e"
            ],
            [
             0.4444444444444444,
             "#bd3786"
            ],
            [
             0.5555555555555556,
             "#d8576b"
            ],
            [
             0.6666666666666666,
             "#ed7953"
            ],
            [
             0.7777777777777778,
             "#fb9f3a"
            ],
            [
             0.8888888888888888,
             "#fdca26"
            ],
            [
             1.0,
             "#f0f921"
            ]
           ],
           "sequentialminus": [
            [
             0.0,
             "#0d0887"
            ],
            [
             0.1111111111111111,
             "#46039f"
            ],
            [
             0.2222222222222222,
             "#7201a8"
            ],
            [
             0.3333333333333333,
             "#9c179e"
            ],
            [
             0.4444444444444444,
             "#bd3786"
            ],
            [
             0.5555555555555556,
             "#d8576b"
            ],
            [
             0.6666666666666666,
             "#ed7953"
            ],
            [
             0.7777777777777778,
             "#fb9f3a"
            ],
            [
             0.8888888888888888,
             "#fdca26"
            ],
            [
             1.0,
             "#f0f921"
            ]
           ],
           "diverging": [
            [
             0,
             "#8e0152"
            ],
            [
             0.1,
             "#c51b7d"
            ],
            [
             0.2,
             "#de77ae"
            ],
            [
             0.3,
             "#f1b6da"
            ],
            [
             0.4,
             "#fde0ef"
            ],
            [
             0.5,
             "#f7f7f7"
            ],
            [
             0.6,
             "#e6f5d0"
            ],
            [
             0.7,
             "#b8e186"
            ],
            [
             0.8,
             "#7fbc41"
            ],
            [
             0.9,
             "#4d9221"
            ],
            [
             1,
             "#276419"
            ]
           ]
          },
          "xaxis": {
           "gridcolor": "#283442",
           "linecolor": "#506784",
           "ticks": "",
           "title": {
            "standoff": 15
           },
           "zerolinecolor": "#283442",
           "automargin": true,
           "zerolinewidth": 2
          },
          "yaxis": {
           "gridcolor": "#283442",
           "linecolor": "#506784",
           "ticks": "",
           "title": {
            "standoff": 15
           },
           "zerolinecolor": "#283442",
           "automargin": true,
           "zerolinewidth": 2
          },
          "scene": {
           "xaxis": {
            "backgroundcolor": "rgb(17,17,17)",
            "gridcolor": "#506784",
            "linecolor": "#506784",
            "showbackground": true,
            "ticks": "",
            "zerolinecolor": "#C8D4E3",
            "gridwidth": 2
           },
           "yaxis": {
            "backgroundcolor": "rgb(17,17,17)",
            "gridcolor": "#506784",
            "linecolor": "#506784",
            "showbackground": true,
            "ticks": "",
            "zerolinecolor": "#C8D4E3",
            "gridwidth": 2
           },
           "zaxis": {
            "backgroundcolor": "rgb(17,17,17)",
            "gridcolor": "#506784",
            "linecolor": "#506784",
            "showbackground": true,
            "ticks": "",
            "zerolinecolor": "#C8D4E3",
            "gridwidth": 2
           }
          },
          "shapedefaults": {
           "line": {
            "color": "#f2f5fa"
           }
          },
          "annotationdefaults": {
           "arrowcolor": "#f2f5fa",
           "arrowhead": 0,
           "arrowwidth": 1
          },
          "geo": {
           "bgcolor": "rgb(17,17,17)",
           "landcolor": "rgb(17,17,17)",
           "subunitcolor": "#506784",
           "showland": true,
           "showlakes": true,
           "lakecolor": "rgb(17,17,17)"
          },
          "title": {
           "x": 0.05
          },
          "updatemenudefaults": {
           "bgcolor": "#506784",
           "borderwidth": 0
          },
          "sliderdefaults": {
           "bgcolor": "#C8D4E3",
           "borderwidth": 1,
           "bordercolor": "rgb(17,17,17)",
           "tickwidth": 0
          },
          "mapbox": {
           "style": "dark"
          }
         }
        }
       },
       "config": {
        "plotlyServerURL": "https://plot.ly"
       }
      }
     },
     "metadata": {},
     "output_type": "display_data"
    },
    {
     "data": {
      "application/vnd.plotly.v1+json": {
       "data": [
        {
         "x": [
          "Aug",
          "Jul",
          "Sep",
          "Jun",
          "Oct",
          "Apr",
          "May",
          "Mar",
          "Nov",
          "Feb",
          "Jan",
          "Dec"
         ],
         "y": {
          "dtype": "i4",
          "bdata": "B/QBAPB7AQAmJQEAcuQAABxyAAASUQAA3EwAACtAAABULAAAjiQAAFYiAADAHgAA"
         },
         "type": "bar"
        }
       ],
       "layout": {
        "template": {
         "data": {
          "histogram2dcontour": [
           {
            "type": "histogram2dcontour",
            "colorbar": {
             "outlinewidth": 0,
             "ticks": ""
            },
            "colorscale": [
             [
              0.0,
              "#0d0887"
             ],
             [
              0.1111111111111111,
              "#46039f"
             ],
             [
              0.2222222222222222,
              "#7201a8"
             ],
             [
              0.3333333333333333,
              "#9c179e"
             ],
             [
              0.4444444444444444,
              "#bd3786"
             ],
             [
              0.5555555555555556,
              "#d8576b"
             ],
             [
              0.6666666666666666,
              "#ed7953"
             ],
             [
              0.7777777777777778,
              "#fb9f3a"
             ],
             [
              0.8888888888888888,
              "#fdca26"
             ],
             [
              1.0,
              "#f0f921"
             ]
            ]
           }
          ],
          "choropleth": [
           {
            "type": "choropleth",
            "colorbar": {
             "outlinewidth": 0,
             "ticks": ""
            }
           }
          ],
          "histogram2d": [
           {
            "type": "histogram2d",
            "colorbar": {
             "outlinewidth": 0,
             "ticks": ""
            },
            "colorscale": [
             [
              0.0,
              "#0d0887"
             ],
             [
              0.1111111111111111,
              "#46039f"
             ],
             [
              0.2222222222222222,
              "#7201a8"
             ],
             [
              0.3333333333333333,
              "#9c179e"
             ],
             [
              0.4444444444444444,
              "#bd3786"
             ],
             [
              0.5555555555555556,
              "#d8576b"
             ],
             [
              0.6666666666666666,
              "#ed7953"
             ],
             [
              0.7777777777777778,
              "#fb9f3a"
             ],
             [
              0.8888888888888888,
              "#fdca26"
             ],
             [
              1.0,
              "#f0f921"
             ]
            ]
           }
          ],
          "heatmap": [
           {
            "type": "heatmap",
            "colorbar": {
             "outlinewidth": 0,
             "ticks": ""
            },
            "colorscale": [
             [
              0.0,
              "#0d0887"
             ],
             [
              0.1111111111111111,
              "#46039f"
             ],
             [
              0.2222222222222222,
              "#7201a8"
             ],
             [
              0.3333333333333333,
              "#9c179e"
             ],
             [
              0.4444444444444444,
              "#bd3786"
             ],
             [
              0.5555555555555556,
              "#d8576b"
             ],
             [
              0.6666666666666666,
              "#ed7953"
             ],
             [
              0.7777777777777778,
              "#fb9f3a"
             ],
             [
              0.8888888888888888,
              "#fdca26"
             ],
             [
              1.0,
              "#f0f921"
             ]
            ]
           }
          ],
          "contourcarpet": [
           {
            "type": "contourcarpet",
            "colorbar": {
             "outlinewidth": 0,
             "ticks": ""
            }
           }
          ],
          "contour": [
           {
            "type": "contour",
            "colorbar": {
             "outlinewidth": 0,
             "ticks": ""
            },
            "colorscale": [
             [
              0.0,
              "#0d0887"
             ],
             [
              0.1111111111111111,
              "#46039f"
             ],
             [
              0.2222222222222222,
              "#7201a8"
             ],
             [
              0.3333333333333333,
              "#9c179e"
             ],
             [
              0.4444444444444444,
              "#bd3786"
             ],
             [
              0.5555555555555556,
              "#d8576b"
             ],
             [
              0.6666666666666666,
              "#ed7953"
             ],
             [
              0.7777777777777778,
              "#fb9f3a"
             ],
             [
              0.8888888888888888,
              "#fdca26"
             ],
             [
              1.0,
              "#f0f921"
             ]
            ]
           }
          ],
          "surface": [
           {
            "type": "surface",
            "colorbar": {
             "outlinewidth": 0,
             "ticks": ""
            },
            "colorscale": [
             [
              0.0,
              "#0d0887"
             ],
             [
              0.1111111111111111,
              "#46039f"
             ],
             [
              0.2222222222222222,
              "#7201a8"
             ],
             [
              0.3333333333333333,
              "#9c179e"
             ],
             [
              0.4444444444444444,
              "#bd3786"
             ],
             [
              0.5555555555555556,
              "#d8576b"
             ],
             [
              0.6666666666666666,
              "#ed7953"
             ],
             [
              0.7777777777777778,
              "#fb9f3a"
             ],
             [
              0.8888888888888888,
              "#fdca26"
             ],
             [
              1.0,
              "#f0f921"
             ]
            ]
           }
          ],
          "mesh3d": [
           {
            "type": "mesh3d",
            "colorbar": {
             "outlinewidth": 0,
             "ticks": ""
            }
           }
          ],
          "scatter": [
           {
            "marker": {
             "line": {
              "color": "#283442"
             }
            },
            "type": "scatter"
           }
          ],
          "parcoords": [
           {
            "type": "parcoords",
            "line": {
             "colorbar": {
              "outlinewidth": 0,
              "ticks": ""
             }
            }
           }
          ],
          "scatterpolargl": [
           {
            "type": "scatterpolargl",
            "marker": {
             "colorbar": {
              "outlinewidth": 0,
              "ticks": ""
             }
            }
           }
          ],
          "bar": [
           {
            "error_x": {
             "color": "#f2f5fa"
            },
            "error_y": {
             "color": "#f2f5fa"
            },
            "marker": {
             "line": {
              "color": "rgb(17,17,17)",
              "width": 0.5
             },
             "pattern": {
              "fillmode": "overlay",
              "size": 10,
              "solidity": 0.2
             }
            },
            "type": "bar"
           }
          ],
          "scattergeo": [
           {
            "type": "scattergeo",
            "marker": {
             "colorbar": {
              "outlinewidth": 0,
              "ticks": ""
             }
            }
           }
          ],
          "scatterpolar": [
           {
            "type": "scatterpolar",
            "marker": {
             "colorbar": {
              "outlinewidth": 0,
              "ticks": ""
             }
            }
           }
          ],
          "histogram": [
           {
            "marker": {
             "pattern": {
              "fillmode": "overlay",
              "size": 10,
              "solidity": 0.2
             }
            },
            "type": "histogram"
           }
          ],
          "scattergl": [
           {
            "marker": {
             "line": {
              "color": "#283442"
             }
            },
            "type": "scattergl"
           }
          ],
          "scatter3d": [
           {
            "type": "scatter3d",
            "line": {
             "colorbar": {
              "outlinewidth": 0,
              "ticks": ""
             }
            },
            "marker": {
             "colorbar": {
              "outlinewidth": 0,
              "ticks": ""
             }
            }
           }
          ],
          "scattermap": [
           {
            "type": "scattermap",
            "marker": {
             "colorbar": {
              "outlinewidth": 0,
              "ticks": ""
             }
            }
           }
          ],
          "scattermapbox": [
           {
            "type": "scattermapbox",
            "marker": {
             "colorbar": {
              "outlinewidth": 0,
              "ticks": ""
             }
            }
           }
          ],
          "scatterternary": [
           {
            "type": "scatterternary",
            "marker": {
             "colorbar": {
              "outlinewidth": 0,
              "ticks": ""
             }
            }
           }
          ],
          "scattercarpet": [
           {
            "type": "scattercarpet",
            "marker": {
             "colorbar": {
              "outlinewidth": 0,
              "ticks": ""
             }
            }
           }
          ],
          "carpet": [
           {
            "aaxis": {
             "endlinecolor": "#A2B1C6",
             "gridcolor": "#506784",
             "linecolor": "#506784",
             "minorgridcolor": "#506784",
             "startlinecolor": "#A2B1C6"
            },
            "baxis": {
             "endlinecolor": "#A2B1C6",
             "gridcolor": "#506784",
             "linecolor": "#506784",
             "minorgridcolor": "#506784",
             "startlinecolor": "#A2B1C6"
            },
            "type": "carpet"
           }
          ],
          "table": [
           {
            "cells": {
             "fill": {
              "color": "#506784"
             },
             "line": {
              "color": "rgb(17,17,17)"
             }
            },
            "header": {
             "fill": {
              "color": "#2a3f5f"
             },
             "line": {
              "color": "rgb(17,17,17)"
             }
            },
            "type": "table"
           }
          ],
          "barpolar": [
           {
            "marker": {
             "line": {
              "color": "rgb(17,17,17)",
              "width": 0.5
             },
             "pattern": {
              "fillmode": "overlay",
              "size": 10,
              "solidity": 0.2
             }
            },
            "type": "barpolar"
           }
          ],
          "pie": [
           {
            "automargin": true,
            "type": "pie"
           }
          ]
         },
         "layout": {
          "autotypenumbers": "strict",
          "colorway": [
           "#636efa",
           "#EF553B",
           "#00cc96",
           "#ab63fa",
           "#FFA15A",
           "#19d3f3",
           "#FF6692",
           "#B6E880",
           "#FF97FF",
           "#FECB52"
          ],
          "font": {
           "color": "#f2f5fa"
          },
          "hovermode": "closest",
          "hoverlabel": {
           "align": "left"
          },
          "paper_bgcolor": "rgb(17,17,17)",
          "plot_bgcolor": "rgb(17,17,17)",
          "polar": {
           "bgcolor": "rgb(17,17,17)",
           "angularaxis": {
            "gridcolor": "#506784",
            "linecolor": "#506784",
            "ticks": ""
           },
           "radialaxis": {
            "gridcolor": "#506784",
            "linecolor": "#506784",
            "ticks": ""
           }
          },
          "ternary": {
           "bgcolor": "rgb(17,17,17)",
           "aaxis": {
            "gridcolor": "#506784",
            "linecolor": "#506784",
            "ticks": ""
           },
           "baxis": {
            "gridcolor": "#506784",
            "linecolor": "#506784",
            "ticks": ""
           },
           "caxis": {
            "gridcolor": "#506784",
            "linecolor": "#506784",
            "ticks": ""
           }
          },
          "coloraxis": {
           "colorbar": {
            "outlinewidth": 0,
            "ticks": ""
           }
          },
          "colorscale": {
           "sequential": [
            [
             0.0,
             "#0d0887"
            ],
            [
             0.1111111111111111,
             "#46039f"
            ],
            [
             0.2222222222222222,
             "#7201a8"
            ],
            [
             0.3333333333333333,
             "#9c179e"
            ],
            [
             0.4444444444444444,
             "#bd3786"
            ],
            [
             0.5555555555555556,
             "#d8576b"
            ],
            [
             0.6666666666666666,
             "#ed7953"
            ],
            [
             0.7777777777777778,
             "#fb9f3a"
            ],
            [
             0.8888888888888888,
             "#fdca26"
            ],
            [
             1.0,
             "#f0f921"
            ]
           ],
           "sequentialminus": [
            [
             0.0,
             "#0d0887"
            ],
            [
             0.1111111111111111,
             "#46039f"
            ],
            [
             0.2222222222222222,
             "#7201a8"
            ],
            [
             0.3333333333333333,
             "#9c179e"
            ],
            [
             0.4444444444444444,
             "#bd3786"
            ],
            [
             0.5555555555555556,
             "#d8576b"
            ],
            [
             0.6666666666666666,
             "#ed7953"
            ],
            [
             0.7777777777777778,
             "#fb9f3a"
            ],
            [
             0.8888888888888888,
             "#fdca26"
            ],
            [
             1.0,
             "#f0f921"
            ]
           ],
           "diverging": [
            [
             0,
             "#8e0152"
            ],
            [
             0.1,
             "#c51b7d"
            ],
            [
             0.2,
             "#de77ae"
            ],
            [
             0.3,
             "#f1b6da"
            ],
            [
             0.4,
             "#fde0ef"
            ],
            [
             0.5,
             "#f7f7f7"
            ],
            [
             0.6,
             "#e6f5d0"
            ],
            [
             0.7,
             "#b8e186"
            ],
            [
             0.8,
             "#7fbc41"
            ],
            [
             0.9,
             "#4d9221"
            ],
            [
             1,
             "#276419"
            ]
           ]
          },
          "xaxis": {
           "gridcolor": "#283442",
           "linecolor": "#506784",
           "ticks": "",
           "title": {
            "standoff": 15
           },
           "zerolinecolor": "#283442",
           "automargin": true,
           "zerolinewidth": 2
          },
          "yaxis": {
           "gridcolor": "#283442",
           "linecolor": "#506784",
           "ticks": "",
           "title": {
            "standoff": 15
           },
           "zerolinecolor": "#283442",
           "automargin": true,
           "zerolinewidth": 2
          },
          "scene": {
           "xaxis": {
            "backgroundcolor": "rgb(17,17,17)",
            "gridcolor": "#506784",
            "linecolor": "#506784",
            "showbackground": true,
            "ticks": "",
            "zerolinecolor": "#C8D4E3",
            "gridwidth": 2
           },
           "yaxis": {
            "backgroundcolor": "rgb(17,17,17)",
            "gridcolor": "#506784",
            "linecolor": "#506784",
            "showbackground": true,
            "ticks": "",
            "zerolinecolor": "#C8D4E3",
            "gridwidth": 2
           },
           "zaxis": {
            "backgroundcolor": "rgb(17,17,17)",
            "gridcolor": "#506784",
            "linecolor": "#506784",
            "showbackground": true,
            "ticks": "",
            "zerolinecolor": "#C8D4E3",
            "gridwidth": 2
           }
          },
          "shapedefaults": {
           "line": {
            "color": "#f2f5fa"
           }
          },
          "annotationdefaults": {
           "arrowcolor": "#f2f5fa",
           "arrowhead": 0,
           "arrowwidth": 1
          },
          "geo": {
           "bgcolor": "rgb(17,17,17)",
           "landcolor": "rgb(17,17,17)",
           "subunitcolor": "#506784",
           "showland": true,
           "showlakes": true,
           "lakecolor": "rgb(17,17,17)"
          },
          "title": {
           "x": 0.05
          },
          "updatemenudefaults": {
           "bgcolor": "#506784",
           "borderwidth": 0
          },
          "sliderdefaults": {
           "bgcolor": "#C8D4E3",
           "borderwidth": 1,
           "bordercolor": "rgb(17,17,17)",
           "tickwidth": 0
          },
          "mapbox": {
           "style": "dark"
          }
         }
        }
       },
       "config": {
        "plotlyServerURL": "https://plot.ly"
       }
      }
     },
     "metadata": {},
     "output_type": "display_data"
    }
   ],
   "execution_count": 6
  },
  {
   "metadata": {
    "ExecuteTime": {
     "end_time": "2025-06-25T20:58:28.522393Z",
     "start_time": "2025-06-25T20:58:28.508137Z"
    }
   },
   "cell_type": "code",
   "source": "data.head()",
   "id": "b2e7fc61e5b81753",
   "outputs": [
    {
     "data": {
      "text/plain": [
       "   latitude  longitude  brightness  scan  track satellite  confidence  \\\n",
       "0   38.5422   -78.3047       304.8   2.8    1.6     Terra          23   \n",
       "1   38.5451   -78.3107       309.9   2.8    1.6     Terra          79   \n",
       "2   38.5563   -78.3084       309.4   2.8    1.6     Terra          70   \n",
       "3   38.5586   -78.3170       302.3   2.8    1.6     Terra          45   \n",
       "4   31.3393   -89.9124       304.9   1.0    1.0     Terra          62   \n",
       "\n",
       "   version  bright_t31   frp daynight  type        acq_datetime  \n",
       "0     6.03       280.9  40.3        N     0 2000-11-01 02:50:00  \n",
       "1     6.03       280.7  58.8        N     0 2000-11-01 02:50:00  \n",
       "2     6.03       280.4  54.5        N     0 2000-11-01 02:50:00  \n",
       "3     6.03       279.8  36.0        N     0 2000-11-01 02:50:00  \n",
       "4     6.03       287.5   8.5        N     0 2000-11-01 04:27:00  "
      ],
      "text/html": [
       "<div>\n",
       "<style scoped>\n",
       "    .dataframe tbody tr th:only-of-type {\n",
       "        vertical-align: middle;\n",
       "    }\n",
       "\n",
       "    .dataframe tbody tr th {\n",
       "        vertical-align: top;\n",
       "    }\n",
       "\n",
       "    .dataframe thead th {\n",
       "        text-align: right;\n",
       "    }\n",
       "</style>\n",
       "<table border=\"1\" class=\"dataframe\">\n",
       "  <thead>\n",
       "    <tr style=\"text-align: right;\">\n",
       "      <th></th>\n",
       "      <th>latitude</th>\n",
       "      <th>longitude</th>\n",
       "      <th>brightness</th>\n",
       "      <th>scan</th>\n",
       "      <th>track</th>\n",
       "      <th>satellite</th>\n",
       "      <th>confidence</th>\n",
       "      <th>version</th>\n",
       "      <th>bright_t31</th>\n",
       "      <th>frp</th>\n",
       "      <th>daynight</th>\n",
       "      <th>type</th>\n",
       "      <th>acq_datetime</th>\n",
       "    </tr>\n",
       "  </thead>\n",
       "  <tbody>\n",
       "    <tr>\n",
       "      <th>0</th>\n",
       "      <td>38.5422</td>\n",
       "      <td>-78.3047</td>\n",
       "      <td>304.8</td>\n",
       "      <td>2.8</td>\n",
       "      <td>1.6</td>\n",
       "      <td>Terra</td>\n",
       "      <td>23</td>\n",
       "      <td>6.03</td>\n",
       "      <td>280.9</td>\n",
       "      <td>40.3</td>\n",
       "      <td>N</td>\n",
       "      <td>0</td>\n",
       "      <td>2000-11-01 02:50:00</td>\n",
       "    </tr>\n",
       "    <tr>\n",
       "      <th>1</th>\n",
       "      <td>38.5451</td>\n",
       "      <td>-78.3107</td>\n",
       "      <td>309.9</td>\n",
       "      <td>2.8</td>\n",
       "      <td>1.6</td>\n",
       "      <td>Terra</td>\n",
       "      <td>79</td>\n",
       "      <td>6.03</td>\n",
       "      <td>280.7</td>\n",
       "      <td>58.8</td>\n",
       "      <td>N</td>\n",
       "      <td>0</td>\n",
       "      <td>2000-11-01 02:50:00</td>\n",
       "    </tr>\n",
       "    <tr>\n",
       "      <th>2</th>\n",
       "      <td>38.5563</td>\n",
       "      <td>-78.3084</td>\n",
       "      <td>309.4</td>\n",
       "      <td>2.8</td>\n",
       "      <td>1.6</td>\n",
       "      <td>Terra</td>\n",
       "      <td>70</td>\n",
       "      <td>6.03</td>\n",
       "      <td>280.4</td>\n",
       "      <td>54.5</td>\n",
       "      <td>N</td>\n",
       "      <td>0</td>\n",
       "      <td>2000-11-01 02:50:00</td>\n",
       "    </tr>\n",
       "    <tr>\n",
       "      <th>3</th>\n",
       "      <td>38.5586</td>\n",
       "      <td>-78.3170</td>\n",
       "      <td>302.3</td>\n",
       "      <td>2.8</td>\n",
       "      <td>1.6</td>\n",
       "      <td>Terra</td>\n",
       "      <td>45</td>\n",
       "      <td>6.03</td>\n",
       "      <td>279.8</td>\n",
       "      <td>36.0</td>\n",
       "      <td>N</td>\n",
       "      <td>0</td>\n",
       "      <td>2000-11-01 02:50:00</td>\n",
       "    </tr>\n",
       "    <tr>\n",
       "      <th>4</th>\n",
       "      <td>31.3393</td>\n",
       "      <td>-89.9124</td>\n",
       "      <td>304.9</td>\n",
       "      <td>1.0</td>\n",
       "      <td>1.0</td>\n",
       "      <td>Terra</td>\n",
       "      <td>62</td>\n",
       "      <td>6.03</td>\n",
       "      <td>287.5</td>\n",
       "      <td>8.5</td>\n",
       "      <td>N</td>\n",
       "      <td>0</td>\n",
       "      <td>2000-11-01 04:27:00</td>\n",
       "    </tr>\n",
       "  </tbody>\n",
       "</table>\n",
       "</div>"
      ]
     },
     "execution_count": 7,
     "metadata": {},
     "output_type": "execute_result"
    }
   ],
   "execution_count": 7
  },
  {
   "metadata": {
    "ExecuteTime": {
     "end_time": "2025-06-25T20:58:53.728312Z",
     "start_time": "2025-06-25T20:58:48.836652Z"
    }
   },
   "cell_type": "code",
   "source": [
    "from sklearn.model_selection import train_test_split\n",
    "from sklearn.preprocessing import PolynomialFeatures\n",
    "from sklearn.linear_model import LinearRegression\n",
    "from sklearn.pipeline import make_pipeline\n",
    "from sklearn.metrics import mean_squared_error, r2_score\n",
    "\n",
    "X=data.drop(['scan','track','satellite','confidence','version','type'],axis=1)\n",
    "X['daynight']=X['daynight'].map({\"N\":0,\"D\":1})\n",
    "X['acq_datetime'] = X['acq_datetime'].apply(lambda x: x.toordinal())\n",
    "\n",
    "y=data['confidence']\n",
    "\n",
    "X_train,X_test,y_train,y_test=train_test_split(X,y,test_size=0.8)\n",
    "regressor=LinearRegression()\n",
    "regressor.fit(X_train,y_train)\n",
    "y_pred=regressor.predict(X_test)\n",
    "r2=r2_score(y_test,y_pred)\n",
    "mse=mean_squared_error(y_test,y_pred)\n",
    "print(r2)\n",
    "print((mse**0.5)/100)"
   ],
   "id": "297e695b2d33402b",
   "outputs": [
    {
     "name": "stdout",
     "output_type": "stream",
     "text": [
      "0.42512075625834833\n",
      "0.17492218503231655\n"
     ]
    }
   ],
   "execution_count": 10
  },
  {
   "metadata": {
    "ExecuteTime": {
     "end_time": "2025-06-25T20:59:03.315827Z",
     "start_time": "2025-06-25T20:58:55.169551Z"
    }
   },
   "cell_type": "code",
   "source": [
    "print(\"degree 2\")\n",
    "\n",
    "X=data.drop(['scan','track','satellite','confidence','version','type'],axis=1)\n",
    "X['daynight']=X['daynight'].map({\"N\":0,\"D\":1})\n",
    "X['acq_datetime'] = X['acq_datetime'].apply(lambda x: x.toordinal())\n",
    "\n",
    "y=data['confidence']\n",
    "\n",
    "poly = PolynomialFeatures(degree=2, include_bias=False)\n",
    "X_poly = poly.fit_transform(X)\n",
    "\n",
    "regressor=LinearRegression()\n",
    "\n",
    "regressor.fit(X_poly,y)\n",
    "coefficients=regressor.coef_\n",
    "intercept=regressor.intercept_\n",
    "\n",
    "feature_names = poly.get_feature_names_out(X.columns)\n",
    "\n",
    "coef_df = pd.DataFrame({\n",
    "    'Feature': feature_names,\n",
    "    'Coefficient': coefficients\n",
    "})\n",
    "\n",
    "coef_df['Coefficient'] = coef_df['Coefficient'].round(4)\n",
    "r2=r2_score(y_test,y_pred)\n",
    "mse=mean_squared_error(y_test,y_pred)\n",
    "print(r2)\n",
    "print((mse**0.5)/100)\n",
    "print()\n",
    "print(\"Intercept:\", round(intercept, 4))\n",
    "print(coef_df.sort_values(by='Coefficient', key=abs, ascending=False))"
   ],
   "id": "2e8f1d41051df754",
   "outputs": [
    {
     "name": "stdout",
     "output_type": "stream",
     "text": [
      "degree 2\n",
      "0.42512075625834833\n",
      "0.17492218503231655\n",
      "\n",
      "Intercept: 9989.7906\n",
      "                    Feature  Coefficient\n",
      "12        latitude daynight       0.2238\n",
      "18       longitude daynight       0.1227\n",
      "23      brightness daynight      -0.1226\n",
      "27      bright_t31 daynight      -0.0882\n",
      "6              acq_datetime      -0.0273\n",
      "21    brightness bright_t31       0.0208\n",
      "25             bright_t31^2      -0.0168\n",
      "20             brightness^2      -0.0129\n",
      "30             frp daynight       0.0103\n",
      "10      latitude bright_t31       0.0031\n",
      "7                latitude^2      -0.0029\n",
      "8        latitude longitude      -0.0022\n",
      "15     longitude brightness      -0.0016\n",
      "14              longitude^2      -0.0013\n",
      "9       latitude brightness       0.0009\n",
      "4                       frp      -0.0006\n",
      "22           brightness frp       0.0004\n",
      "16     longitude bright_t31      -0.0002\n",
      "26           bright_t31 frp      -0.0002\n",
      "1                 longitude      -0.0001\n",
      "33    daynight acq_datetime       0.0001\n",
      "3                bright_t31      -0.0001\n",
      "2                brightness      -0.0001\n",
      "0                  latitude      -0.0001\n",
      "28  bright_t31 acq_datetime       0.0000\n",
      "31         frp acq_datetime      -0.0000\n",
      "32               daynight^2       0.0000\n",
      "29                    frp^2      -0.0000\n",
      "17            longitude frp       0.0000\n",
      "24  brightness acq_datetime       0.0000\n",
      "19   longitude acq_datetime       0.0000\n",
      "13    latitude acq_datetime      -0.0000\n",
      "11             latitude frp       0.0000\n",
      "5                  daynight       0.0000\n",
      "34           acq_datetime^2       0.0000\n"
     ]
    }
   ],
   "execution_count": 11
  },
  {
   "metadata": {
    "ExecuteTime": {
     "end_time": "2025-06-25T21:00:12.318962Z",
     "start_time": "2025-06-25T20:59:44.921339Z"
    }
   },
   "cell_type": "code",
   "source": [
    "X=data.drop(['scan','track','satellite','confidence','version','type'],axis=1)\n",
    "X['daynight']=X['daynight'].map({\"N\":0,\"D\":1})\n",
    "X['acq_datetime'] = X['acq_datetime'].apply(lambda x: x.toordinal())\n",
    "\n",
    "y=data['confidence']\n",
    "\n",
    "X_train,X_test,y_train,y_test=train_test_split(X,y,test_size=0.8)\n",
    "\n",
    "best_model=None\n",
    "best_r2=0\n",
    "best_mse=float('inf')\n",
    "\n",
    "for i in range(3,5):\n",
    "    print(f\"degree {i}\")\n",
    "    poly_regressor=make_pipeline(PolynomialFeatures(degree=i),LinearRegression())\n",
    "    poly_regressor.fit(X_train, y_train)\n",
    "    y_pred=poly_regressor.predict(X_test)\n",
    "    r2=r2_score(y_test,y_pred)\n",
    "    mse=mean_squared_error(y_test,y_pred)\n",
    "    print(r2)\n",
    "    print((mse**0.5)/100)\n",
    "    print()\n",
    "    if r2 > best_r2 or mse < best_mse:\n",
    "        best_model=poly_regressor\n",
    "        best_r2=r2\n",
    "        best_mse=mse\n",
    "    else:\n",
    "        break\n"
   ],
   "id": "daaeb5153b197853",
   "outputs": [
    {
     "name": "stdout",
     "output_type": "stream",
     "text": [
      "degree 3\n",
      "0.5404231080769539\n",
      "0.15634092784283493\n",
      "\n",
      "degree 4\n",
      "0.5404540538784779\n",
      "0.1563356641134627\n",
      "\n"
     ]
    }
   ],
   "execution_count": 14
  },
  {
   "metadata": {
    "ExecuteTime": {
     "end_time": "2025-06-25T21:00:15.624873Z",
     "start_time": "2025-06-25T21:00:15.606067Z"
    }
   },
   "cell_type": "code",
   "source": "print(data.shape)",
   "id": "112b4a50ee158384",
   "outputs": [
    {
     "name": "stdout",
     "output_type": "stream",
     "text": [
      "(2960422, 13)\n"
     ]
    }
   ],
   "execution_count": 15
  },
  {
   "metadata": {
    "ExecuteTime": {
     "end_time": "2025-06-25T21:12:46.969092Z",
     "start_time": "2025-06-25T21:00:23.606838Z"
    }
   },
   "cell_type": "code",
   "source": [
    "from sklearn.ensemble import RandomForestRegressor\n",
    "\n",
    "X=data.drop(['scan','track','satellite','confidence','version','type'],axis=1)\n",
    "X['daynight']=X['daynight'].map({\"N\":0,\"D\":1})\n",
    "X['acq_datetime'] = X['acq_datetime'].apply(lambda x: x.toordinal())\n",
    "\n",
    "y=data['confidence']\n",
    "\n",
    "X_train,X_test,y_train,y_test=train_test_split(X,y,test_size=0.7)\n",
    "\n",
    "rf=RandomForestRegressor(n_estimators=80)\n",
    "rf.fit(X_train, y_train)\n",
    "\n",
    "y_pred = rf.predict(X_test)\n",
    "\n",
    "print(\"R^2 score:\", r2_score(y_test, y_pred))\n",
    "print(\"RMSE:\", (mean_squared_error(y_test, y_pred)**0.5)/100)"
   ],
   "id": "1aa589e5d3e3aa50",
   "outputs": [
    {
     "name": "stdout",
     "output_type": "stream",
     "text": [
      "R^2 score: 0.6392303420595211\n",
      "RMSE: 0.138555309405552\n"
     ]
    }
   ],
   "execution_count": 17
  },
  {
   "metadata": {
    "ExecuteTime": {
     "end_time": "2025-06-25T21:24:14.619780Z",
     "start_time": "2025-06-25T21:24:14.581523Z"
    }
   },
   "cell_type": "code",
   "source": "data",
   "id": "8d86458be1109be5",
   "outputs": [
    {
     "data": {
      "text/plain": [
       "         latitude  longitude  brightness  scan  track satellite  confidence  \\\n",
       "0         38.5422   -78.3047       304.8   2.8    1.6     Terra          23   \n",
       "1         38.5451   -78.3107       309.9   2.8    1.6     Terra          79   \n",
       "2         38.5563   -78.3084       309.4   2.8    1.6     Terra          70   \n",
       "3         38.5586   -78.3170       302.3   2.8    1.6     Terra          45   \n",
       "4         31.3393   -89.9124       304.9   1.0    1.0     Terra          62   \n",
       "...           ...        ...         ...   ...    ...       ...         ...   \n",
       "2960417   41.6966   -99.1437       319.8   1.1    1.0      Aqua          80   \n",
       "2960418   42.4419   -94.3783       300.6   1.2    1.1      Aqua          40   \n",
       "2960419   41.4014   -97.9485       319.9   1.0    1.0      Aqua          80   \n",
       "2960420   41.4032   -97.9369       322.9   1.0    1.0      Aqua          82   \n",
       "2960421   42.7180  -120.4872       303.0   1.1    1.0      Aqua          51   \n",
       "\n",
       "         version  bright_t31   frp daynight  type        acq_datetime  \n",
       "0           6.03       280.9  40.3        N     0 2000-11-01 02:50:00  \n",
       "1           6.03       280.7  58.8        N     0 2000-11-01 02:50:00  \n",
       "2           6.03       280.4  54.5        N     0 2000-11-01 02:50:00  \n",
       "3           6.03       279.8  36.0        N     0 2000-11-01 02:50:00  \n",
       "4           6.03       287.5   8.5        N     0 2000-11-01 04:27:00  \n",
       "...          ...         ...   ...      ...   ...                 ...  \n",
       "2960417    61.03       284.7  21.2        D     0 2025-01-31 20:28:00  \n",
       "2960418    61.03       284.3   6.3        D     0 2025-01-31 20:28:00  \n",
       "2960419    61.03       284.9  19.0        D     0 2025-01-31 20:28:00  \n",
       "2960420    61.03       285.0  22.1        D     0 2025-01-31 20:28:00  \n",
       "2960421    61.03       281.1   7.8        D     0 2025-01-31 22:07:00  \n",
       "\n",
       "[2960422 rows x 13 columns]"
      ],
      "text/html": [
       "<div>\n",
       "<style scoped>\n",
       "    .dataframe tbody tr th:only-of-type {\n",
       "        vertical-align: middle;\n",
       "    }\n",
       "\n",
       "    .dataframe tbody tr th {\n",
       "        vertical-align: top;\n",
       "    }\n",
       "\n",
       "    .dataframe thead th {\n",
       "        text-align: right;\n",
       "    }\n",
       "</style>\n",
       "<table border=\"1\" class=\"dataframe\">\n",
       "  <thead>\n",
       "    <tr style=\"text-align: right;\">\n",
       "      <th></th>\n",
       "      <th>latitude</th>\n",
       "      <th>longitude</th>\n",
       "      <th>brightness</th>\n",
       "      <th>scan</th>\n",
       "      <th>track</th>\n",
       "      <th>satellite</th>\n",
       "      <th>confidence</th>\n",
       "      <th>version</th>\n",
       "      <th>bright_t31</th>\n",
       "      <th>frp</th>\n",
       "      <th>daynight</th>\n",
       "      <th>type</th>\n",
       "      <th>acq_datetime</th>\n",
       "    </tr>\n",
       "  </thead>\n",
       "  <tbody>\n",
       "    <tr>\n",
       "      <th>0</th>\n",
       "      <td>38.5422</td>\n",
       "      <td>-78.3047</td>\n",
       "      <td>304.8</td>\n",
       "      <td>2.8</td>\n",
       "      <td>1.6</td>\n",
       "      <td>Terra</td>\n",
       "      <td>23</td>\n",
       "      <td>6.03</td>\n",
       "      <td>280.9</td>\n",
       "      <td>40.3</td>\n",
       "      <td>N</td>\n",
       "      <td>0</td>\n",
       "      <td>2000-11-01 02:50:00</td>\n",
       "    </tr>\n",
       "    <tr>\n",
       "      <th>1</th>\n",
       "      <td>38.5451</td>\n",
       "      <td>-78.3107</td>\n",
       "      <td>309.9</td>\n",
       "      <td>2.8</td>\n",
       "      <td>1.6</td>\n",
       "      <td>Terra</td>\n",
       "      <td>79</td>\n",
       "      <td>6.03</td>\n",
       "      <td>280.7</td>\n",
       "      <td>58.8</td>\n",
       "      <td>N</td>\n",
       "      <td>0</td>\n",
       "      <td>2000-11-01 02:50:00</td>\n",
       "    </tr>\n",
       "    <tr>\n",
       "      <th>2</th>\n",
       "      <td>38.5563</td>\n",
       "      <td>-78.3084</td>\n",
       "      <td>309.4</td>\n",
       "      <td>2.8</td>\n",
       "      <td>1.6</td>\n",
       "      <td>Terra</td>\n",
       "      <td>70</td>\n",
       "      <td>6.03</td>\n",
       "      <td>280.4</td>\n",
       "      <td>54.5</td>\n",
       "      <td>N</td>\n",
       "      <td>0</td>\n",
       "      <td>2000-11-01 02:50:00</td>\n",
       "    </tr>\n",
       "    <tr>\n",
       "      <th>3</th>\n",
       "      <td>38.5586</td>\n",
       "      <td>-78.3170</td>\n",
       "      <td>302.3</td>\n",
       "      <td>2.8</td>\n",
       "      <td>1.6</td>\n",
       "      <td>Terra</td>\n",
       "      <td>45</td>\n",
       "      <td>6.03</td>\n",
       "      <td>279.8</td>\n",
       "      <td>36.0</td>\n",
       "      <td>N</td>\n",
       "      <td>0</td>\n",
       "      <td>2000-11-01 02:50:00</td>\n",
       "    </tr>\n",
       "    <tr>\n",
       "      <th>4</th>\n",
       "      <td>31.3393</td>\n",
       "      <td>-89.9124</td>\n",
       "      <td>304.9</td>\n",
       "      <td>1.0</td>\n",
       "      <td>1.0</td>\n",
       "      <td>Terra</td>\n",
       "      <td>62</td>\n",
       "      <td>6.03</td>\n",
       "      <td>287.5</td>\n",
       "      <td>8.5</td>\n",
       "      <td>N</td>\n",
       "      <td>0</td>\n",
       "      <td>2000-11-01 04:27:00</td>\n",
       "    </tr>\n",
       "    <tr>\n",
       "      <th>...</th>\n",
       "      <td>...</td>\n",
       "      <td>...</td>\n",
       "      <td>...</td>\n",
       "      <td>...</td>\n",
       "      <td>...</td>\n",
       "      <td>...</td>\n",
       "      <td>...</td>\n",
       "      <td>...</td>\n",
       "      <td>...</td>\n",
       "      <td>...</td>\n",
       "      <td>...</td>\n",
       "      <td>...</td>\n",
       "      <td>...</td>\n",
       "    </tr>\n",
       "    <tr>\n",
       "      <th>2960417</th>\n",
       "      <td>41.6966</td>\n",
       "      <td>-99.1437</td>\n",
       "      <td>319.8</td>\n",
       "      <td>1.1</td>\n",
       "      <td>1.0</td>\n",
       "      <td>Aqua</td>\n",
       "      <td>80</td>\n",
       "      <td>61.03</td>\n",
       "      <td>284.7</td>\n",
       "      <td>21.2</td>\n",
       "      <td>D</td>\n",
       "      <td>0</td>\n",
       "      <td>2025-01-31 20:28:00</td>\n",
       "    </tr>\n",
       "    <tr>\n",
       "      <th>2960418</th>\n",
       "      <td>42.4419</td>\n",
       "      <td>-94.3783</td>\n",
       "      <td>300.6</td>\n",
       "      <td>1.2</td>\n",
       "      <td>1.1</td>\n",
       "      <td>Aqua</td>\n",
       "      <td>40</td>\n",
       "      <td>61.03</td>\n",
       "      <td>284.3</td>\n",
       "      <td>6.3</td>\n",
       "      <td>D</td>\n",
       "      <td>0</td>\n",
       "      <td>2025-01-31 20:28:00</td>\n",
       "    </tr>\n",
       "    <tr>\n",
       "      <th>2960419</th>\n",
       "      <td>41.4014</td>\n",
       "      <td>-97.9485</td>\n",
       "      <td>319.9</td>\n",
       "      <td>1.0</td>\n",
       "      <td>1.0</td>\n",
       "      <td>Aqua</td>\n",
       "      <td>80</td>\n",
       "      <td>61.03</td>\n",
       "      <td>284.9</td>\n",
       "      <td>19.0</td>\n",
       "      <td>D</td>\n",
       "      <td>0</td>\n",
       "      <td>2025-01-31 20:28:00</td>\n",
       "    </tr>\n",
       "    <tr>\n",
       "      <th>2960420</th>\n",
       "      <td>41.4032</td>\n",
       "      <td>-97.9369</td>\n",
       "      <td>322.9</td>\n",
       "      <td>1.0</td>\n",
       "      <td>1.0</td>\n",
       "      <td>Aqua</td>\n",
       "      <td>82</td>\n",
       "      <td>61.03</td>\n",
       "      <td>285.0</td>\n",
       "      <td>22.1</td>\n",
       "      <td>D</td>\n",
       "      <td>0</td>\n",
       "      <td>2025-01-31 20:28:00</td>\n",
       "    </tr>\n",
       "    <tr>\n",
       "      <th>2960421</th>\n",
       "      <td>42.7180</td>\n",
       "      <td>-120.4872</td>\n",
       "      <td>303.0</td>\n",
       "      <td>1.1</td>\n",
       "      <td>1.0</td>\n",
       "      <td>Aqua</td>\n",
       "      <td>51</td>\n",
       "      <td>61.03</td>\n",
       "      <td>281.1</td>\n",
       "      <td>7.8</td>\n",
       "      <td>D</td>\n",
       "      <td>0</td>\n",
       "      <td>2025-01-31 22:07:00</td>\n",
       "    </tr>\n",
       "  </tbody>\n",
       "</table>\n",
       "<p>2960422 rows × 13 columns</p>\n",
       "</div>"
      ]
     },
     "execution_count": 18,
     "metadata": {},
     "output_type": "execute_result"
    }
   ],
   "execution_count": 18
  },
  {
   "metadata": {
    "ExecuteTime": {
     "end_time": "2025-06-25T21:24:20.088419Z",
     "start_time": "2025-06-25T21:24:19.962817Z"
    }
   },
   "cell_type": "code",
   "source": "data['satellite'].unique()",
   "id": "d0156549cb504d6a",
   "outputs": [
    {
     "data": {
      "text/plain": [
       "array(['Terra', 'Aqua'], dtype=object)"
      ]
     },
     "execution_count": 19,
     "metadata": {},
     "output_type": "execute_result"
    }
   ],
   "execution_count": 19
  },
  {
   "metadata": {
    "ExecuteTime": {
     "end_time": "2025-06-25T21:24:44.135346Z",
     "start_time": "2025-06-25T21:24:21.684494Z"
    }
   },
   "cell_type": "code",
   "source": [
    "from statsmodels.stats.outliers_influence import variance_inflation_factor\n",
    "from statsmodels.tools.tools import add_constant\n",
    "\n",
    "data_vif = add_constant(data[['latitude','longitude','brightness','scan','track','confidence','version','bright_t31','frp','daynight','acq_datetime','satellite']])\n",
    "data_vif['daynight']=data_vif['daynight'].map({'N':0,'D':1})\n",
    "data_vif['acq_datetime'] = data_vif['acq_datetime'].apply(lambda x: x.toordinal())\n",
    "data_vif['satellite']=data_vif['satellite'].map({\"Terra\":0,'Aqua':1})\n",
    "\n",
    "vif_data = pd.DataFrame()\n",
    "vif_data[\"Feature\"] = data_vif.columns\n",
    "vif_data[\"VIF\"] = [variance_inflation_factor(data_vif.values, i) for i in range(data_vif.shape[1])]\n",
    "\n",
    "print(vif_data)"
   ],
   "id": "6852c3787dd54a85",
   "outputs": [
    {
     "name": "stdout",
     "output_type": "stream",
     "text": [
      "         Feature            VIF\n",
      "0          const  114704.219699\n",
      "1       latitude       1.743922\n",
      "2      longitude       2.104653\n",
      "3     brightness       3.963634\n",
      "4           scan      30.145053\n",
      "5          track      30.044903\n",
      "6     confidence       1.746700\n",
      "7        version       1.263674\n",
      "8     bright_t31       1.799523\n",
      "9            frp       2.037467\n",
      "10      daynight       1.395078\n",
      "11  acq_datetime       1.272880\n",
      "12     satellite       1.041884\n"
     ]
    }
   ],
   "execution_count": 20
  },
  {
   "metadata": {
    "ExecuteTime": {
     "end_time": "2025-06-25T21:25:24.363216Z",
     "start_time": "2025-06-25T21:25:20.891678Z"
    }
   },
   "cell_type": "code",
   "source": [
    "from statsmodels.stats.outliers_influence import variance_inflation_factor\n",
    "from statsmodels.tools.tools import add_constant\n",
    "\n",
    "data_vif = add_constant(data[['latitude','longitude','brightness','confidence','bright_t31','frp']])\n",
    "\n",
    "vif_data = pd.DataFrame()\n",
    "vif_data[\"Feature\"] = data_vif.columns\n",
    "vif_data[\"VIF\"] = [variance_inflation_factor(data_vif.values, i) for i in range(data_vif.shape[1])]\n",
    "\n",
    "print(vif_data)"
   ],
   "id": "5c487bc394cc0034",
   "outputs": [
    {
     "name": "stdout",
     "output_type": "stream",
     "text": [
      "      Feature          VIF\n",
      "0       const  1128.215662\n",
      "1    latitude     1.690825\n",
      "2   longitude     1.793616\n",
      "3  brightness     3.788937\n",
      "4  confidence     1.701307\n",
      "5  bright_t31     1.657724\n",
      "6         frp     1.822206\n"
     ]
    }
   ],
   "execution_count": 21
  }
 ],
 "metadata": {
  "kernelspec": {
   "display_name": "Python 3",
   "language": "python",
   "name": "python3"
  },
  "language_info": {
   "codemirror_mode": {
    "name": "ipython",
    "version": 2
   },
   "file_extension": ".py",
   "mimetype": "text/x-python",
   "name": "python",
   "nbconvert_exporter": "python",
   "pygments_lexer": "ipython2",
   "version": "2.7.6"
  }
 },
 "nbformat": 4,
 "nbformat_minor": 5
}
